{
 "cells": [
  {
   "cell_type": "markdown",
   "id": "4045e17a-be9f-4b5a-905d-ded1c128fcb3",
   "metadata": {},
   "source": [
    "# Open synthetic data"
   ]
  },
  {
   "cell_type": "code",
   "execution_count": 20,
   "id": "e38dd7c0-2093-4b79-a740-3b651f0f50ee",
   "metadata": {},
   "outputs": [
    {
     "name": "stdout",
     "output_type": "stream",
     "text": [
      "list of all files : \n",
      " ['only_sea_session_2.csv', 'only_sea_session_1.csv', 'only_ground_session_2.csv', 'mixed_session_1.csv', 'mixed_session_3.csv', 'mixed_session_2.csv', 'only_ground_session_1.csv']\n"
     ]
    }
   ],
   "source": [
    "import os\n",
    "import pandas as pd\n",
    "import numpy as np\n",
    "from tqdm import tqdm\n",
    "\n",
    "path = '/home/INT/grimaldi.a/Documents/projets/WP3/data'\n",
    "list = os.listdir(path)\n",
    "print(f'list of all files : \\n {list}')\n",
    "\n",
    "if not os.path.exists('../Records/'):\n",
    "    os.mkdir('../Records/')\n",
    "    os.mkdir('../Records/model/')\n",
    "    os.mkdir('../Records/train/')\n",
    "    os.mkdir('../Records/test/')\n",
    "\n",
    "labelz = [0,0,1,2,2,2,1] # 0 for 'sea' and 1 for 'ground'\n",
    "x_index, y_index, t_index, p_index = 0, 1, 2, 3\n",
    "\n",
    "def load_data_patches(path, rec_number, patch_size, time_limit):\n",
    "    events_stacked = np.array([])\n",
    "    label_stacked = []\n",
    "    indices = [0]\n",
    "    for num in rec_number:\n",
    "        fname_csv = f'{path}/{list[num]}'\n",
    "        df = pd.read_csv(fname_csv)\n",
    "        events = np.zeros([df.shape[0],4]).astype(int)\n",
    "        events[:,[x_index, y_index, p_index]] = df.values[:,[x_index,y_index,4]]\n",
    "        t_sec = df.values[:,2]\n",
    "        t_nsec = df.values[:,3]\n",
    "        initial_time = t_sec[0]*1e6+t_nsec[0]*1e-3\n",
    "        events[:,t_index] = t_sec[:]*1e6+t_nsec[:]*1e-3-initial_time\n",
    "        label = labelz[num]\n",
    "        print(f'file name: {list[num]} \\n total number of events: {len(events)} \\n recording time: {events[-1,t_index]*1e-6} sec \\n \\n')\n",
    "        width, height = max(events[:,x_index]), max(events[:,y_index])\n",
    "        pbar = tqdm(total=width//patch_size*height//patch_size*events[-1,t_index]//time_limit)\n",
    "        for x in range(width//patch_size):\n",
    "            for y in range(height//patch_size):\n",
    "                for t in range(events[-1,t_index]//time_limit):\n",
    "                    events_patch = events[(events[:,t_index]>=t*time_limit)&(events[:,t_index]<(t+1)*time_limit)&\n",
    "                                   (events[:,x_index]>=x*patch_size)&(events[:,x_index]<(x+1)*patch_size)&\n",
    "                                   (events[:,y_index]>=x*patch_size)&(events[:,y_index]<(x+1)*patch_size)]\n",
    "                    print(np.max(events_patch[:,x_index]))\n",
    "                    events_patch[:,x_index] -= x*patch_size\n",
    "                    print(np.max(events_patch[:,x_index]))\n",
    "                    events_patch[:,y_index] -= y*patch_size\n",
    "                    events_patch[:,t_index] -= t*time_limit\n",
    "                    indices.append(indices[-1]+events_patch.shape[0])\n",
    "                    label_stacked.append(label)\n",
    "                    events_stacked = np.vstack([events_stacked, events_patch]) if events_stacked.size else events\n",
    "                    pbar.update(1)\n",
    "        pbar.close()\n",
    "    return events_stacked, label_stacked, indices"
   ]
  },
  {
   "cell_type": "code",
   "execution_count": 21,
   "id": "18814d91-7e85-437d-bd58-d3298acec2f2",
   "metadata": {},
   "outputs": [
    {
     "name": "stdout",
     "output_type": "stream",
     "text": [
      "file name: only_sea_session_1.csv \n",
      " total number of events: 597879 \n",
      " recording time: 318.227 sec \n",
      " \n",
      "\n"
     ]
    },
    {
     "name": "stderr",
     "output_type": "stream",
     "text": [
      " 92%|█████████████████████████████████████████████████████████████████████████████████████████████████████████████████████████████████████████████████████▌            | 1116/1209 [00:13<00:01, 80.00it/s]\n"
     ]
    },
    {
     "name": "stdout",
     "output_type": "stream",
     "text": [
      "file name: only_ground_session_1.csv \n",
      " total number of events: 14722172 \n",
      " recording time: 237.22899999999998 sec \n",
      " \n",
      "\n"
     ]
    },
    {
     "name": "stderr",
     "output_type": "stream",
     "text": [
      " 92%|██████████████████████████████████████████████████████████████████████████████████████████████████████████████████████████████████████████████████████▋             | 828/901 [04:36<00:24,  3.00it/s]\n"
     ]
    }
   ],
   "source": [
    "patch_R = 20\n",
    "duration = int(1e7)\n",
    "events_train, label_train, indices_train = load_data_patches(path, [1,6], patch_R, duration)"
   ]
  },
  {
   "cell_type": "code",
   "execution_count": 26,
   "id": "57f1550a-39bf-48ea-9a8d-4d8b1c4741a3",
   "metadata": {},
   "outputs": [
    {
     "name": "stdout",
     "output_type": "stream",
     "text": [
      "(13216670, 4)\n",
      "318227000\n"
     ]
    }
   ],
   "source": [
    "print(events_train.shape)\n",
    "print(np.max(events_train[:,t_index]))"
   ]
  },
  {
   "cell_type": "code",
   "execution_count": 23,
   "id": "16ff5325-7fc0-4e48-b33b-97dd6bffea4a",
   "metadata": {},
   "outputs": [
    {
     "name": "stdout",
     "output_type": "stream",
     "text": [
      "6795.203084832905\n"
     ]
    }
   ],
   "source": [
    "print(events_train.shape[0]/len(indices_train))"
   ]
  },
  {
   "cell_type": "markdown",
   "id": "7042ba58-c99f-4b86-b888-f9c4df2cd469",
   "metadata": {},
   "source": [
    "There are way more events for ground compare to sea data"
   ]
  },
  {
   "cell_type": "markdown",
   "id": "4ade88df-2ac4-43d9-b613-f66b80ea708c",
   "metadata": {},
   "source": [
    "# Make training and testing datasets with patches"
   ]
  },
  {
   "cell_type": "code",
   "execution_count": 7,
   "id": "df96daff-6624-4fdc-9765-e81c5a267415",
   "metadata": {},
   "outputs": [],
   "source": [
    "import tonic\n",
    "from torch.utils.data import Dataset\n",
    "\n",
    "class AERDataset(Dataset):\n",
    "    def __init__(self, tensors, indices, name, transform=None, nb_pola=2):\n",
    "        self.X_train, self.y_train = tensors\n",
    "        self.transform = transform\n",
    "        self.indices = indices\n",
    "        self.ordering = \"xytp\"\n",
    "        assert (len(self.indices)-1 == len(self.y_train))\n",
    "\n",
    "        if name=='aprovisynt':\n",
    "            self.classes = [\"sea\", \"ground\"]\n",
    "            self.sensor_size = [128, 128]\n",
    "\n",
    "    def __getitem__(self, index):\n",
    "        events = self.X_train[self.indices[index]:self.indices[index+1]]\n",
    "        if self.transform:\n",
    "            events = self.transform(events, self.sensor_size, self.ordering)\n",
    "        target = self.y_train[index]\n",
    "        return events.astype(float), target\n",
    "\n",
    "    def __len__(self):\n",
    "        return len(self.y_train)"
   ]
  },
  {
   "cell_type": "code",
   "execution_count": 13,
   "id": "c596a2ec-7ea2-4d77-a013-59ec8598314c",
   "metadata": {},
   "outputs": [],
   "source": [
    "patch_size = (21,21)\n",
    "tau = 1e4\n",
    "# ajouter num_workers si besoin!\n",
    "transform = tonic.transforms.Compose([tonic.transforms.ToTimesurface(surface_dimensions=None, tau=tau, decay=\"exp\")])\n",
    "train_dataset = AERDataset(tensors=(events_train, label_train), indices=indices_train, name = 'aprovisynt', transform=transform)\n",
    "loader = tonic.datasets.DataLoader(train_dataset, shuffle=True)"
   ]
  },
  {
   "cell_type": "code",
   "execution_count": 14,
   "id": "965fbac1-fbd2-46a2-a4f5-e94261c642d2",
   "metadata": {},
   "outputs": [],
   "source": [
    "surfaces, images = next(iter(loader))"
   ]
  },
  {
   "cell_type": "code",
   "execution_count": 15,
   "id": "43664270-5faf-468e-aab4-7fe48d0e8c67",
   "metadata": {},
   "outputs": [
    {
     "name": "stdout",
     "output_type": "stream",
     "text": [
      "torch.Size([1, 137, 2, 7, 7]) tensor([0])\n"
     ]
    }
   ],
   "source": [
    "print(surfaces.shape, images)"
   ]
  },
  {
   "cell_type": "code",
   "execution_count": 14,
   "id": "18044e18-54c2-4482-94b7-5b9bc585311c",
   "metadata": {},
   "outputs": [
    {
     "name": "stdout",
     "output_type": "stream",
     "text": [
      "../Records/model/2021-09-21_lagorce_rdn_None_True_[0.25, 1]_[4, 8, 16]_[10.0, 100.0, 1000.0]_[2, 4, 8]_False.pkl\n"
     ]
    }
   ],
   "source": [
    "\n",
    "with open(f_name, 'wb') as file:\n",
    "    pickle.dump(aprovhots, file, pickle.HIGHEST_PROTOCOL)"
   ]
  },
  {
   "cell_type": "markdown",
   "id": "a717a7bd-35a9-43b4-85f8-30040c993561",
   "metadata": {},
   "source": [
    "# MLR on a set of events\n",
    "## Transform event stream with HOTS"
   ]
  },
  {
   "cell_type": "code",
   "execution_count": 2,
   "id": "84755249-9357-4cb3-980c-0aa6c2a1c26a",
   "metadata": {},
   "outputs": [],
   "source": [
    "with open(f_name, 'rb') as file:\n",
    "    aprovhots = pickle.load(file)"
   ]
  },
  {
   "cell_type": "code",
   "execution_count": 5,
   "id": "b0a620c5-5ce1-4ead-9b29-c5a84f971628",
   "metadata": {},
   "outputs": [
    {
     "name": "stdout",
     "output_type": "stream",
     "text": [
      "file name: only_sea_session_2.csv \n",
      " total number of events: 194278 \n",
      " recording time: 338.597 sec \n",
      " \n",
      "\n"
     ]
    },
    {
     "name": "stderr",
     "output_type": "stream",
     "text": [
      "  0%|                                                                                                                                                                           | 0/194278 [00:00<?, ?it/s]/home/INT/grimaldi.a/Documents/projets/HOTS/HOTS/HOTS/TimeSurface.py:84: RuntimeWarning: overflow encountered in exp\n",
      "  self.spatpmat = self.spatpmat*np.exp(-(float(tev-self.t))/self.tau)\n",
      "/home/INT/grimaldi.a/Documents/projets/HOTS/HOTS/HOTS/TimeSurface.py:84: RuntimeWarning: invalid value encountered in multiply\n",
      "  self.spatpmat = self.spatpmat*np.exp(-(float(tev-self.t))/self.tau)\n",
      "  2%|███▌                                                                                                                                                           | 4302/194278 [00:11<07:54, 400.21it/s]/home/INT/grimaldi.a/Documents/projets/HOTS/HOTS/HOTS/TimeSurface.py:122: RuntimeWarning: invalid value encountered in true_divide\n",
      "  TS /= normTS\n",
      " 25%|████████████████████████████████████████                                                                                                                      | 49333/194278 [03:10<09:18, 259.32it/s]\n"
     ]
    },
    {
     "name": "stdout",
     "output_type": "stream",
     "text": [
      "file name: only_ground_session_2.csv \n",
      " total number of events: 15339967 \n",
      " recording time: 318.691 sec \n",
      " \n",
      "\n"
     ]
    },
    {
     "name": "stderr",
     "output_type": "stream",
     "text": [
      " 79%|███████████████████████████████████████████████████████████████████████████████████████████████████████████████████████████▉                                 | 473679/600000 [17:28<04:39, 451.98it/s]\n"
     ]
    },
    {
     "ename": "FileNotFoundError",
     "evalue": "[Errno 2] No such file or directory: '../Records/train/2021-09-21_lagorce_rdn_None_True_[0.25, 1]_[4, 8, 16]_[10.0, 100.0, 1000.0]_[2, 4, 8]_False.pkl'",
     "output_type": "error",
     "traceback": [
      "\u001b[0;31m---------------------------------------------------------------------------\u001b[0m",
      "\u001b[0;31mFileNotFoundError\u001b[0m                         Traceback (most recent call last)",
      "\u001b[0;32m/tmp/ipykernel_361339/217554980.py\u001b[0m in \u001b[0;36m<module>\u001b[0;34m\u001b[0m\n\u001b[1;32m     26\u001b[0m \u001b[0;34m\u001b[0m\u001b[0m\n\u001b[1;32m     27\u001b[0m \u001b[0mf_name\u001b[0m \u001b[0;34m=\u001b[0m \u001b[0;34mf'../Records/train/{aprovhots.get_fname()}.pkl'\u001b[0m\u001b[0;34m\u001b[0m\u001b[0;34m\u001b[0m\u001b[0m\n\u001b[0;32m---> 28\u001b[0;31m \u001b[0;32mwith\u001b[0m \u001b[0mopen\u001b[0m\u001b[0;34m(\u001b[0m\u001b[0mf_name\u001b[0m\u001b[0;34m,\u001b[0m \u001b[0;34m'wb'\u001b[0m\u001b[0;34m)\u001b[0m \u001b[0;32mas\u001b[0m \u001b[0mfile\u001b[0m\u001b[0;34m:\u001b[0m\u001b[0;34m\u001b[0m\u001b[0;34m\u001b[0m\u001b[0m\n\u001b[0m\u001b[1;32m     29\u001b[0m     \u001b[0mpickle\u001b[0m\u001b[0;34m.\u001b[0m\u001b[0mdump\u001b[0m\u001b[0;34m(\u001b[0m\u001b[0meventsout\u001b[0m\u001b[0;34m,\u001b[0m \u001b[0mfile\u001b[0m\u001b[0;34m,\u001b[0m \u001b[0mpickle\u001b[0m\u001b[0;34m.\u001b[0m\u001b[0mHIGHEST_PROTOCOL\u001b[0m\u001b[0;34m)\u001b[0m\u001b[0;34m\u001b[0m\u001b[0;34m\u001b[0m\u001b[0m\n",
      "\u001b[0;31mFileNotFoundError\u001b[0m: [Errno 2] No such file or directory: '../Records/train/2021-09-21_lagorce_rdn_None_True_[0.25, 1]_[4, 8, 16]_[10.0, 100.0, 1000.0]_[2, 4, 8]_False.pkl'"
     ]
    }
   ],
   "source": [
    "nb_max = int(6e5)\n",
    "\n",
    "timout = []\n",
    "xout = []\n",
    "yout = []\n",
    "polout = []\n",
    "labout = []\n",
    "for rec_number in [0,2]:\n",
    "    events, label = load_data(path, rec_number)\n",
    "    nbevents = min(len(events), nb_max)\n",
    "    pbar = tqdm(total=nbevents)\n",
    "    for i in range(nbevents):\n",
    "        x, y, t, p = events[i,[x_index, y_index, t_index, p_index ]]\n",
    "        out, activout = aprovhots.run(x, y, t, p, learn=False, to_record=False)\n",
    "        if activout:\n",
    "            xout.append(out[0])\n",
    "            yout.append(out[1])\n",
    "            timout.append(out[2])\n",
    "            polout.append(out[3])\n",
    "            labout.append(label)\n",
    "            pbar.update(1)\n",
    "    camsize = aprovhots.TS[-1].camsize\n",
    "    nbpola = aprovhots.L[-1].kernel.shape[1]\n",
    "    eventsout = [xout,yout,timout,polout,labout,camsize,nbpola]\n",
    "    pbar.close()\n",
    "\n",
    "f_name = f'../Records/train/{aprovhots.get_fname()}.pkl'\n",
    "with open(f_name, 'wb') as file:\n",
    "    pickle.dump(eventsout, file, pickle.HIGHEST_PROTOCOL)"
   ]
  },
  {
   "cell_type": "markdown",
   "id": "9cb35a28-3c32-43eb-a002-f826b61bd5d7",
   "metadata": {},
   "source": [
    "## Build a MLR model with outputs of HOTS"
   ]
  },
  {
   "cell_type": "code",
   "execution_count": 12,
   "id": "9dda8fed-4282-4775-aacb-bca571874709",
   "metadata": {},
   "outputs": [],
   "source": [
    "import torch, tonic\n",
    "from HOTS.Tools import LRtorch, getdigind, AERtoVectDataset\n",
    "f_name = f'../Records/train/{aprovhots.get_fname()}.pkl'\n",
    "with open(f_name, 'rb') as file:\n",
    "    eventsout = pickle.load(file)"
   ]
  },
  {
   "cell_type": "code",
   "execution_count": 13,
   "id": "5f1018f0-a7f7-4bbd-8d2f-98945922d0ff",
   "metadata": {},
   "outputs": [
    {
     "name": "stdout",
     "output_type": "stream",
     "text": [
      "device -> cuda - num workers -> 1\n"
     ]
    },
    {
     "name": "stderr",
     "output_type": "stream",
     "text": [
      "  0%|                                                                                                                                                                               | 0/33 [00:00<?, ?it/s]"
     ]
    },
    {
     "ename": "RuntimeError",
     "evalue": "DataLoader worker (pid(s) 363973) exited unexpectedly",
     "output_type": "error",
     "traceback": [
      "\u001b[0;31m---------------------------------------------------------------------------\u001b[0m",
      "\u001b[0;31mRuntimeError\u001b[0m                              Traceback (most recent call last)",
      "\u001b[0;32m/usr/local/lib/python3.8/dist-packages/torch/utils/data/dataloader.py\u001b[0m in \u001b[0;36m_try_get_data\u001b[0;34m(self, timeout)\u001b[0m\n\u001b[1;32m    989\u001b[0m         \u001b[0;32mtry\u001b[0m\u001b[0;34m:\u001b[0m\u001b[0;34m\u001b[0m\u001b[0;34m\u001b[0m\u001b[0m\n\u001b[0;32m--> 990\u001b[0;31m             \u001b[0mdata\u001b[0m \u001b[0;34m=\u001b[0m \u001b[0mself\u001b[0m\u001b[0;34m.\u001b[0m\u001b[0m_data_queue\u001b[0m\u001b[0;34m.\u001b[0m\u001b[0mget\u001b[0m\u001b[0;34m(\u001b[0m\u001b[0mtimeout\u001b[0m\u001b[0;34m=\u001b[0m\u001b[0mtimeout\u001b[0m\u001b[0;34m)\u001b[0m\u001b[0;34m\u001b[0m\u001b[0;34m\u001b[0m\u001b[0m\n\u001b[0m\u001b[1;32m    991\u001b[0m             \u001b[0;32mreturn\u001b[0m \u001b[0;34m(\u001b[0m\u001b[0;32mTrue\u001b[0m\u001b[0;34m,\u001b[0m \u001b[0mdata\u001b[0m\u001b[0;34m)\u001b[0m\u001b[0;34m\u001b[0m\u001b[0;34m\u001b[0m\u001b[0m\n",
      "\u001b[0;32m/usr/lib/python3.8/multiprocessing/queues.py\u001b[0m in \u001b[0;36mget\u001b[0;34m(self, block, timeout)\u001b[0m\n\u001b[1;32m    106\u001b[0m                     \u001b[0mtimeout\u001b[0m \u001b[0;34m=\u001b[0m \u001b[0mdeadline\u001b[0m \u001b[0;34m-\u001b[0m \u001b[0mtime\u001b[0m\u001b[0;34m.\u001b[0m\u001b[0mmonotonic\u001b[0m\u001b[0;34m(\u001b[0m\u001b[0;34m)\u001b[0m\u001b[0;34m\u001b[0m\u001b[0;34m\u001b[0m\u001b[0m\n\u001b[0;32m--> 107\u001b[0;31m                     \u001b[0;32mif\u001b[0m \u001b[0;32mnot\u001b[0m \u001b[0mself\u001b[0m\u001b[0;34m.\u001b[0m\u001b[0m_poll\u001b[0m\u001b[0;34m(\u001b[0m\u001b[0mtimeout\u001b[0m\u001b[0;34m)\u001b[0m\u001b[0;34m:\u001b[0m\u001b[0;34m\u001b[0m\u001b[0;34m\u001b[0m\u001b[0m\n\u001b[0m\u001b[1;32m    108\u001b[0m                         \u001b[0;32mraise\u001b[0m \u001b[0mEmpty\u001b[0m\u001b[0;34m\u001b[0m\u001b[0;34m\u001b[0m\u001b[0m\n",
      "\u001b[0;32m/usr/lib/python3.8/multiprocessing/connection.py\u001b[0m in \u001b[0;36mpoll\u001b[0;34m(self, timeout)\u001b[0m\n\u001b[1;32m    256\u001b[0m         \u001b[0mself\u001b[0m\u001b[0;34m.\u001b[0m\u001b[0m_check_readable\u001b[0m\u001b[0;34m(\u001b[0m\u001b[0;34m)\u001b[0m\u001b[0;34m\u001b[0m\u001b[0;34m\u001b[0m\u001b[0m\n\u001b[0;32m--> 257\u001b[0;31m         \u001b[0;32mreturn\u001b[0m \u001b[0mself\u001b[0m\u001b[0;34m.\u001b[0m\u001b[0m_poll\u001b[0m\u001b[0;34m(\u001b[0m\u001b[0mtimeout\u001b[0m\u001b[0;34m)\u001b[0m\u001b[0;34m\u001b[0m\u001b[0;34m\u001b[0m\u001b[0m\n\u001b[0m\u001b[1;32m    258\u001b[0m \u001b[0;34m\u001b[0m\u001b[0m\n",
      "\u001b[0;32m/usr/lib/python3.8/multiprocessing/connection.py\u001b[0m in \u001b[0;36m_poll\u001b[0;34m(self, timeout)\u001b[0m\n\u001b[1;32m    423\u001b[0m     \u001b[0;32mdef\u001b[0m \u001b[0m_poll\u001b[0m\u001b[0;34m(\u001b[0m\u001b[0mself\u001b[0m\u001b[0;34m,\u001b[0m \u001b[0mtimeout\u001b[0m\u001b[0;34m)\u001b[0m\u001b[0;34m:\u001b[0m\u001b[0;34m\u001b[0m\u001b[0;34m\u001b[0m\u001b[0m\n\u001b[0;32m--> 424\u001b[0;31m         \u001b[0mr\u001b[0m \u001b[0;34m=\u001b[0m \u001b[0mwait\u001b[0m\u001b[0;34m(\u001b[0m\u001b[0;34m[\u001b[0m\u001b[0mself\u001b[0m\u001b[0;34m]\u001b[0m\u001b[0;34m,\u001b[0m \u001b[0mtimeout\u001b[0m\u001b[0;34m)\u001b[0m\u001b[0;34m\u001b[0m\u001b[0;34m\u001b[0m\u001b[0m\n\u001b[0m\u001b[1;32m    425\u001b[0m         \u001b[0;32mreturn\u001b[0m \u001b[0mbool\u001b[0m\u001b[0;34m(\u001b[0m\u001b[0mr\u001b[0m\u001b[0;34m)\u001b[0m\u001b[0;34m\u001b[0m\u001b[0;34m\u001b[0m\u001b[0m\n",
      "\u001b[0;32m/usr/lib/python3.8/multiprocessing/connection.py\u001b[0m in \u001b[0;36mwait\u001b[0;34m(object_list, timeout)\u001b[0m\n\u001b[1;32m    930\u001b[0m             \u001b[0;32mwhile\u001b[0m \u001b[0;32mTrue\u001b[0m\u001b[0;34m:\u001b[0m\u001b[0;34m\u001b[0m\u001b[0;34m\u001b[0m\u001b[0m\n\u001b[0;32m--> 931\u001b[0;31m                 \u001b[0mready\u001b[0m \u001b[0;34m=\u001b[0m \u001b[0mselector\u001b[0m\u001b[0;34m.\u001b[0m\u001b[0mselect\u001b[0m\u001b[0;34m(\u001b[0m\u001b[0mtimeout\u001b[0m\u001b[0;34m)\u001b[0m\u001b[0;34m\u001b[0m\u001b[0;34m\u001b[0m\u001b[0m\n\u001b[0m\u001b[1;32m    932\u001b[0m                 \u001b[0;32mif\u001b[0m \u001b[0mready\u001b[0m\u001b[0;34m:\u001b[0m\u001b[0;34m\u001b[0m\u001b[0;34m\u001b[0m\u001b[0m\n",
      "\u001b[0;32m/usr/lib/python3.8/selectors.py\u001b[0m in \u001b[0;36mselect\u001b[0;34m(self, timeout)\u001b[0m\n\u001b[1;32m    414\u001b[0m         \u001b[0;32mtry\u001b[0m\u001b[0;34m:\u001b[0m\u001b[0;34m\u001b[0m\u001b[0;34m\u001b[0m\u001b[0m\n\u001b[0;32m--> 415\u001b[0;31m             \u001b[0mfd_event_list\u001b[0m \u001b[0;34m=\u001b[0m \u001b[0mself\u001b[0m\u001b[0;34m.\u001b[0m\u001b[0m_selector\u001b[0m\u001b[0;34m.\u001b[0m\u001b[0mpoll\u001b[0m\u001b[0;34m(\u001b[0m\u001b[0mtimeout\u001b[0m\u001b[0;34m)\u001b[0m\u001b[0;34m\u001b[0m\u001b[0;34m\u001b[0m\u001b[0m\n\u001b[0m\u001b[1;32m    416\u001b[0m         \u001b[0;32mexcept\u001b[0m \u001b[0mInterruptedError\u001b[0m\u001b[0;34m:\u001b[0m\u001b[0;34m\u001b[0m\u001b[0;34m\u001b[0m\u001b[0m\n",
      "\u001b[0;32m/usr/local/lib/python3.8/dist-packages/torch/utils/data/_utils/signal_handling.py\u001b[0m in \u001b[0;36mhandler\u001b[0;34m(signum, frame)\u001b[0m\n\u001b[1;32m     65\u001b[0m         \u001b[0;31m# Python can still get and update the process status successfully.\u001b[0m\u001b[0;34m\u001b[0m\u001b[0;34m\u001b[0m\u001b[0;34m\u001b[0m\u001b[0m\n\u001b[0;32m---> 66\u001b[0;31m         \u001b[0m_error_if_any_worker_fails\u001b[0m\u001b[0;34m(\u001b[0m\u001b[0;34m)\u001b[0m\u001b[0;34m\u001b[0m\u001b[0;34m\u001b[0m\u001b[0m\n\u001b[0m\u001b[1;32m     67\u001b[0m         \u001b[0;32mif\u001b[0m \u001b[0mprevious_handler\u001b[0m \u001b[0;32mis\u001b[0m \u001b[0;32mnot\u001b[0m \u001b[0;32mNone\u001b[0m\u001b[0;34m:\u001b[0m\u001b[0;34m\u001b[0m\u001b[0;34m\u001b[0m\u001b[0m\n",
      "\u001b[0;31mRuntimeError\u001b[0m: DataLoader worker (pid 363973) is killed by signal: Killed. ",
      "\nThe above exception was the direct cause of the following exception:\n",
      "\u001b[0;31mRuntimeError\u001b[0m                              Traceback (most recent call last)",
      "\u001b[0;32m/tmp/ipykernel_363661/1866131040.py\u001b[0m in \u001b[0;36m<module>\u001b[0;34m\u001b[0m\n\u001b[1;32m     48\u001b[0m \u001b[0;32mfor\u001b[0m \u001b[0mepoch\u001b[0m \u001b[0;32min\u001b[0m \u001b[0mrange\u001b[0m\u001b[0;34m(\u001b[0m\u001b[0mint\u001b[0m\u001b[0;34m(\u001b[0m\u001b[0mnum_epochs\u001b[0m\u001b[0;34m)\u001b[0m\u001b[0;34m)\u001b[0m\u001b[0;34m:\u001b[0m\u001b[0;34m\u001b[0m\u001b[0;34m\u001b[0m\u001b[0m\n\u001b[1;32m     49\u001b[0m     \u001b[0mlosses\u001b[0m \u001b[0;34m=\u001b[0m \u001b[0;34m[\u001b[0m\u001b[0;34m]\u001b[0m\u001b[0;34m\u001b[0m\u001b[0;34m\u001b[0m\u001b[0m\n\u001b[0;32m---> 50\u001b[0;31m     \u001b[0;32mfor\u001b[0m \u001b[0mX\u001b[0m\u001b[0;34m,\u001b[0m \u001b[0mlabel\u001b[0m \u001b[0;32min\u001b[0m \u001b[0mloader\u001b[0m\u001b[0;34m:\u001b[0m\u001b[0;34m\u001b[0m\u001b[0;34m\u001b[0m\u001b[0m\n\u001b[0m\u001b[1;32m     51\u001b[0m         \u001b[0mX\u001b[0m\u001b[0;34m,\u001b[0m \u001b[0mlabel\u001b[0m \u001b[0;34m=\u001b[0m \u001b[0mX\u001b[0m\u001b[0;34m.\u001b[0m\u001b[0mto\u001b[0m\u001b[0;34m(\u001b[0m\u001b[0mdevice\u001b[0m\u001b[0;34m)\u001b[0m\u001b[0;34m,\u001b[0m \u001b[0mlabel\u001b[0m\u001b[0;34m.\u001b[0m\u001b[0mto\u001b[0m\u001b[0;34m(\u001b[0m\u001b[0mdevice\u001b[0m\u001b[0;34m)\u001b[0m\u001b[0;34m\u001b[0m\u001b[0;34m\u001b[0m\u001b[0m\n\u001b[1;32m     52\u001b[0m         \u001b[0mX\u001b[0m\u001b[0;34m,\u001b[0m \u001b[0mlabel\u001b[0m \u001b[0;34m=\u001b[0m \u001b[0mX\u001b[0m\u001b[0;34m.\u001b[0m\u001b[0msqueeze\u001b[0m\u001b[0;34m(\u001b[0m\u001b[0;36m0\u001b[0m\u001b[0;34m)\u001b[0m\u001b[0;34m,\u001b[0m \u001b[0mlabel\u001b[0m\u001b[0;34m.\u001b[0m\u001b[0msqueeze\u001b[0m\u001b[0;34m(\u001b[0m\u001b[0;36m0\u001b[0m\u001b[0;34m)\u001b[0m\u001b[0;34m\u001b[0m\u001b[0;34m\u001b[0m\u001b[0m\n",
      "\u001b[0;32m/usr/local/lib/python3.8/dist-packages/torch/utils/data/dataloader.py\u001b[0m in \u001b[0;36m__next__\u001b[0;34m(self)\u001b[0m\n\u001b[1;32m    519\u001b[0m             \u001b[0;32mif\u001b[0m \u001b[0mself\u001b[0m\u001b[0;34m.\u001b[0m\u001b[0m_sampler_iter\u001b[0m \u001b[0;32mis\u001b[0m \u001b[0;32mNone\u001b[0m\u001b[0;34m:\u001b[0m\u001b[0;34m\u001b[0m\u001b[0;34m\u001b[0m\u001b[0m\n\u001b[1;32m    520\u001b[0m                 \u001b[0mself\u001b[0m\u001b[0;34m.\u001b[0m\u001b[0m_reset\u001b[0m\u001b[0;34m(\u001b[0m\u001b[0;34m)\u001b[0m\u001b[0;34m\u001b[0m\u001b[0;34m\u001b[0m\u001b[0m\n\u001b[0;32m--> 521\u001b[0;31m             \u001b[0mdata\u001b[0m \u001b[0;34m=\u001b[0m \u001b[0mself\u001b[0m\u001b[0;34m.\u001b[0m\u001b[0m_next_data\u001b[0m\u001b[0;34m(\u001b[0m\u001b[0;34m)\u001b[0m\u001b[0;34m\u001b[0m\u001b[0;34m\u001b[0m\u001b[0m\n\u001b[0m\u001b[1;32m    522\u001b[0m             \u001b[0mself\u001b[0m\u001b[0;34m.\u001b[0m\u001b[0m_num_yielded\u001b[0m \u001b[0;34m+=\u001b[0m \u001b[0;36m1\u001b[0m\u001b[0;34m\u001b[0m\u001b[0;34m\u001b[0m\u001b[0m\n\u001b[1;32m    523\u001b[0m             \u001b[0;32mif\u001b[0m \u001b[0mself\u001b[0m\u001b[0;34m.\u001b[0m\u001b[0m_dataset_kind\u001b[0m \u001b[0;34m==\u001b[0m \u001b[0m_DatasetKind\u001b[0m\u001b[0;34m.\u001b[0m\u001b[0mIterable\u001b[0m \u001b[0;32mand\u001b[0m\u001b[0;31m \u001b[0m\u001b[0;31m\\\u001b[0m\u001b[0;34m\u001b[0m\u001b[0;34m\u001b[0m\u001b[0m\n",
      "\u001b[0;32m/usr/local/lib/python3.8/dist-packages/torch/utils/data/dataloader.py\u001b[0m in \u001b[0;36m_next_data\u001b[0;34m(self)\u001b[0m\n\u001b[1;32m   1184\u001b[0m \u001b[0;34m\u001b[0m\u001b[0m\n\u001b[1;32m   1185\u001b[0m             \u001b[0;32massert\u001b[0m \u001b[0;32mnot\u001b[0m \u001b[0mself\u001b[0m\u001b[0;34m.\u001b[0m\u001b[0m_shutdown\u001b[0m \u001b[0;32mand\u001b[0m \u001b[0mself\u001b[0m\u001b[0;34m.\u001b[0m\u001b[0m_tasks_outstanding\u001b[0m \u001b[0;34m>\u001b[0m \u001b[0;36m0\u001b[0m\u001b[0;34m\u001b[0m\u001b[0;34m\u001b[0m\u001b[0m\n\u001b[0;32m-> 1186\u001b[0;31m             \u001b[0midx\u001b[0m\u001b[0;34m,\u001b[0m \u001b[0mdata\u001b[0m \u001b[0;34m=\u001b[0m \u001b[0mself\u001b[0m\u001b[0;34m.\u001b[0m\u001b[0m_get_data\u001b[0m\u001b[0;34m(\u001b[0m\u001b[0;34m)\u001b[0m\u001b[0;34m\u001b[0m\u001b[0;34m\u001b[0m\u001b[0m\n\u001b[0m\u001b[1;32m   1187\u001b[0m             \u001b[0mself\u001b[0m\u001b[0;34m.\u001b[0m\u001b[0m_tasks_outstanding\u001b[0m \u001b[0;34m-=\u001b[0m \u001b[0;36m1\u001b[0m\u001b[0;34m\u001b[0m\u001b[0;34m\u001b[0m\u001b[0m\n\u001b[1;32m   1188\u001b[0m             \u001b[0;32mif\u001b[0m \u001b[0mself\u001b[0m\u001b[0;34m.\u001b[0m\u001b[0m_dataset_kind\u001b[0m \u001b[0;34m==\u001b[0m \u001b[0m_DatasetKind\u001b[0m\u001b[0;34m.\u001b[0m\u001b[0mIterable\u001b[0m\u001b[0;34m:\u001b[0m\u001b[0;34m\u001b[0m\u001b[0;34m\u001b[0m\u001b[0m\n",
      "\u001b[0;32m/usr/local/lib/python3.8/dist-packages/torch/utils/data/dataloader.py\u001b[0m in \u001b[0;36m_get_data\u001b[0;34m(self)\u001b[0m\n\u001b[1;32m   1150\u001b[0m         \u001b[0;32melse\u001b[0m\u001b[0;34m:\u001b[0m\u001b[0;34m\u001b[0m\u001b[0;34m\u001b[0m\u001b[0m\n\u001b[1;32m   1151\u001b[0m             \u001b[0;32mwhile\u001b[0m \u001b[0;32mTrue\u001b[0m\u001b[0;34m:\u001b[0m\u001b[0;34m\u001b[0m\u001b[0;34m\u001b[0m\u001b[0m\n\u001b[0;32m-> 1152\u001b[0;31m                 \u001b[0msuccess\u001b[0m\u001b[0;34m,\u001b[0m \u001b[0mdata\u001b[0m \u001b[0;34m=\u001b[0m \u001b[0mself\u001b[0m\u001b[0;34m.\u001b[0m\u001b[0m_try_get_data\u001b[0m\u001b[0;34m(\u001b[0m\u001b[0;34m)\u001b[0m\u001b[0;34m\u001b[0m\u001b[0;34m\u001b[0m\u001b[0m\n\u001b[0m\u001b[1;32m   1153\u001b[0m                 \u001b[0;32mif\u001b[0m \u001b[0msuccess\u001b[0m\u001b[0;34m:\u001b[0m\u001b[0;34m\u001b[0m\u001b[0;34m\u001b[0m\u001b[0m\n\u001b[1;32m   1154\u001b[0m                     \u001b[0;32mreturn\u001b[0m \u001b[0mdata\u001b[0m\u001b[0;34m\u001b[0m\u001b[0;34m\u001b[0m\u001b[0m\n",
      "\u001b[0;32m/usr/local/lib/python3.8/dist-packages/torch/utils/data/dataloader.py\u001b[0m in \u001b[0;36m_try_get_data\u001b[0;34m(self, timeout)\u001b[0m\n\u001b[1;32m   1001\u001b[0m             \u001b[0;32mif\u001b[0m \u001b[0mlen\u001b[0m\u001b[0;34m(\u001b[0m\u001b[0mfailed_workers\u001b[0m\u001b[0;34m)\u001b[0m \u001b[0;34m>\u001b[0m \u001b[0;36m0\u001b[0m\u001b[0;34m:\u001b[0m\u001b[0;34m\u001b[0m\u001b[0;34m\u001b[0m\u001b[0m\n\u001b[1;32m   1002\u001b[0m                 \u001b[0mpids_str\u001b[0m \u001b[0;34m=\u001b[0m \u001b[0;34m', '\u001b[0m\u001b[0;34m.\u001b[0m\u001b[0mjoin\u001b[0m\u001b[0;34m(\u001b[0m\u001b[0mstr\u001b[0m\u001b[0;34m(\u001b[0m\u001b[0mw\u001b[0m\u001b[0;34m.\u001b[0m\u001b[0mpid\u001b[0m\u001b[0;34m)\u001b[0m \u001b[0;32mfor\u001b[0m \u001b[0mw\u001b[0m \u001b[0;32min\u001b[0m \u001b[0mfailed_workers\u001b[0m\u001b[0;34m)\u001b[0m\u001b[0;34m\u001b[0m\u001b[0;34m\u001b[0m\u001b[0m\n\u001b[0;32m-> 1003\u001b[0;31m                 \u001b[0;32mraise\u001b[0m \u001b[0mRuntimeError\u001b[0m\u001b[0;34m(\u001b[0m\u001b[0;34m'DataLoader worker (pid(s) {}) exited unexpectedly'\u001b[0m\u001b[0;34m.\u001b[0m\u001b[0mformat\u001b[0m\u001b[0;34m(\u001b[0m\u001b[0mpids_str\u001b[0m\u001b[0;34m)\u001b[0m\u001b[0;34m)\u001b[0m \u001b[0;32mfrom\u001b[0m \u001b[0me\u001b[0m\u001b[0;34m\u001b[0m\u001b[0;34m\u001b[0m\u001b[0m\n\u001b[0m\u001b[1;32m   1004\u001b[0m             \u001b[0;32mif\u001b[0m \u001b[0misinstance\u001b[0m\u001b[0;34m(\u001b[0m\u001b[0me\u001b[0m\u001b[0;34m,\u001b[0m \u001b[0mqueue\u001b[0m\u001b[0;34m.\u001b[0m\u001b[0mEmpty\u001b[0m\u001b[0;34m)\u001b[0m\u001b[0;34m:\u001b[0m\u001b[0;34m\u001b[0m\u001b[0;34m\u001b[0m\u001b[0m\n\u001b[1;32m   1005\u001b[0m                 \u001b[0;32mreturn\u001b[0m \u001b[0;34m(\u001b[0m\u001b[0;32mFalse\u001b[0m\u001b[0;34m,\u001b[0m \u001b[0;32mNone\u001b[0m\u001b[0;34m)\u001b[0m\u001b[0;34m\u001b[0m\u001b[0;34m\u001b[0m\u001b[0m\n",
      "\u001b[0;31mRuntimeError\u001b[0m: DataLoader worker (pid(s) 363973) exited unexpectedly"
     ]
    }
   ],
   "source": [
    "num_workers = 0\n",
    "learning_rate = 0.005\n",
    "beta1, beta2 = 0.9, 0.999\n",
    "betas = (beta1, beta2)\n",
    "num_epochs = 2 ** 5 + 1\n",
    "sample_space = 1\n",
    "tau_cla = 1e4\n",
    "ds_ev = 10\n",
    "jitonic = [None, None]\n",
    "subset_size = None\n",
    "verbose=True\n",
    "dataset = 'aprovisynt'\n",
    "nb_digit = 2\n",
    "name_model = f'../Records/model/{aprovhots.get_fname()}_LR.pkl'\n",
    "\n",
    "events_train = np.zeros([len(eventsout[2]), 4])\n",
    "for i in range(4):\n",
    "    events_train[:,i] = eventsout[i][:]\n",
    "\n",
    "X_train = events_train.astype(int)\n",
    "y_train = eventsout[4]\n",
    "\n",
    "digind_train = getdigind(np.array(X_train[:,2]), y_train)\n",
    "\n",
    "nb_pola = eventsout[-1]\n",
    "train_dataset = AERtoVectDataset(tensors=(X_train, y_train), digind=digind_train, name = dataset,transform=tonic.transforms.Compose([tonic.transforms.AERtoVector(nb_pola = nb_pola, sample_event= ds_ev, tau = tau_cla, sample_space=sample_space)]))\n",
    "loader = tonic.datasets.DataLoader(train_dataset, num_workers=num_workers, shuffle=False)\n",
    "\n",
    "torch.set_default_tensor_type(\"torch.DoubleTensor\")\n",
    "criterion = torch.nn.BCELoss(reduction=\"mean\")\n",
    "amsgrad = True #or False gives similar results\n",
    "device = torch.device(\"cuda\" if torch.cuda.is_available() else \"cpu\")\n",
    "if verbose:\n",
    "    print(f'device -> {device} - num workers -> {num_workers}')\n",
    "\n",
    "c_int = lambda n, d : ((n - 1) // d) + 1\n",
    "\n",
    "N = c_int(train_dataset.sensor_size[0],sample_space)*c_int(train_dataset.sensor_size[1],sample_space)*nb_pola\n",
    "n_classes = len(train_dataset.classes)\n",
    "logistic_model = LRtorch(N, n_classes)\n",
    "logistic_model = logistic_model.to(device)\n",
    "logistic_model.train()\n",
    "optimizer = torch.optim.Adam(\n",
    "    logistic_model.parameters(), lr=learning_rate, betas=betas, amsgrad=amsgrad\n",
    ")\n",
    "pbar = tqdm(total=int(num_epochs))\n",
    "for epoch in range(int(num_epochs)):\n",
    "    losses = []\n",
    "    for X, label in loader:\n",
    "        X, label = X.to(device), label.to(device)\n",
    "        X, label = X.squeeze(0), label.squeeze(0) \n",
    "\n",
    "        outputs = logistic_model(X)\n",
    "\n",
    "        n_events = X.shape[0]\n",
    "        labels = label*torch.ones(n_events).type(torch.LongTensor).to(device)\n",
    "        labels = torch.nn.functional.one_hot(labels, num_classes=n_classes).type(torch.DoubleTensor).to(device)\n",
    "\n",
    "        loss = criterion(outputs, labels)\n",
    "        optimizer.zero_grad()\n",
    "        loss.backward()\n",
    "        optimizer.step()\n",
    "        losses.append(loss.item())\n",
    "\n",
    "    pbar.update(1)\n",
    "\n",
    "pbar.close()\n",
    "with open(name_model, 'wb') as file:\n",
    "    pickle.dump([logistic_model, losses], file, pickle.HIGHEST_PROTOCOL)"
   ]
  },
  {
   "cell_type": "code",
   "execution_count": 14,
   "id": "33383d5a-fe86-47e4-80e0-2f90f762586e",
   "metadata": {},
   "outputs": [
    {
     "name": "stderr",
     "output_type": "stream",
     "text": [
      "\n",
      " 50%|███████████████████████████████████████████████████████████████████████████████████                                                                                   | 1/2 [21:29<21:29, 1289.07s/it]\u001b[A\n",
      "\n",
      " 50%|████████████████████████████████████████████████████████████████████████████████████                                                                                    | 1/2 [00:02<00:02,  2.73s/it]\u001b[A"
     ]
    },
    {
     "ename": "RuntimeError",
     "evalue": "CUDA out of memory. Tried to allocate 5.79 GiB (GPU 0; 15.74 GiB total capacity; 4.01 MiB already allocated; 3.81 GiB free; 22.00 MiB reserved in total by PyTorch)",
     "output_type": "error",
     "traceback": [
      "\u001b[0;31m---------------------------------------------------------------------------\u001b[0m",
      "\u001b[0;31mRuntimeError\u001b[0m                              Traceback (most recent call last)",
      "\u001b[0;32m/tmp/ipykernel_352078/1208165102.py\u001b[0m in \u001b[0;36m<module>\u001b[0;34m\u001b[0m\n\u001b[1;32m     58\u001b[0m         \u001b[0;32melse\u001b[0m\u001b[0;34m:\u001b[0m\u001b[0;34m\u001b[0m\u001b[0;34m\u001b[0m\u001b[0m\n\u001b[1;32m     59\u001b[0m             \u001b[0mlabel\u001b[0m \u001b[0;34m=\u001b[0m \u001b[0mtorch\u001b[0m\u001b[0;34m.\u001b[0m\u001b[0mtensor\u001b[0m\u001b[0;34m(\u001b[0m\u001b[0;36m0\u001b[0m\u001b[0;34m)\u001b[0m\u001b[0;34m\u001b[0m\u001b[0;34m\u001b[0m\u001b[0m\n\u001b[0;32m---> 60\u001b[0;31m         \u001b[0mX\u001b[0m \u001b[0;34m=\u001b[0m \u001b[0mX\u001b[0m\u001b[0;34m.\u001b[0m\u001b[0mto\u001b[0m\u001b[0;34m(\u001b[0m\u001b[0mdevice\u001b[0m\u001b[0;34m)\u001b[0m\u001b[0;34m\u001b[0m\u001b[0;34m\u001b[0m\u001b[0m\n\u001b[0m\u001b[1;32m     61\u001b[0m         \u001b[0mX\u001b[0m\u001b[0;34m,\u001b[0m \u001b[0mlabel\u001b[0m \u001b[0;34m=\u001b[0m \u001b[0mX\u001b[0m\u001b[0;34m.\u001b[0m\u001b[0msqueeze\u001b[0m\u001b[0;34m(\u001b[0m\u001b[0;36m0\u001b[0m\u001b[0;34m)\u001b[0m\u001b[0;34m,\u001b[0m \u001b[0mlabel\u001b[0m\u001b[0;34m.\u001b[0m\u001b[0msqueeze\u001b[0m\u001b[0;34m(\u001b[0m\u001b[0;36m0\u001b[0m\u001b[0;34m)\u001b[0m\u001b[0;34m\u001b[0m\u001b[0;34m\u001b[0m\u001b[0m\n\u001b[1;32m     62\u001b[0m         \u001b[0mn_events\u001b[0m \u001b[0;34m=\u001b[0m \u001b[0mX\u001b[0m\u001b[0;34m.\u001b[0m\u001b[0mshape\u001b[0m\u001b[0;34m[\u001b[0m\u001b[0;36m0\u001b[0m\u001b[0;34m]\u001b[0m\u001b[0;34m\u001b[0m\u001b[0;34m\u001b[0m\u001b[0m\n",
      "\u001b[0;31mRuntimeError\u001b[0m: CUDA out of memory. Tried to allocate 5.79 GiB (GPU 0; 15.74 GiB total capacity; 4.01 MiB already allocated; 3.81 GiB free; 22.00 MiB reserved in total by PyTorch)"
     ]
    }
   ],
   "source": [
    "sample_space = 1\n",
    "tau_cla = 1e4\n",
    "ds_ev = 10\n",
    "jitonic = [None, None]\n",
    "subset_size = None\n",
    "num_workers = 1\n",
    "verbose=False\n",
    "dataset = 'aprovisynt'\n",
    "nb_digit = 2\n",
    "\n",
    "events_train = np.zeros([len(eventsout[2]), 4])\n",
    "for i in range(4):\n",
    "    events_train[:,i] = eventsout[i][:]\n",
    "\n",
    "X_train = events_train.astype(int)\n",
    "y_train = eventsout[4]\n",
    "\n",
    "digind_train = getdigind(np.array(X_train[:,2]), y_train)\n",
    "\n",
    "nb_pola = eventsout[-1]\n",
    "test_dataset = AERtoVectDataset(tensors=(X_train, y_train), digind=digind_train, name = dataset,transform=tonic.transforms.Compose([tonic.transforms.AERtoVector(nb_pola = nb_pola, sample_event= ds_ev, tau = tau_cla, sample_space=sample_space)]))\n",
    "loader = tonic.datasets.DataLoader(test_dataset, num_workers=num_workers, shuffle=False)\n",
    "    \n",
    "with torch.no_grad():\n",
    "    device = torch.device(\"cuda\" if torch.cuda.is_available() else \"cpu\")\n",
    "    if verbose:\n",
    "        print(f'device -> {device} - num workers -> {num_workers}')\n",
    "\n",
    "    logistic_model = model.to(device)\n",
    "\n",
    "    pbar = tqdm(total=nb_digit)\n",
    "    likelihood, true_target, timing = [], [], []\n",
    "\n",
    "    for X, label in loader:\n",
    "        if label[0]=='only_sea_':\n",
    "            label = torch.tensor(1)\n",
    "        else:\n",
    "            label = torch.tensor(0)\n",
    "        X = X.to(device)\n",
    "        X, label = X.squeeze(0), label.squeeze(0)\n",
    "        n_events = X.shape[0]\n",
    "        #labels = label*torch.ones(n_events).type(torch.LongTensor)\n",
    "        outputs = logistic_model(X)\n",
    "        likelihood.append(outputs.cpu().numpy())\n",
    "        #pred_target.append(torch.argmax(outputs, dim=1).cpu().numpy())\n",
    "        true_target.append(label.cpu().numpy())\n",
    "        pbar.update(1)\n",
    "    pbar.close()"
   ]
  },
  {
   "cell_type": "code",
   "execution_count": 15,
   "id": "2ea0b44c-d447-442a-b34f-f94a43fa644a",
   "metadata": {},
   "outputs": [
    {
     "name": "stdout",
     "output_type": "stream",
     "text": [
      "[array([       0,        0,        0, ..., 85582000, 85600000, 85600000]), array([      0,       0,       0, ..., 2084000, 2084000, 2084000])]\n"
     ]
    },
    {
     "name": "stderr",
     "output_type": "stream",
     "text": [
      "/home/INT/grimaldi.a/Documents/projets/HOTS/HOTS/HOTS/Tools.py:626: RuntimeWarning: Mean of empty slice\n",
      "  onlinac = np.nanmean(matscor, axis=0)\n"
     ]
    },
    {
     "name": "stdout",
     "output_type": "stream",
     "text": [
      "0 samples where not classified\n"
     ]
    }
   ],
   "source": [
    "from HOTS.Tools import classification_timescale\n",
    "time_scale[0] -= time_scale[0][0]\n",
    "time_scale[1] -= time_scale[1][0]\n",
    "print(time_scale)\n",
    "timestep = 10\n",
    "thres = None\n",
    "nb_test = 1\n",
    "chance = .5\n",
    "classification_meanac, onlinac, timesteps, lastime, truepos, falsepos, pred_target = classification_timescale(likelihood, true_target, time_scale, timestep, thres, nb_test, chance, maximumtime = max(time_scale[0][-1],time_scale[1][-1]), verbose=False)"
   ]
  },
  {
   "cell_type": "code",
   "execution_count": 16,
   "id": "ea669af2-36dc-47c9-ac4c-e4d386a39960",
   "metadata": {},
   "outputs": [
    {
     "name": "stdout",
     "output_type": "stream",
     "text": [
      "1.0\n"
     ]
    }
   ],
   "source": [
    "print(classification_meanac)"
   ]
  },
  {
   "cell_type": "code",
   "execution_count": 17,
   "id": "6687707e-3a1e-4236-8dc6-f09e5f4147b5",
   "metadata": {},
   "outputs": [
    {
     "data": {
      "text/plain": [
       "[<matplotlib.lines.Line2D at 0x7f88e2923820>]"
      ]
     },
     "execution_count": 17,
     "metadata": {},
     "output_type": "execute_result"
    },
    {
     "data": {
      "image/png": "[encoded data removed]",
      "text/plain": [
       "<Figure size 432x288 with 1 Axes>"
      ]
     },
     "metadata": {
      "needs_background": "light"
     },
     "output_type": "display_data"
    }
   ],
   "source": [
    "import matplotlib.pyplot as plt\n",
    "plt.plot(likelihood[0])\n",
    "plt.plot(true_target)\n",
    "#plt.plot(falsepos)"
   ]
  },
  {
   "cell_type": "code",
   "execution_count": 13,
   "id": "d720aa9b-b577-4a1d-9494-95be676cc8ee",
   "metadata": {},
   "outputs": [
    {
     "name": "stdout",
     "output_type": "stream",
     "text": [
      "[array(0)]\n"
     ]
    }
   ],
   "source": [
    "print(true_target)"
   ]
  },
  {
   "cell_type": "code",
   "execution_count": 8,
   "id": "2d1368c2-26bf-4083-8a83-ceccd552baf6",
   "metadata": {},
   "outputs": [
    {
     "name": "stdout",
     "output_type": "stream",
     "text": [
      "[1. 1. 1. 1. 1. 1. 1. 1. 1. 1. 1. 1. 1. 1. 1. 1. 1. 1. 1. 1. 1. 1. 1. 1.\n",
      " 1. 1. 1. 1. 1. 1. 1. 1. 1. 1. 1. 1. 1. 1. 1. 1. 1. 1. 1. 1. 1. 1. 1. 1.\n",
      " 1. 1. 1. 1. 1. 1. 1. 1. 1. 1. 1. 1. 1. 1. 1. 1. 1. 1. 1. 1. 1. 1. 1. 1.\n",
      " 1. 1. 1. 1. 1. 1. 1. 1. 1. 1. 1. 1. 1. 1. 1. 1. 1. 1. 1. 1. 1. 1. 1. 1.\n",
      " 1. 1. 1. 1. 1. 1. 1. 1. 1. 1. 1. 1. 1. 1. 1. 1. 1. 1. 1. 1. 1. 1. 1. 1.\n",
      " 1. 1. 1. 1. 1. 1. 1. 1. 1. 1. 0. 1. 1. 1. 1. 1. 1. 1. 1. 1. 1. 1. 1. 1.\n",
      " 1. 1. 1. 1. 1. 1. 1. 1. 1. 1. 1. 1. 1. 1. 1. 1. 1. 1. 1. 1. 1. 1. 1. 1.\n",
      " 1. 1. 1. 1. 1. 1. 1. 1. 1. 1. 1. 1. 1. 1. 1. 1. 0. 1. 1. 1. 1. 1. 1. 1.\n",
      " 1. 1. 1. 1. 1. 1. 1. 1. 1. 1. 1. 1. 1. 1. 1. 1. 1. 1. 1. 1. 1. 1. 1. 1.\n",
      " 1. 1. 1. 1. 1. 1. 1. 1. 1. 1. 1. 1. 1. 1. 1. 1. 1. 1. 1. 1. 1. 1. 1. 1.\n",
      " 1. 1. 1. 1. 1. 1. 1. 1. 1. 1. 1. 1. 1. 1. 1. 1. 1. 1. 1. 1. 1. 1. 1. 1.\n",
      " 1. 1. 1. 1. 1. 1. 1. 1. 1. 1. 1. 1. 1. 1. 1. 1. 1. 1. 1. 1. 1. 1. 1. 1.\n",
      " 1. 1. 1. 1. 1. 1. 1. 1. 1. 1. 1. 1. 1. 1. 1. 1. 1. 1. 1. 1. 1. 1. 1. 1.\n",
      " 1. 1. 1. 1. 1. 1. 1. 1. 1. 1. 1. 1. 1. 1. 1. 1. 1. 1. 1. 1. 1. 1. 1. 1.\n",
      " 1. 1. 1. 1. 1. 1. 1. 1. 1. 1. 1. 1. 1. 1. 1. 1. 1. 1. 1. 1. 1. 1. 1. 1.\n",
      " 1. 1. 1. 1. 0. 1. 1. 1. 1. 1. 1. 1. 1. 1. 1. 1. 1. 1. 1. 1. 1. 1. 1. 1.\n",
      " 1. 1. 1. 1. 1. 1. 1. 1. 1. 1. 1. 1. 1. 1. 1. 1. 1. 1. 1. 1. 1. 1. 1. 1.\n",
      " 1. 1. 1. 1. 1. 1. 1. 1. 1. 1. 1. 1. 1. 1. 1. 1. 1. 1. 1. 1. 1. 1. 1. 1.\n",
      " 1. 1. 1. 1. 1. 1. 1. 1. 1. 1. 1. 1. 1. 1. 1. 1. 1. 1. 1. 1. 1. 1. 1. 1.\n",
      " 1. 1. 1. 1. 1. 1. 1. 1. 1. 1. 1. 1. 1. 1. 1.]\n"
     ]
    }
   ],
   "source": [
    "print(pred_target)"
   ]
  },
  {
   "cell_type": "code",
   "execution_count": null,
   "id": "f975e267-0fb3-49fb-9158-a054c133f904",
   "metadata": {},
   "outputs": [],
   "source": []
  }
 ],
 "metadata": {
  "kernelspec": {
   "display_name": "Python 3 (ipykernel)",
   "language": "python",
   "name": "python3"
  },
  "language_info": {
   "codemirror_mode": {
    "name": "ipython",
    "version": 3
   },
   "file_extension": ".py",
   "mimetype": "text/x-python",
   "name": "python",
   "nbconvert_exporter": "python",
   "pygments_lexer": "ipython3",
   "version": "3.8.10"
  }
 },
 "nbformat": 4,
 "nbformat_minor": 5
}
