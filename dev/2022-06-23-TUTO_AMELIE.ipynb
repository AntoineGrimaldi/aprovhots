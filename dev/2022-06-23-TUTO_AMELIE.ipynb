{
 "cells": [
  {
   "cell_type": "code",
   "execution_count": 3,
   "id": "4ba03af1-49a6-4cf2-a75f-fa7ae63e642e",
   "metadata": {},
   "outputs": [
    {
     "name": "stdout",
     "output_type": "stream",
     "text": [
      "('x', 'y', 't', 'p')\n",
      "[-9998804 -9998804  -179643 -9998813]\n",
      "number of samples in the trainset: 124\n",
      "number of samples in the testset: 43\n",
      "----------------------------------------\n",
      "number of samples in each class for the trainset: [124.   0.   0.]\n",
      "number of samples in each class for the testset: [43.  0.  0.]\n",
      "----------------------------------------\n",
      "Mean value for mean_isi: 892.7799806561111\n",
      "Mean value for synchronous_events: 0.026949237284510208\n",
      "Mean value for nb_events: 1141.1497005988024\n"
     ]
    },
    {
     "data": {
      "image/png": "[encoded data removed]",
      "text/plain": [
       "<Figure size 2160x720 with 3 Axes>"
      ]
     },
     "metadata": {
      "needs_background": "light"
     },
     "output_type": "display_data"
    }
   ],
   "source": [
    "#!/usr/bin/env python\n",
    "# coding: utf-8\n",
    "\n",
    "# # Make a [tonic](https://tonic.readthedocs.io/en/latest/) dataset - see [documentation](https://tonic.readthedocs.io/en/latest/tutorials/wrapping_own_data.html)\n",
    "# ## Example with the RGB frames dataset provided by NTUA, translated by UCA into events using vid2e\n",
    "\n",
    "import sys\n",
    "sys.path.append('../dev/')\n",
    "from dataset_creation_vid2e import vid2e_Dataset\n",
    "from hots.utils import get_dataset_info\n",
    "\n",
    "\n",
    "# path where you'll go to find your .npy files to make the dataset with\n",
    "### TO BE MODIFIED\n",
    "path = '../../Data/2022-06-01_RGBframes_to_events/'\n",
    "# gives a patch_size to divide spatially the event streams\n",
    "patch_size = (16,16)\n",
    "# gives a max duration for the samples of the dataset to divide temporally the event streams\n",
    "max_duration = 1e3 # (in ms)\n",
    "# labels given to the different classes of the dataset\n",
    "labelz = ['sea','gro','mix']\n",
    "# original sensor_size of the DVS (width,height,polarity)\n",
    "sensor_size = (672, 376, 2)\n",
    "# discard samples with less than min_num_events events\n",
    "min_num_events = 1000\n",
    "# split the recordings into train and test sets with train_test_ratio ratio\n",
    "train_test_ratio = .75\n",
    "# gives the indexing of the event stream\n",
    "ordering = 'xytp'\n",
    "\n",
    "trainset = vid2e_Dataset(save_to=path, train=True, patch_size=patch_size, max_duration=max_duration)\n",
    "testset = vid2e_Dataset(save_to=path, train=False, patch_size=patch_size, max_duration=max_duration)\n",
    "\n",
    "\n",
    "events, label = next(iter(trainset))\n",
    "print(trainset.ordering)\n",
    "print(events[1000,:])\n",
    "\n",
    "\n",
    "# **Synthetic_Dataset** goes to find the repository where the dataset with the corresponding *patch_size* and *max_duration* is stored. It is stored in *path/patch_{patch_size}_duration_{max_duration}/* and splitted into *./train/* and *./test/* repositories which are splitted into labelz repositories. \n",
    "# \n",
    "# If this repository does not exists it calls the function **build_aprovis_dataset** and makes the dataset storage by loading all the .csv files into *path* and treat them with the function **save_as_patches**.\n",
    "# \n",
    "# The advantage of using the class defined by torch or tonic modules to make a dataset is that we can easily make a loader of the samples and use some transforms already existing in these modules. \n",
    "\n",
    "# # Get information about the dataset\n",
    "# Some statistics of the dataset can be easily observed with the **get_dataset_info** function. You have to put trainset and testset as input, if you only have one dataset you can put it twice. \n",
    "# \n",
    "# The default properties to be visualized are:\n",
    "# - the *mean_isi* or mean Inter-Spike Interval: the time difference between to consecutive events (polarity is taken into account and then the ISI is computed for events of the same polarity and then averaged). This measure is inversely proportional to the density of events in the event stream. \n",
    "# - the *null_isi* or the ratio of synchronous events in the recording: the ratio of events when the ISI is equal to 0 meaning they arrive at the exact same timing. A big *null_isi* value means that there is a lot of synchrnous events, maybe because the event stream is made from frames. \n",
    "# - the number of events per sample (indicative when the duration of the samples is the same)\n",
    "# - other properties can be asked to be plotted like the *median_isi* or can be developed in **get_properties** in order to visualize different features of the dataset. \n",
    "\n",
    "import matplotlib.pyplot as plt\n",
    "values = get_dataset_info(trainset,testset)#,distinguish_labels=True)\n",
    "plt.show()\n",
    "\n",
    "# Orange histograms are for the \"ground\" label and blue for the \"sea\":\n",
    "# - one can notice that ground sessions contain way more events that sea ones (figure on the right)\n",
    "# - this fact is also illustrated by the left figure with the Inter-Spike interval\n",
    "# - on the middle the ratio of synchronous events are represented. One can see that the values are above .9 and quite close to 1 meaning that there are a lot of events with same timestamps. The fact that the output of the simulator may create frames and then convert them to events may trigger this artifact. \n"
   ]
  },
  {
   "cell_type": "code",
   "execution_count": 4,
   "id": "0532dfc5-c086-4fb4-95bc-ecef945d7437",
   "metadata": {},
   "outputs": [
    {
     "name": "stdout",
     "output_type": "stream",
     "text": [
      "[[-9998797 -9998797  -980083 -9998811]\n",
      " [-9998797 -9998798  -975407 -9998811]\n",
      " [-9998802 -9998803  -972437 -9998811]\n",
      " ...\n",
      " [-9998800 -9998804    -9247 -9998811]\n",
      " [-9998811 -9998802    -7119 -9998813]\n",
      " [-9998809 -9998804        0 -9998813]]\n"
     ]
    }
   ],
   "source": [
    "print(events)"
   ]
  },
  {
   "cell_type": "code",
   "execution_count": null,
   "id": "48b3a912-a18e-427c-aae3-cf594dd20d5d",
   "metadata": {},
   "outputs": [],
   "source": []
  }
 ],
 "metadata": {
  "kernelspec": {
   "display_name": "Python 3 (ipykernel)",
   "language": "python",
   "name": "python3"
  },
  "language_info": {
   "codemirror_mode": {
    "name": "ipython",
    "version": 3
   },
   "file_extension": ".py",
   "mimetype": "text/x-python",
   "name": "python",
   "nbconvert_exporter": "python",
   "pygments_lexer": "ipython3",
   "version": "3.8.10"
  }
 },
 "nbformat": 4,
 "nbformat_minor": 5
}
