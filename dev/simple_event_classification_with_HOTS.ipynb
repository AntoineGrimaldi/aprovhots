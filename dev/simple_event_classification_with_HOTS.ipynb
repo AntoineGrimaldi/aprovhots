{
 "cells": [
  {
   "cell_type": "markdown",
   "id": "4045e17a-be9f-4b5a-905d-ded1c128fcb3",
   "metadata": {},
   "source": [
    "# Open synthetic data"
   ]
  },
  {
   "cell_type": "code",
   "execution_count": 2,
   "id": "e38dd7c0-2093-4b79-a740-3b651f0f50ee",
   "metadata": {},
   "outputs": [
    {
     "name": "stdout",
     "output_type": "stream",
     "text": [
      "list of all files : \n",
      " ['only_sea_session_2.csv', 'only_sea_session_1.csv', 'only_ground_session_2.csv', 'mixed_session_1.csv', 'mixed_session_3.csv', 'mixed_session_2.csv', 'only_ground_session_1.csv']\n"
     ]
    }
   ],
   "source": [
    "import os\n",
    "import pickle\n",
    "import pandas as pd\n",
    "import numpy as np\n",
    "from tqdm import tqdm\n",
    "import matplotlib.pyplot as plt\n",
    "\n",
    "path = '/home/INT/grimaldi.a/Documents/projets/WP3/data'\n",
    "list = os.listdir(path)\n",
    "print(f'list of all files : \\n {list}')\n",
    "\n",
    "if not os.path.exists('../Records/'):\n",
    "    os.mkdir('../Records/')\n",
    "    os.mkdir('../Records/model/')\n",
    "    os.mkdir('../Records/train/')\n",
    "    os.mkdir('../Records/test/')\n",
    "\n",
    "labelz = [0,0,1,2,2,2,1] # 0 for 'sea' and 1 for 'ground'\n",
    "x_index, y_index, t_index, p_index = 0, 1, 2, 3\n",
    "\n",
    "patch_R = 20\n",
    "duration = None\n",
    "min_events = 20\n",
    "#duration = int(1e7)\n",
    "\n",
    "def load_data_patches(path, rec_number, patch_size, time_limit, min_events):\n",
    "    events_stacked = np.array([])\n",
    "    label_stacked = []\n",
    "    indices = [0]\n",
    "    for num in rec_number:\n",
    "        fname_csv = f'{path}/{list[num]}'\n",
    "        df = pd.read_csv(fname_csv)\n",
    "        events = np.zeros([df.shape[0],4]).astype(int)\n",
    "        events[:,[x_index, y_index, p_index]] = df.values[:,[x_index,y_index,4]]\n",
    "        t_sec = df.values[:,2]\n",
    "        t_nsec = df.values[:,3]\n",
    "        initial_time = t_sec[0]*1e6+t_nsec[0]*1e-3\n",
    "        events[:,t_index] = t_sec[:]*1e6+t_nsec[:]*1e-3-initial_time\n",
    "        label = labelz[num]\n",
    "        print(f'file name: {list[num]} \\n total number of events: {len(events)} \\n recording time: {events[-1,t_index]*1e-6} sec \\n \\n')\n",
    "        width, height = max(events[:,x_index]), max(events[:,y_index])\n",
    "        pbar = tqdm(total=width//patch_size*height//patch_size)\n",
    "        for x in range(width//patch_size):\n",
    "            for y in range(height//patch_size):\n",
    "                events_patch = events[\n",
    "                               (events[:,x_index]>=x*patch_size)&(events[:,x_index]<(x+1)*patch_size)&\n",
    "                               (events[:,y_index]>=y*patch_size)&(events[:,y_index]<(y+1)*patch_size)]\n",
    "                events_patch[:,x_index] -= x*patch_size\n",
    "                events_patch[:,y_index] -= y*patch_size\n",
    "#                if time_limit:\n",
    "#                    time = 0\n",
    "#                    events_patch[:,t_index] = events_patch[(events_patch[:,t_index]<time)]\n",
    "                if len(events_patch)<min_events:\n",
    "                    pass\n",
    "                else:\n",
    "                    events_patch[:,t_index] -= np.min(events_patch[:,t_index])\n",
    "                    indices.append(indices[-1]+events_patch.shape[0])\n",
    "                    label_stacked.append(label)\n",
    "                    events_stacked = np.vstack([events_stacked, events_patch]) if events_stacked.size else events_patch\n",
    "                pbar.update(1)\n",
    "        print(np.max(events_patch[:,x_index]), np.max(events_patch[:,y_index]), np.max(events_patch[:,t_index]))\n",
    "        pbar.close()\n",
    "    return events_stacked, label_stacked, indices"
   ]
  },
  {
   "cell_type": "code",
   "execution_count": 3,
   "id": "ada55806-ce25-410d-9aa5-adb82171245a",
   "metadata": {},
   "outputs": [],
   "source": [
    "with open('../Data/aprovisynt_patches_train.pkl', 'rb') as file:\n",
    "    events_train, label_train, indices_train = pickle.load(file)"
   ]
  },
  {
   "cell_type": "markdown",
   "id": "4ade88df-2ac4-43d9-b613-f66b80ea708c",
   "metadata": {},
   "source": [
    "# Build HOTS network\n",
    "\n",
    "You have to install the HOTS module available at: \n",
    "https://github.com/SpikeAI/HOTS\n",
    "and also this version of tonic (for the moment): \n",
    "https://github.com/SpikeAI/tonic"
   ]
  },
  {
   "cell_type": "code",
   "execution_count": 4,
   "id": "df96daff-6624-4fdc-9765-e81c5a267415",
   "metadata": {},
   "outputs": [],
   "source": [
    "from HOTS.Network import network\n",
    "from tqdm import tqdm\n",
    "import pickle\n",
    "\n",
    "#parameters\n",
    "tau = 10 #ms\n",
    "homeo = True\n",
    "date = '2021-12-09'\n",
    "\n",
    "aprovhots = network(timestr = date, tau = tau, homeo=homeo)\n",
    "aprovhots.sensformat([patch_R,patch_R])\n",
    "\n",
    "f_name = f'../Records/model/{aprovhots.get_fname()}.pkl'"
   ]
  },
  {
   "cell_type": "code",
   "execution_count": 5,
   "id": "965fbac1-fbd2-46a2-a4f5-e94261c642d2",
   "metadata": {},
   "outputs": [
    {
     "name": "stderr",
     "output_type": "stream",
     "text": [
      "  2%|███▊                                                                                                                                                        | 24643/1000000 [00:04<02:07, 7627.15it/s]/home/INT/grimaldi.a/Documents/projets/HOTS/HOTS/HOTS/TimeSurface.py:84: RuntimeWarning: overflow encountered in exp\n",
      "  self.spatpmat = self.spatpmat*np.exp(-(float(tev-self.t))/self.tau)\n",
      "/home/INT/grimaldi.a/Documents/projets/HOTS/HOTS/HOTS/TimeSurface.py:84: RuntimeWarning: invalid value encountered in multiply\n",
      "  self.spatpmat = self.spatpmat*np.exp(-(float(tev-self.t))/self.tau)\n",
      " 16%|████████████████████████▎                                                                                                                                  | 156655/1000000 [01:37<06:29, 2165.82it/s]"
     ]
    },
    {
     "ename": "KeyboardInterrupt",
     "evalue": "",
     "output_type": "error",
     "traceback": [
      "\u001b[0;31m---------------------------------------------------------------------------\u001b[0m",
      "\u001b[0;31mKeyboardInterrupt\u001b[0m                         Traceback (most recent call last)",
      "\u001b[0;32m/tmp/ipykernel_8693/1456047246.py\u001b[0m in \u001b[0;36m<module>\u001b[0;34m\u001b[0m\n\u001b[1;32m      3\u001b[0m \u001b[0;32mfor\u001b[0m \u001b[0mi\u001b[0m \u001b[0;32min\u001b[0m \u001b[0mrange\u001b[0m\u001b[0;34m(\u001b[0m\u001b[0mnbevents\u001b[0m\u001b[0;34m)\u001b[0m\u001b[0;34m:\u001b[0m\u001b[0;34m\u001b[0m\u001b[0;34m\u001b[0m\u001b[0m\n\u001b[1;32m      4\u001b[0m     \u001b[0mx\u001b[0m\u001b[0;34m,\u001b[0m \u001b[0my\u001b[0m\u001b[0;34m,\u001b[0m \u001b[0mt\u001b[0m\u001b[0;34m,\u001b[0m \u001b[0mp\u001b[0m \u001b[0;34m=\u001b[0m \u001b[0mevents_train\u001b[0m\u001b[0;34m[\u001b[0m\u001b[0mi\u001b[0m\u001b[0;34m,\u001b[0m\u001b[0;34m[\u001b[0m\u001b[0mx_index\u001b[0m\u001b[0;34m,\u001b[0m \u001b[0my_index\u001b[0m\u001b[0;34m,\u001b[0m \u001b[0mt_index\u001b[0m\u001b[0;34m,\u001b[0m \u001b[0mp_index\u001b[0m \u001b[0;34m]\u001b[0m\u001b[0;34m]\u001b[0m\u001b[0;34m\u001b[0m\u001b[0;34m\u001b[0m\u001b[0m\n\u001b[0;32m----> 5\u001b[0;31m     \u001b[0maprovhots\u001b[0m\u001b[0;34m.\u001b[0m\u001b[0mrun\u001b[0m\u001b[0;34m(\u001b[0m\u001b[0mx\u001b[0m\u001b[0;34m,\u001b[0m \u001b[0my\u001b[0m\u001b[0;34m,\u001b[0m \u001b[0mt\u001b[0m\u001b[0;34m,\u001b[0m \u001b[0mp\u001b[0m\u001b[0;34m,\u001b[0m \u001b[0mlearn\u001b[0m\u001b[0;34m=\u001b[0m\u001b[0;32mTrue\u001b[0m\u001b[0;34m,\u001b[0m \u001b[0mto_record\u001b[0m\u001b[0;34m=\u001b[0m\u001b[0;32mTrue\u001b[0m\u001b[0;34m)\u001b[0m\u001b[0;34m\u001b[0m\u001b[0;34m\u001b[0m\u001b[0m\n\u001b[0m\u001b[1;32m      6\u001b[0m     \u001b[0mpbar\u001b[0m\u001b[0;34m.\u001b[0m\u001b[0mupdate\u001b[0m\u001b[0;34m(\u001b[0m\u001b[0;36m1\u001b[0m\u001b[0;34m)\u001b[0m\u001b[0;34m\u001b[0m\u001b[0;34m\u001b[0m\u001b[0m\n\u001b[1;32m      7\u001b[0m \u001b[0;32mfor\u001b[0m \u001b[0ml\u001b[0m \u001b[0;32min\u001b[0m \u001b[0mrange\u001b[0m\u001b[0;34m(\u001b[0m\u001b[0mlen\u001b[0m\u001b[0;34m(\u001b[0m\u001b[0maprovhots\u001b[0m\u001b[0;34m.\u001b[0m\u001b[0mL\u001b[0m\u001b[0;34m)\u001b[0m\u001b[0;34m)\u001b[0m\u001b[0;34m:\u001b[0m\u001b[0;34m\u001b[0m\u001b[0;34m\u001b[0m\u001b[0m\n",
      "\u001b[0;32m~/Documents/projets/HOTS/HOTS/HOTS/Network.py\u001b[0m in \u001b[0;36mrun\u001b[0;34m(self, x, y, t, p, learn, to_record)\u001b[0m\n\u001b[1;32m    386\u001b[0m             \u001b[0mtimesurf\u001b[0m\u001b[0;34m,\u001b[0m \u001b[0mactiv\u001b[0m \u001b[0;34m=\u001b[0m \u001b[0mself\u001b[0m\u001b[0;34m.\u001b[0m\u001b[0mTS\u001b[0m\u001b[0;34m[\u001b[0m\u001b[0mlay\u001b[0m\u001b[0;34m]\u001b[0m\u001b[0;34m.\u001b[0m\u001b[0maddevent\u001b[0m\u001b[0;34m(\u001b[0m\u001b[0mx\u001b[0m\u001b[0;34m,\u001b[0m \u001b[0my\u001b[0m\u001b[0;34m,\u001b[0m \u001b[0mt\u001b[0m\u001b[0;34m,\u001b[0m \u001b[0mp\u001b[0m\u001b[0;34m)\u001b[0m\u001b[0;34m\u001b[0m\u001b[0;34m\u001b[0m\u001b[0m\n\u001b[1;32m    387\u001b[0m             \u001b[0;32mif\u001b[0m \u001b[0mactiv\u001b[0m\u001b[0;34m:\u001b[0m\u001b[0;34m\u001b[0m\u001b[0;34m\u001b[0m\u001b[0m\n\u001b[0;32m--> 388\u001b[0;31m                 \u001b[0mp\u001b[0m\u001b[0;34m,\u001b[0m \u001b[0mdist\u001b[0m \u001b[0;34m=\u001b[0m \u001b[0mself\u001b[0m\u001b[0;34m.\u001b[0m\u001b[0mL\u001b[0m\u001b[0;34m[\u001b[0m\u001b[0mlay\u001b[0m\u001b[0;34m]\u001b[0m\u001b[0;34m.\u001b[0m\u001b[0mrun\u001b[0m\u001b[0;34m(\u001b[0m\u001b[0mtimesurf\u001b[0m\u001b[0;34m,\u001b[0m \u001b[0mlearn\u001b[0m\u001b[0;34m)\u001b[0m\u001b[0;34m\u001b[0m\u001b[0;34m\u001b[0m\u001b[0m\n\u001b[0m\u001b[1;32m    389\u001b[0m                 \u001b[0;32mif\u001b[0m \u001b[0mto_record\u001b[0m\u001b[0;34m:\u001b[0m\u001b[0;34m\u001b[0m\u001b[0;34m\u001b[0m\u001b[0m\n\u001b[1;32m    390\u001b[0m                     \u001b[0mself\u001b[0m\u001b[0;34m.\u001b[0m\u001b[0mstats\u001b[0m\u001b[0;34m[\u001b[0m\u001b[0mlay\u001b[0m\u001b[0;34m]\u001b[0m\u001b[0;34m.\u001b[0m\u001b[0mupdate\u001b[0m\u001b[0;34m(\u001b[0m\u001b[0mp\u001b[0m\u001b[0;34m,\u001b[0m \u001b[0mself\u001b[0m\u001b[0;34m.\u001b[0m\u001b[0mL\u001b[0m\u001b[0;34m[\u001b[0m\u001b[0mlay\u001b[0m\u001b[0;34m]\u001b[0m\u001b[0;34m.\u001b[0m\u001b[0mkernel\u001b[0m\u001b[0;34m,\u001b[0m \u001b[0mtimesurf\u001b[0m\u001b[0;34m,\u001b[0m \u001b[0mdist\u001b[0m\u001b[0;34m)\u001b[0m\u001b[0;34m\u001b[0m\u001b[0;34m\u001b[0m\u001b[0m\n",
      "\u001b[0;32m~/Documents/projets/HOTS/HOTS/HOTS/Layer.py\u001b[0m in \u001b[0;36mrun\u001b[0;34m(self, TS, learn)\u001b[0m\n\u001b[1;32m    122\u001b[0m                 \u001b[0mCk\u001b[0m \u001b[0;34m=\u001b[0m \u001b[0mself\u001b[0m\u001b[0;34m.\u001b[0m\u001b[0mkernel\u001b[0m\u001b[0;34m[\u001b[0m\u001b[0;34m:\u001b[0m\u001b[0;34m,\u001b[0m\u001b[0mclosest_proto_idx\u001b[0m\u001b[0;34m]\u001b[0m\u001b[0;34m\u001b[0m\u001b[0;34m\u001b[0m\u001b[0m\n\u001b[1;32m    123\u001b[0m                 \u001b[0malpha\u001b[0m \u001b[0;34m=\u001b[0m \u001b[0;36m0.01\u001b[0m\u001b[0;34m/\u001b[0m\u001b[0;34m(\u001b[0m\u001b[0;36m1\u001b[0m\u001b[0;34m+\u001b[0m\u001b[0mpk\u001b[0m\u001b[0;34m/\u001b[0m\u001b[0;36m20000\u001b[0m\u001b[0;34m)\u001b[0m\u001b[0;34m\u001b[0m\u001b[0;34m\u001b[0m\u001b[0m\n\u001b[0;32m--> 124\u001b[0;31m                 \u001b[0mbeta\u001b[0m \u001b[0;34m=\u001b[0m \u001b[0mnp\u001b[0m\u001b[0;34m.\u001b[0m\u001b[0mdot\u001b[0m\u001b[0;34m(\u001b[0m\u001b[0mCk\u001b[0m\u001b[0;34m.\u001b[0m\u001b[0mT\u001b[0m\u001b[0;34m,\u001b[0m \u001b[0mTS\u001b[0m\u001b[0;34m)\u001b[0m\u001b[0;34m[\u001b[0m\u001b[0;36m0\u001b[0m\u001b[0;34m]\u001b[0m\u001b[0;34m/\u001b[0m\u001b[0;34m(\u001b[0m\u001b[0mnp\u001b[0m\u001b[0;34m.\u001b[0m\u001b[0mlinalg\u001b[0m\u001b[0;34m.\u001b[0m\u001b[0mnorm\u001b[0m\u001b[0;34m(\u001b[0m\u001b[0mTS\u001b[0m\u001b[0;34m)\u001b[0m\u001b[0;34m*\u001b[0m\u001b[0mnp\u001b[0m\u001b[0;34m.\u001b[0m\u001b[0mlinalg\u001b[0m\u001b[0;34m.\u001b[0m\u001b[0mnorm\u001b[0m\u001b[0;34m(\u001b[0m\u001b[0mCk\u001b[0m\u001b[0;34m)\u001b[0m\u001b[0;34m)\u001b[0m\u001b[0;34m\u001b[0m\u001b[0;34m\u001b[0m\u001b[0m\n\u001b[0m\u001b[1;32m    125\u001b[0m                 \u001b[0mCk_t\u001b[0m \u001b[0;34m=\u001b[0m \u001b[0mCk\u001b[0m \u001b[0;34m+\u001b[0m \u001b[0malpha\u001b[0m\u001b[0;34m*\u001b[0m\u001b[0;34m(\u001b[0m\u001b[0mTS\u001b[0m\u001b[0;34m.\u001b[0m\u001b[0mT\u001b[0m\u001b[0;34m[\u001b[0m\u001b[0;36m0\u001b[0m\u001b[0;34m]\u001b[0m \u001b[0;34m-\u001b[0m \u001b[0mbeta\u001b[0m\u001b[0;34m*\u001b[0m\u001b[0mCk\u001b[0m\u001b[0;34m)\u001b[0m\u001b[0;34m\u001b[0m\u001b[0;34m\u001b[0m\u001b[0m\n\u001b[1;32m    126\u001b[0m                 \u001b[0mself\u001b[0m\u001b[0;34m.\u001b[0m\u001b[0mkernel\u001b[0m\u001b[0;34m[\u001b[0m\u001b[0;34m:\u001b[0m\u001b[0;34m,\u001b[0m\u001b[0mclosest_proto_idx\u001b[0m\u001b[0;34m]\u001b[0m \u001b[0;34m=\u001b[0m \u001b[0mCk_t\u001b[0m\u001b[0;34m\u001b[0m\u001b[0;34m\u001b[0m\u001b[0m\n",
      "\u001b[0;32m<__array_function__ internals>\u001b[0m in \u001b[0;36mnorm\u001b[0;34m(*args, **kwargs)\u001b[0m\n",
      "\u001b[0;32m~/.local/lib/python3.8/site-packages/numpy/linalg/linalg.py\u001b[0m in \u001b[0;36mnorm\u001b[0;34m(x, ord, axis, keepdims)\u001b[0m\n\u001b[1;32m   2524\u001b[0m             (ord == 2 and ndim == 1)):\n\u001b[1;32m   2525\u001b[0m \u001b[0;34m\u001b[0m\u001b[0m\n\u001b[0;32m-> 2526\u001b[0;31m             \u001b[0mx\u001b[0m \u001b[0;34m=\u001b[0m \u001b[0mx\u001b[0m\u001b[0;34m.\u001b[0m\u001b[0mravel\u001b[0m\u001b[0;34m(\u001b[0m\u001b[0morder\u001b[0m\u001b[0;34m=\u001b[0m\u001b[0;34m'K'\u001b[0m\u001b[0;34m)\u001b[0m\u001b[0;34m\u001b[0m\u001b[0;34m\u001b[0m\u001b[0m\n\u001b[0m\u001b[1;32m   2527\u001b[0m             \u001b[0;32mif\u001b[0m \u001b[0misComplexType\u001b[0m\u001b[0;34m(\u001b[0m\u001b[0mx\u001b[0m\u001b[0;34m.\u001b[0m\u001b[0mdtype\u001b[0m\u001b[0;34m.\u001b[0m\u001b[0mtype\u001b[0m\u001b[0;34m)\u001b[0m\u001b[0;34m:\u001b[0m\u001b[0;34m\u001b[0m\u001b[0;34m\u001b[0m\u001b[0m\n\u001b[1;32m   2528\u001b[0m                 \u001b[0msqnorm\u001b[0m \u001b[0;34m=\u001b[0m \u001b[0mdot\u001b[0m\u001b[0;34m(\u001b[0m\u001b[0mx\u001b[0m\u001b[0;34m.\u001b[0m\u001b[0mreal\u001b[0m\u001b[0;34m,\u001b[0m \u001b[0mx\u001b[0m\u001b[0;34m.\u001b[0m\u001b[0mreal\u001b[0m\u001b[0;34m)\u001b[0m \u001b[0;34m+\u001b[0m \u001b[0mdot\u001b[0m\u001b[0;34m(\u001b[0m\u001b[0mx\u001b[0m\u001b[0;34m.\u001b[0m\u001b[0mimag\u001b[0m\u001b[0;34m,\u001b[0m \u001b[0mx\u001b[0m\u001b[0;34m.\u001b[0m\u001b[0mimag\u001b[0m\u001b[0;34m)\u001b[0m\u001b[0;34m\u001b[0m\u001b[0;34m\u001b[0m\u001b[0m\n",
      "\u001b[0;31mKeyboardInterrupt\u001b[0m: "
     ]
    }
   ],
   "source": [
    "nbevents = int(1e6)\n",
    "pbar = tqdm(total=nbevents)\n",
    "for i in range(nbevents):\n",
    "    x, y, t, p = events_train[i,[x_index, y_index, t_index, p_index ]]\n",
    "    aprovhots.run(x, y, t, p, learn=True, to_record=True)\n",
    "    pbar.update(1)\n",
    "for l in range(len(aprovhots.L)):\n",
    "    aprovhots.stats[l].histo = aprovhots.L[l].cumhisto.copy()\n",
    "pbar.close()\n",
    "aprovhots.plotlayer();"
   ]
  },
  {
   "cell_type": "code",
   "execution_count": 7,
   "id": "18044e18-54c2-4482-94b7-5b9bc585311c",
   "metadata": {},
   "outputs": [],
   "source": [
    "with open(f_name, 'wb') as file:\n",
    "    pickle.dump(aprovhots, file, pickle.HIGHEST_PROTOCOL)"
   ]
  },
  {
   "cell_type": "markdown",
   "id": "a717a7bd-35a9-43b4-85f8-30040c993561",
   "metadata": {},
   "source": [
    "# MLR on a set of events\n",
    "## Transform event stream with HOTS"
   ]
  },
  {
   "cell_type": "code",
   "execution_count": 2,
   "id": "84755249-9357-4cb3-980c-0aa6c2a1c26a",
   "metadata": {},
   "outputs": [],
   "source": [
    "with open(f_name, 'rb') as file:\n",
    "    aprovhots = pickle.load(file)"
   ]
  },
  {
   "cell_type": "code",
   "execution_count": 8,
   "id": "b0a620c5-5ce1-4ead-9b29-c5a84f971628",
   "metadata": {},
   "outputs": [
    {
     "ename": "TypeError",
     "evalue": "'int' object is not iterable",
     "output_type": "error",
     "traceback": [
      "\u001b[0;31m---------------------------------------------------------------------------\u001b[0m",
      "\u001b[0;31mTypeError\u001b[0m                                 Traceback (most recent call last)",
      "\u001b[0;32m/tmp/ipykernel_7430/876739971.py\u001b[0m in \u001b[0;36m<module>\u001b[0;34m\u001b[0m\n\u001b[1;32m      5\u001b[0m \u001b[0mlabout\u001b[0m \u001b[0;34m=\u001b[0m \u001b[0;34m[\u001b[0m\u001b[0;34m]\u001b[0m\u001b[0;34m\u001b[0m\u001b[0;34m\u001b[0m\u001b[0m\n\u001b[1;32m      6\u001b[0m \u001b[0;34m\u001b[0m\u001b[0m\n\u001b[0;32m----> 7\u001b[0;31m \u001b[0mnbevents\u001b[0m \u001b[0;34m=\u001b[0m \u001b[0mmin\u001b[0m\u001b[0;34m(\u001b[0m\u001b[0mlen\u001b[0m\u001b[0;34m(\u001b[0m\u001b[0mevents_train\u001b[0m\u001b[0;34m)\u001b[0m\u001b[0;34m)\u001b[0m\u001b[0;34m\u001b[0m\u001b[0;34m\u001b[0m\u001b[0m\n\u001b[0m\u001b[1;32m      8\u001b[0m \u001b[0mpbar\u001b[0m \u001b[0;34m=\u001b[0m \u001b[0mtqdm\u001b[0m\u001b[0;34m(\u001b[0m\u001b[0mtotal\u001b[0m\u001b[0;34m=\u001b[0m\u001b[0mnbevents\u001b[0m\u001b[0;34m)\u001b[0m\u001b[0;34m\u001b[0m\u001b[0;34m\u001b[0m\u001b[0m\n\u001b[1;32m      9\u001b[0m \u001b[0minc\u001b[0m \u001b[0;34m=\u001b[0m \u001b[0;36m0\u001b[0m\u001b[0;34m\u001b[0m\u001b[0;34m\u001b[0m\u001b[0m\n",
      "\u001b[0;31mTypeError\u001b[0m: 'int' object is not iterable"
     ]
    }
   ],
   "source": [
    "timout = []\n",
    "xout = []\n",
    "yout = []\n",
    "polout = []\n",
    "\n",
    "nbevents = min(len(events_train))\n",
    "pbar = tqdm(total=nbevents)\n",
    "inc = 0\n",
    "for i in range(nbevents):\n",
    "    x, y, t, p = events_train[i,[x_index, y_index, t_index, p_index ]]\n",
    "    out, activout = aprovhots.run(x, y, t, p, learn=False, to_record=False)\n",
    "    if activout:\n",
    "        xout.append(out[0])\n",
    "        yout.append(out[1])\n",
    "        timout.append(out[2])\n",
    "        polout.append(out[3])\n",
    "        pbar.update(1)\n",
    "    if indices_train[inc]==i:\n",
    "        print(label_train[inc])\n",
    "        inc+=1\n",
    "camsize = aprovhots.TS[-1].camsize\n",
    "nbpola = aprovhots.L[-1].kernel.shape[1]\n",
    "eventsout = [xout,yout,timout,polout]\n",
    "pbar.close()\n",
    "\n",
    "f_name = f'../Records/train/{aprovhots.get_fname()}.pkl'\n",
    "with open(f_name, 'wb') as file:\n",
    "    pickle.dump(eventsout, file, pickle.HIGHEST_PROTOCOL)"
   ]
  },
  {
   "cell_type": "markdown",
   "id": "9cb35a28-3c32-43eb-a002-f826b61bd5d7",
   "metadata": {},
   "source": [
    "## Build a MLR model with outputs of HOTS"
   ]
  },
  {
   "cell_type": "code",
   "execution_count": null,
   "id": "f975e267-0fb3-49fb-9158-a054c133f904",
   "metadata": {},
   "outputs": [],
   "source": []
  }
 ],
 "metadata": {
  "kernelspec": {
   "display_name": "Python 3 (ipykernel)",
   "language": "python",
   "name": "python3"
  },
  "language_info": {
   "codemirror_mode": {
    "name": "ipython",
    "version": 3
   },
   "file_extension": ".py",
   "mimetype": "text/x-python",
   "name": "python",
   "nbconvert_exporter": "python",
   "pygments_lexer": "ipython3",
   "version": "3.8.10"
  }
 },
 "nbformat": 4,
 "nbformat_minor": 5
}
