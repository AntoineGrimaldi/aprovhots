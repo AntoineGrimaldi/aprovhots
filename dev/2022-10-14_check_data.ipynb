{
 "cells": [
  {
   "cell_type": "code",
   "execution_count": 23,
   "metadata": {},
   "outputs": [],
   "source": [
    "#!/usr/bin/env python\n",
    "# coding: utf-8\n",
    "\n",
    "# # Make a [tonic](https://tonic.readthedocs.io/en/latest/) dataset - see [documentation](https://tonic.readthedocs.io/en/latest/tutorials/wrapping_own_data.html)\n",
    "# ## Example with the RGB frames dataset provided by NTUA, translated by UCA into events using vid2e\n",
    "\n",
    "from dataset_creation_aprovis3d import aprovis3dDataset, loadaerdat\n",
    "from hots.utils import get_dataset_info\n",
    "from os import walk, path\n",
    "import numpy as np\n",
    "import matplotlib.pyplot as plt\n",
    "\n",
    "# path where you'll go to find your .npy files to make the dataset with\n",
    "### TO BE MODIFIED\n",
    "# path = '../../Data/DVS128_ZED_NUC_jAER/'\n",
    "data_path = '/home/amelie/Scripts/Data/coastline_events/DVS128_ZED_NUC_jAER/'"
   ]
  },
  {
   "cell_type": "code",
   "execution_count": 20,
   "metadata": {},
   "outputs": [
    {
     "name": "stdout",
     "output_type": "stream",
     "text": [
      "['/home/amelie/Scripts/Data/coastline_events/DVS128_ZED_NUC_jAER/session_5_only_ground/DVS128_06_06_2022_session_5.aedat', '/home/amelie/Scripts/Data/coastline_events/DVS128_ZED_NUC_jAER/session_4_only_sea/DVS128_06_06_2022_session_4.aedat', '/home/amelie/Scripts/Data/coastline_events/DVS128_ZED_NUC_jAER/session_3_only_ground/DVS128_06_06_2022_session_3.aedat', '/home/amelie/Scripts/Data/coastline_events/DVS128_ZED_NUC_jAER/session_6_only_sea/DVS128_06_06_2022_session_6.aedat', '/home/amelie/Scripts/Data/coastline_events/DVS128_ZED_NUC_jAER/session_2_only_sea/DVS128_06_06_2022_session_2.aedat', '/home/amelie/Scripts/Data/coastline_events/DVS128_ZED_NUC_jAER/session_1_only_ground/DVS128_06_06_2022_session_1.aedat']\n"
     ]
    }
   ],
   "source": [
    "event_files = []\n",
    "for (rep_path, _, files) in walk(data_path):\n",
    "    for f in files: \n",
    "        if f.endswith('aedat'):\n",
    "            event_files.append(path.join(rep_path, f))\n",
    "print(event_files)"
   ]
  },
  {
   "cell_type": "code",
   "execution_count": 21,
   "metadata": {},
   "outputs": [
    {
     "name": "stdout",
     "output_type": "stream",
     "text": [
      "file size 7540673\n",
      "read 942584 (~ 0.94M) AE events, duration= 304.67s\n",
      "showing first 5:\n",
      "timestamps: [1378698305, 218768160, 543781664, 1998602565, 1629513321] \n",
      "X-addr: [34, 24, 57, 48, 58]\n",
      "Y-addr: [65, 46, 105, 114, 97]\n",
      "polarity: [1, 0, 1, 1, 0]\n",
      "ground\n"
     ]
    }
   ],
   "source": [
    "# load data\n",
    "ev = loadaerdat(event_files[0])\n",
    "label = 'sea' if 'sea' in event_files[0] else 'ground'\n",
    "print(label)\n",
    "\n",
    "dtype = np.dtype([(\"x\", int), (\"y\", int), (\"t\", int), (\"p\", int)])\n",
    "ordering = dtype.names"
   ]
  },
  {
   "cell_type": "markdown",
   "metadata": {},
   "source": [
    "# Display event repartition"
   ]
  },
  {
   "cell_type": "code",
   "execution_count": 24,
   "metadata": {},
   "outputs": [
    {
     "name": "stdout",
     "output_type": "stream",
     "text": [
      "Min timestamps: 4113026.0\n",
      "Max timestamps: 4282598039.0\n"
     ]
    }
   ],
   "source": [
    "min_ts = np.min(ev[:,ordering.index('t')])\n",
    "max_ts = np.max(ev[:,ordering.index('t')])\n",
    "print('Min timestamps:', min_ts)\n",
    "print('Max timestamps:', max_ts)"
   ]
  },
  {
   "cell_type": "code",
   "execution_count": 28,
   "metadata": {},
   "outputs": [
    {
     "data": {
      "text/plain": [
       "(array([  71., 2789.,  151., ...,   75.,  128.,  192.]),\n",
       " array([4.11302600e+06, 4.15581085e+06, 4.19859570e+06, ...,\n",
       "        4.28251247e+09, 4.28255525e+09, 4.28259804e+09]),\n",
       " <BarContainer object of 100000 artists>)"
      ]
     },
     "execution_count": 28,
     "metadata": {},
     "output_type": "execute_result"
    },
    {
     "data": {
      "image/png": "[encoded data removed]",
      "text/plain": [
       "<Figure size 640x480 with 1 Axes>"
      ]
     },
     "metadata": {},
     "output_type": "display_data"
    }
   ],
   "source": [
    "frame_bin=int(1e5)\n",
    "plt.hist(ev[:, ordering.index('t')], bins=frame_bin)"
   ]
  },
  {
   "cell_type": "code",
   "execution_count": 29,
   "metadata": {},
   "outputs": [
    {
     "data": {
      "text/plain": [
       "(array([5.434e+03, 0.000e+00, 0.000e+00, 3.350e+03, 0.000e+00, 0.000e+00,\n",
       "        0.000e+00, 5.184e+03, 8.160e+02, 0.000e+00, 0.000e+00, 3.680e+03,\n",
       "        0.000e+00, 0.000e+00, 0.000e+00, 6.224e+03, 3.200e+02, 0.000e+00,\n",
       "        0.000e+00, 4.043e+03, 0.000e+00, 0.000e+00, 0.000e+00, 5.541e+03,\n",
       "        0.000e+00, 0.000e+00, 0.000e+00, 3.476e+03, 0.000e+00, 0.000e+00,\n",
       "        0.000e+00, 4.387e+03, 0.000e+00, 0.000e+00, 0.000e+00, 2.392e+03,\n",
       "        0.000e+00, 0.000e+00, 9.000e+00, 5.791e+03, 0.000e+00, 0.000e+00,\n",
       "        0.000e+00, 3.445e+03, 0.000e+00, 0.000e+00, 0.000e+00, 6.339e+03,\n",
       "        0.000e+00, 0.000e+00, 3.030e+03, 1.235e+03, 0.000e+00, 0.000e+00,\n",
       "        4.865e+03, 9.000e+02, 0.000e+00, 0.000e+00, 3.337e+03, 0.000e+00,\n",
       "        0.000e+00, 0.000e+00, 4.570e+03, 6.880e+02, 0.000e+00, 0.000e+00,\n",
       "        3.075e+03, 0.000e+00, 0.000e+00, 0.000e+00, 6.080e+03, 0.000e+00,\n",
       "        0.000e+00, 0.000e+00, 3.804e+03, 0.000e+00, 0.000e+00, 0.000e+00,\n",
       "        6.803e+03, 0.000e+00, 0.000e+00, 0.000e+00, 4.268e+03, 0.000e+00,\n",
       "        0.000e+00, 0.000e+00, 6.216e+03, 0.000e+00, 0.000e+00, 0.000e+00,\n",
       "        3.974e+03, 0.000e+00, 0.000e+00, 0.000e+00, 6.481e+03, 0.000e+00,\n",
       "        0.000e+00, 0.000e+00, 4.281e+03, 0.000e+00, 0.000e+00, 4.941e+03,\n",
       "        1.856e+03, 0.000e+00, 0.000e+00, 4.211e+03, 0.000e+00, 0.000e+00,\n",
       "        0.000e+00, 6.778e+03, 8.290e+02, 0.000e+00, 0.000e+00, 4.637e+03,\n",
       "        0.000e+00, 0.000e+00, 0.000e+00, 7.206e+03, 0.000e+00, 0.000e+00,\n",
       "        0.000e+00, 4.556e+03, 0.000e+00, 0.000e+00, 0.000e+00, 7.273e+03,\n",
       "        1.600e+01, 0.000e+00, 0.000e+00, 4.421e+03, 0.000e+00, 0.000e+00,\n",
       "        8.000e+00, 6.523e+03, 2.000e+00, 0.000e+00, 8.000e+00, 3.889e+03,\n",
       "        0.000e+00, 0.000e+00, 0.000e+00, 6.605e+03, 0.000e+00, 0.000e+00,\n",
       "        0.000e+00, 4.188e+03, 0.000e+00, 0.000e+00, 0.000e+00, 6.899e+03,\n",
       "        0.000e+00, 0.000e+00, 3.925e+03, 0.000e+00, 0.000e+00, 0.000e+00,\n",
       "        5.189e+03, 8.130e+02, 0.000e+00, 0.000e+00, 3.851e+03, 1.000e+00,\n",
       "        0.000e+00, 0.000e+00, 5.286e+03, 4.130e+02, 0.000e+00, 0.000e+00,\n",
       "        3.324e+03, 0.000e+00, 0.000e+00, 0.000e+00, 5.595e+03, 0.000e+00,\n",
       "        0.000e+00, 0.000e+00, 3.563e+03, 0.000e+00, 0.000e+00, 0.000e+00,\n",
       "        5.611e+03, 2.000e+00, 0.000e+00, 0.000e+00, 2.996e+03, 0.000e+00,\n",
       "        0.000e+00, 1.000e+00, 4.342e+03, 0.000e+00, 0.000e+00, 4.000e+00,\n",
       "        2.447e+03, 0.000e+00, 0.000e+00, 5.000e+00, 6.849e+03, 0.000e+00,\n",
       "        0.000e+00, 1.000e+01, 4.399e+03, 0.000e+00, 0.000e+00, 5.383e+03,\n",
       "        7.940e+02, 0.000e+00, 0.000e+00, 3.699e+03, 0.000e+00, 0.000e+00,\n",
       "        0.000e+00, 4.718e+03, 8.210e+02, 0.000e+00, 0.000e+00, 3.236e+03,\n",
       "        0.000e+00, 0.000e+00, 0.000e+00, 6.701e+03, 0.000e+00, 0.000e+00,\n",
       "        0.000e+00, 4.222e+03, 0.000e+00, 0.000e+00, 0.000e+00, 4.979e+03,\n",
       "        0.000e+00, 0.000e+00, 0.000e+00, 2.960e+03, 0.000e+00, 0.000e+00,\n",
       "        1.000e+00, 5.056e+03, 0.000e+00, 0.000e+00, 1.500e+01, 3.050e+03,\n",
       "        0.000e+00, 0.000e+00, 2.000e+01, 5.603e+03, 0.000e+00, 0.000e+00,\n",
       "        0.000e+00, 3.173e+03, 0.000e+00, 0.000e+00, 3.712e+03, 2.364e+03,\n",
       "        0.000e+00, 0.000e+00, 3.828e+03, 0.000e+00, 0.000e+00, 0.000e+00,\n",
       "        4.152e+03, 7.310e+02, 0.000e+00, 0.000e+00, 2.936e+03, 1.000e+00,\n",
       "        0.000e+00, 0.000e+00, 5.163e+03, 5.000e+01, 0.000e+00, 0.000e+00,\n",
       "        3.174e+03, 1.000e+00, 0.000e+00, 0.000e+00, 6.880e+03, 2.000e+00,\n",
       "        0.000e+00, 0.000e+00, 4.053e+03, 0.000e+00, 0.000e+00, 0.000e+00,\n",
       "        5.464e+03, 0.000e+00, 0.000e+00, 0.000e+00, 3.095e+03, 0.000e+00,\n",
       "        0.000e+00, 0.000e+00, 5.682e+03, 0.000e+00, 0.000e+00, 0.000e+00,\n",
       "        3.438e+03, 0.000e+00, 0.000e+00, 0.000e+00, 5.227e+03, 0.000e+00,\n",
       "        0.000e+00, 2.830e+03, 2.300e+02, 0.000e+00, 0.000e+00, 4.497e+03,\n",
       "        8.890e+02, 0.000e+00, 0.000e+00, 3.081e+03, 0.000e+00, 0.000e+00,\n",
       "        0.000e+00, 5.975e+03, 2.970e+02, 0.000e+00, 0.000e+00, 4.103e+03,\n",
       "        0.000e+00, 0.000e+00, 0.000e+00, 5.218e+03, 1.000e+00, 0.000e+00,\n",
       "        0.000e+00, 3.067e+03, 2.000e+00, 0.000e+00, 0.000e+00, 8.320e+03,\n",
       "        1.000e+00, 0.000e+00, 0.000e+00, 5.419e+03, 0.000e+00, 0.000e+00,\n",
       "        0.000e+00, 5.955e+03, 0.000e+00, 0.000e+00, 0.000e+00, 3.489e+03,\n",
       "        0.000e+00, 0.000e+00, 0.000e+00, 6.175e+03, 0.000e+00, 0.000e+00,\n",
       "        0.000e+00, 3.779e+03, 0.000e+00, 0.000e+00, 3.871e+03, 8.810e+02,\n",
       "        0.000e+00, 0.000e+00, 2.730e+03, 0.000e+00, 0.000e+00, 0.000e+00,\n",
       "        5.800e+03, 7.700e+02, 0.000e+00, 0.000e+00, 4.077e+03, 0.000e+00,\n",
       "        0.000e+00, 0.000e+00, 6.988e+03, 0.000e+00, 0.000e+00, 0.000e+00,\n",
       "        4.353e+03, 0.000e+00, 0.000e+00, 0.000e+00, 5.643e+03, 0.000e+00,\n",
       "        0.000e+00, 1.000e+00, 2.808e+03, 1.600e+01, 0.000e+00, 1.000e+00,\n",
       "        4.790e+03, 0.000e+00, 0.000e+00, 0.000e+00, 2.563e+03, 0.000e+00,\n",
       "        0.000e+00, 1.000e+00, 6.168e+03, 0.000e+00, 0.000e+00, 2.000e+00,\n",
       "        3.779e+03, 0.000e+00, 0.000e+00, 3.983e+03, 2.072e+03, 0.000e+00,\n",
       "        0.000e+00, 3.572e+03, 1.000e+00, 0.000e+00, 0.000e+00, 4.662e+03,\n",
       "        7.060e+02, 0.000e+00, 0.000e+00, 3.353e+03, 5.000e+00, 0.000e+00,\n",
       "        0.000e+00, 5.575e+03, 1.100e+02, 0.000e+00, 0.000e+00, 3.337e+03,\n",
       "        3.000e+00, 0.000e+00, 0.000e+00, 6.157e+03, 7.000e+00, 0.000e+00,\n",
       "        0.000e+00, 3.979e+03, 1.000e+00, 0.000e+00, 0.000e+00, 4.670e+03,\n",
       "        1.700e+01, 0.000e+00, 0.000e+00, 2.709e+03, 3.000e+00, 0.000e+00,\n",
       "        0.000e+00, 4.714e+03, 0.000e+00, 0.000e+00, 0.000e+00, 2.691e+03,\n",
       "        0.000e+00, 0.000e+00, 2.000e+00, 5.329e+03, 0.000e+00, 0.000e+00,\n",
       "        2.642e+03, 3.950e+02, 0.000e+00, 0.000e+00, 3.515e+03, 7.380e+02,\n",
       "        0.000e+00, 0.000e+00, 2.447e+03, 6.000e+00, 0.000e+00, 0.000e+00,\n",
       "        5.401e+03, 4.620e+02, 0.000e+00, 0.000e+00, 3.429e+03, 0.000e+00,\n",
       "        0.000e+00, 0.000e+00, 6.084e+03, 0.000e+00, 0.000e+00, 0.000e+00,\n",
       "        3.554e+03, 0.000e+00, 0.000e+00, 0.000e+00, 4.405e+03, 0.000e+00,\n",
       "        0.000e+00, 0.000e+00, 2.597e+03, 0.000e+00, 0.000e+00, 0.000e+00,\n",
       "        5.112e+03, 0.000e+00, 0.000e+00, 0.000e+00, 3.036e+03, 0.000e+00,\n",
       "        0.000e+00, 0.000e+00, 4.714e+03, 0.000e+00, 0.000e+00, 0.000e+00,\n",
       "        2.887e+03, 0.000e+00, 0.000e+00, 4.175e+03, 6.670e+02, 0.000e+00,\n",
       "        0.000e+00, 2.896e+03, 0.000e+00, 0.000e+00, 0.000e+00, 5.072e+03,\n",
       "        1.047e+03, 0.000e+00, 0.000e+00, 3.469e+03, 0.000e+00, 0.000e+00,\n",
       "        0.000e+00, 6.449e+03, 0.000e+00, 0.000e+00, 0.000e+00, 3.808e+03,\n",
       "        0.000e+00, 0.000e+00, 0.000e+00, 5.744e+03, 0.000e+00, 0.000e+00,\n",
       "        0.000e+00, 3.472e+03, 0.000e+00, 0.000e+00, 0.000e+00, 5.057e+03,\n",
       "        0.000e+00, 0.000e+00, 0.000e+00, 2.823e+03, 0.000e+00, 0.000e+00,\n",
       "        0.000e+00, 4.459e+03, 0.000e+00, 0.000e+00, 0.000e+00, 2.461e+03,\n",
       "        0.000e+00, 0.000e+00, 2.317e+03, 1.809e+03, 0.000e+00, 0.000e+00,\n",
       "        2.369e+03, 0.000e+00, 0.000e+00, 0.000e+00, 3.691e+03, 8.800e+02,\n",
       "        0.000e+00, 0.000e+00, 2.496e+03, 0.000e+00, 0.000e+00, 0.000e+00,\n",
       "        3.770e+03, 1.760e+02, 0.000e+00, 0.000e+00, 2.136e+03, 0.000e+00,\n",
       "        0.000e+00, 0.000e+00, 5.112e+03, 0.000e+00, 0.000e+00, 0.000e+00,\n",
       "        2.851e+03, 0.000e+00, 0.000e+00, 0.000e+00, 3.756e+03, 0.000e+00,\n",
       "        0.000e+00, 0.000e+00, 2.039e+03, 0.000e+00, 0.000e+00, 0.000e+00,\n",
       "        3.967e+03, 0.000e+00, 0.000e+00, 0.000e+00, 2.242e+03, 0.000e+00,\n",
       "        0.000e+00, 0.000e+00, 4.236e+03, 0.000e+00, 0.000e+00, 1.797e+03,\n",
       "        5.050e+02, 0.000e+00, 0.000e+00, 2.978e+03, 7.790e+02, 0.000e+00,\n",
       "        0.000e+00, 1.986e+03, 0.000e+00, 0.000e+00, 0.000e+00, 3.575e+03,\n",
       "        6.020e+02, 0.000e+00, 0.000e+00, 2.123e+03, 0.000e+00, 0.000e+00,\n",
       "        0.000e+00, 4.496e+03, 0.000e+00, 0.000e+00, 0.000e+00, 2.457e+03,\n",
       "        0.000e+00, 0.000e+00, 0.000e+00, 3.980e+03, 0.000e+00, 0.000e+00,\n",
       "        0.000e+00, 2.289e+03, 0.000e+00, 0.000e+00, 0.000e+00, 4.189e+03,\n",
       "        0.000e+00, 0.000e+00, 0.000e+00, 2.306e+03, 0.000e+00, 0.000e+00,\n",
       "        0.000e+00, 3.850e+03, 0.000e+00, 0.000e+00, 0.000e+00, 1.945e+03,\n",
       "        0.000e+00, 0.000e+00, 3.095e+03, 8.930e+02, 0.000e+00, 0.000e+00,\n",
       "        2.179e+03, 0.000e+00, 0.000e+00, 0.000e+00, 2.781e+03, 7.610e+02,\n",
       "        0.000e+00, 0.000e+00, 1.816e+03, 0.000e+00, 0.000e+00, 0.000e+00,\n",
       "        3.648e+03, 0.000e+00, 0.000e+00, 0.000e+00, 1.887e+03, 0.000e+00,\n",
       "        0.000e+00, 0.000e+00, 2.806e+03, 0.000e+00, 0.000e+00, 0.000e+00,\n",
       "        1.333e+03, 0.000e+00, 0.000e+00, 0.000e+00, 4.129e+03, 0.000e+00,\n",
       "        0.000e+00, 0.000e+00, 2.201e+03, 0.000e+00, 0.000e+00, 0.000e+00,\n",
       "        2.721e+03, 0.000e+00, 0.000e+00, 0.000e+00, 1.254e+03, 0.000e+00,\n",
       "        0.000e+00, 7.000e+01, 3.428e+03, 0.000e+00, 0.000e+00, 1.613e+03,\n",
       "        0.000e+00, 0.000e+00, 0.000e+00, 2.074e+03, 6.650e+02, 0.000e+00,\n",
       "        0.000e+00, 1.309e+03, 0.000e+00, 0.000e+00, 0.000e+00, 2.453e+03,\n",
       "        2.110e+02, 0.000e+00, 0.000e+00, 1.128e+03, 0.000e+00, 0.000e+00,\n",
       "        0.000e+00, 2.904e+03, 0.000e+00, 0.000e+00, 0.000e+00, 1.595e+03,\n",
       "        0.000e+00, 0.000e+00, 0.000e+00, 3.737e+03, 0.000e+00, 0.000e+00,\n",
       "        0.000e+00, 2.036e+03, 0.000e+00, 0.000e+00, 0.000e+00, 3.148e+03,\n",
       "        0.000e+00, 0.000e+00, 0.000e+00, 1.472e+03, 0.000e+00, 0.000e+00,\n",
       "        0.000e+00, 3.606e+03, 0.000e+00, 0.000e+00, 1.000e+03, 7.860e+02,\n",
       "        0.000e+00, 0.000e+00, 2.457e+03, 7.680e+02, 0.000e+00, 0.000e+00,\n",
       "        1.594e+03, 0.000e+00, 0.000e+00, 0.000e+00, 2.775e+03, 6.690e+02,\n",
       "        0.000e+00, 0.000e+00, 1.559e+03, 0.000e+00, 0.000e+00, 0.000e+00,\n",
       "        2.473e+03, 0.000e+00, 0.000e+00, 0.000e+00, 8.530e+02, 0.000e+00,\n",
       "        0.000e+00, 0.000e+00, 3.152e+03, 0.000e+00, 0.000e+00, 0.000e+00,\n",
       "        1.366e+03, 0.000e+00, 0.000e+00, 0.000e+00, 2.178e+03, 0.000e+00,\n",
       "        0.000e+00, 0.000e+00, 8.310e+02, 0.000e+00, 0.000e+00, 0.000e+00,\n",
       "        2.940e+03, 0.000e+00, 0.000e+00, 0.000e+00, 1.307e+03, 0.000e+00,\n",
       "        0.000e+00, 1.618e+03, 1.072e+03, 0.000e+00, 0.000e+00, 1.275e+03,\n",
       "        1.000e+00, 0.000e+00, 0.000e+00, 2.142e+03, 9.020e+02, 0.000e+00,\n",
       "        0.000e+00, 1.253e+03, 0.000e+00, 0.000e+00, 0.000e+00, 4.493e+03,\n",
       "        0.000e+00, 0.000e+00, 0.000e+00, 1.372e+03, 0.000e+00, 0.000e+00,\n",
       "        0.000e+00, 2.975e+03, 0.000e+00, 0.000e+00, 0.000e+00, 1.218e+03,\n",
       "        0.000e+00, 0.000e+00, 0.000e+00, 2.308e+03, 0.000e+00, 0.000e+00,\n",
       "        0.000e+00, 9.950e+02, 0.000e+00, 0.000e+00, 0.000e+00, 3.678e+03,\n",
       "        0.000e+00, 0.000e+00, 0.000e+00, 1.259e+03, 0.000e+00, 0.000e+00,\n",
       "        0.000e+00, 2.566e+03, 0.000e+00, 0.000e+00, 1.016e+03, 0.000e+00,\n",
       "        0.000e+00, 0.000e+00, 2.072e+03, 7.230e+02, 0.000e+00, 0.000e+00,\n",
       "        1.308e+03, 0.000e+00, 0.000e+00, 0.000e+00, 2.755e+03, 3.280e+02,\n",
       "        0.000e+00, 0.000e+00, 1.257e+03, 0.000e+00, 0.000e+00, 0.000e+00,\n",
       "        2.776e+03, 0.000e+00, 0.000e+00, 0.000e+00, 1.276e+03, 0.000e+00,\n",
       "        0.000e+00, 0.000e+00, 2.535e+03, 0.000e+00, 0.000e+00, 0.000e+00,\n",
       "        9.860e+02, 0.000e+00, 0.000e+00, 0.000e+00, 2.789e+03, 0.000e+00,\n",
       "        0.000e+00, 0.000e+00, 1.227e+03, 0.000e+00, 0.000e+00, 0.000e+00,\n",
       "        2.698e+03, 0.000e+00, 0.000e+00, 5.120e+02, 8.330e+02, 0.000e+00,\n",
       "        0.000e+00, 1.889e+03, 7.510e+02, 0.000e+00, 0.000e+00, 1.221e+03,\n",
       "        1.000e+00, 0.000e+00, 0.000e+00, 1.774e+03, 6.020e+02, 0.000e+00,\n",
       "        0.000e+00, 9.540e+02, 0.000e+00, 0.000e+00, 0.000e+00, 3.293e+03,\n",
       "        0.000e+00, 0.000e+00, 0.000e+00, 1.657e+03, 0.000e+00, 0.000e+00,\n",
       "        0.000e+00, 2.921e+03, 0.000e+00, 0.000e+00, 0.000e+00, 1.179e+03,\n",
       "        0.000e+00, 0.000e+00, 0.000e+00, 2.922e+03, 0.000e+00, 0.000e+00,\n",
       "        0.000e+00, 1.070e+03, 0.000e+00, 0.000e+00, 0.000e+00, 3.254e+03,\n",
       "        0.000e+00, 0.000e+00, 0.000e+00, 1.334e+03, 0.000e+00, 0.000e+00,\n",
       "        2.093e+03, 1.208e+03, 0.000e+00, 0.000e+00, 1.646e+03, 0.000e+00,\n",
       "        0.000e+00, 0.000e+00, 2.685e+03, 7.760e+02, 0.000e+00, 0.000e+00,\n",
       "        1.728e+03, 0.000e+00, 0.000e+00, 0.000e+00, 4.199e+03, 0.000e+00,\n",
       "        0.000e+00, 0.000e+00, 2.139e+03, 0.000e+00, 0.000e+00, 0.000e+00,\n",
       "        3.687e+03, 0.000e+00, 0.000e+00, 0.000e+00, 1.916e+03, 0.000e+00,\n",
       "        0.000e+00, 0.000e+00, 3.386e+03, 0.000e+00, 0.000e+00, 0.000e+00,\n",
       "        1.717e+03, 0.000e+00, 0.000e+00, 0.000e+00, 3.230e+03, 0.000e+00,\n",
       "        0.000e+00, 0.000e+00, 1.573e+03, 0.000e+00, 0.000e+00, 0.000e+00,\n",
       "        4.784e+03, 0.000e+00, 0.000e+00, 2.267e+03]),\n",
       " array([4.11302600e+06, 8.39151101e+06, 1.26699960e+07, ...,\n",
       "        4.27404107e+09, 4.27831955e+09, 4.28259804e+09]),\n",
       " <BarContainer object of 1000 artists>)"
      ]
     },
     "execution_count": 29,
     "metadata": {},
     "output_type": "execute_result"
    },
    {
     "data": {
      "image/png": "[encoded data removed]",
      "text/plain": [
       "<Figure size 640x480 with 1 Axes>"
      ]
     },
     "metadata": {},
     "output_type": "display_data"
    }
   ],
   "source": [
    "frame_bin=int(1e3)\n",
    "plt.hist(ev[:, ordering.index('t')], bins=frame_bin)"
   ]
  },
  {
   "cell_type": "code",
   "execution_count": null,
   "metadata": {},
   "outputs": [],
   "source": [
    "t = min_ts\n",
    "nb_events_per_bin = []\n",
    "while t < min_ts:\n",
    "    nb_events_per_bin.append(\n",
    "        len(ev[t:t+frame_bin])\n",
    "    )\n",
    "    t += frame_bin\n",
    "print(r'Empty bins for bin={frame_bin}:', nb_events_per_bin.count(0))\n",
    "    "
   ]
  }
 ],
 "metadata": {
  "kernelspec": {
   "display_name": "HOTS",
   "language": "python",
   "name": "hots"
  },
  "language_info": {
   "codemirror_mode": {
    "name": "ipython",
    "version": 3
   },
   "file_extension": ".py",
   "mimetype": "text/x-python",
   "name": "python",
   "nbconvert_exporter": "python",
   "pygments_lexer": "ipython3",
   "version": "3.8.0"
  },
  "orig_nbformat": 4,
  "vscode": {
   "interpreter": {
    "hash": "97d04b89bf3df5e2217c8d9fee8680b29089df103b1cc6a6738da17db983e392"
   }
  }
 },
 "nbformat": 4,
 "nbformat_minor": 2
}
