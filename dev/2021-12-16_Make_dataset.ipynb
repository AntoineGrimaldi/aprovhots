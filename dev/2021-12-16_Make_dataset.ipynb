{
 "cells": [
  {
   "cell_type": "markdown",
   "id": "9029dca4-4842-48cd-adee-177c772002b1",
   "metadata": {},
   "source": [
    "# Make a dataset from .csv files"
   ]
  },
  {
   "cell_type": "code",
   "execution_count": 4,
   "id": "dd5f8687-76f1-4f17-a055-fa37e7a873e8",
   "metadata": {},
   "outputs": [
    {
     "name": "stdout",
     "output_type": "stream",
     "text": [
      "The autoreload extension is already loaded. To reload it, use:\n",
      "  %reload_ext autoreload\n"
     ]
    }
   ],
   "source": [
    "%load_ext autoreload\n",
    "%autoreload 2\n",
    "\n",
    "from dataset_creation import build_aprovis_dataset, Synthetic_Dataset\n",
    "from aprovhots import get_dataset_info\n",
    "\n",
    "# path where you'll go to find your .csv files to make the dataset with\n",
    "path = '/home/INT/grimaldi.a/Documents/projets/WP3/2021-12-06_simulator_data/'\n",
    "# gives a patch_size to divide spatially the event streams\n",
    "patch_size = (5,5) \n",
    "# gives a max duration for the samples of the dataset to divide temporally the event streams\n",
    "max_duration = 1e3\n",
    "# labels given to the different classes of the dataset\n",
    "labelz = ['sea','gro']\n",
    "# original sensor_size of the DVS (width,height,polarity)\n",
    "sensor_size = (128, 128, 2)\n",
    "# discard samples with less than min_num_events events\n",
    "min_num_events = 1000\n",
    "# split the recordings into train and test sets with train_test_ratio ratio\n",
    "train_test_ratio = .75\n",
    "# gives the indexing of the event stream\n",
    "ordering = 'xytp'"
   ]
  },
  {
   "cell_type": "code",
   "execution_count": null,
   "id": "2797f705-2ec9-4cf0-a4ea-157236a6d3cc",
   "metadata": {},
   "outputs": [
    {
     "name": "stdout",
     "output_type": "stream",
     "text": [
      "Building dataset\n",
      "loading -> only_sea_session_2.csv ...\n"
     ]
    },
    {
     "name": "stderr",
     "output_type": "stream",
     "text": [
      " 86%|████████████████████████████████████████████████████████████████████████████████████████████████████████████████████████████████████████████████████████████████████████████████████████████████▌                                | 68184/79654 [1:37:43<31:18,  6.11it/s]"
     ]
    }
   ],
   "source": [
    "trainset = Synthetic_Dataset(save_to=path, train=True, patch_size=patch_size, max_duration=max_duration)\n",
    "testset = Synthetic_Dataset(save_to=path, train=False, patch_size=patch_size, max_duration=max_duration)"
   ]
  },
  {
   "cell_type": "markdown",
   "id": "dec44814-6db6-475a-b2b1-05075e2f7262",
   "metadata": {},
   "source": [
    "**Synthetic_Dataset** goes to find the repository where the dataset with the corresponding *patch_size* and *max_duration* is stored. It is stored in *path/patch_{patch_size}_duration_{max_duration}/* and splitted into *./train/* and *./test/* repositories which are splitted into labelz repositories. \n",
    "\n",
    "If this repository does not exists it calls the function **build_aprovis_dataset** and makes the dataset storage by loading all the .csv files into *path* and treat them with the function **save_as_patches**.\n",
    "\n",
    "The advantage of using the class defined by torch or tonic modules to make a dataset is that we can easily make a loader of the samples and use some transforms already existing in these modules. "
   ]
  },
  {
   "cell_type": "markdown",
   "id": "1238dd0b-be82-4c16-bcaa-3bff8dca5bfd",
   "metadata": {},
   "source": [
    "# Get information about the dataset"
   ]
  },
  {
   "cell_type": "code",
   "execution_count": null,
   "id": "1dec7c96-89d7-4ae4-9a88-252ca8ad4b7a",
   "metadata": {},
   "outputs": [],
   "source": [
    "from dataset_creation import get_info\n",
    "values = get_dataset_info(trainset,testset)"
   ]
  },
  {
   "cell_type": "markdown",
   "id": "6bd449c5-bd16-4dd0-bf3e-2d0a6efcf118",
   "metadata": {},
   "source": [
    "Some statistics of the dataset can be easily observed with the **get_dataset_info** function. You have to put trainset and testset as input, if you only have one dataset you can put it twice. \n",
    "\n",
    "The default properties to be visualized are:\n",
    "- the *mean_isi* or mean Inter-Spike Interval: the time difference between to consecutive events (polarity is taken into account and then the ISI is computed for events of the same polarity and then averaged). This measure is inversely proportional to the density of events in the event stream. \n",
    "- the *null_isi* or the ratio of synchronous events in the recording: the ratio of events when the ISI is equal to 0 meaning they arrive at the exact same timing. A big *null_isi* value means that there is a lot of synchrnous events, maybe because the event stream is made from frames. \n",
    "- the number of events per sample (indicative when the duration of the samples is the same)\n",
    "- other properties can be asked to be plotted like the *median_isi* or can be developed in **get_properties** in order to visualize different features of the dataset. "
   ]
  },
  {
   "cell_type": "code",
   "execution_count": 6,
   "id": "1e80eb08-12ac-4b65-b165-fd2e2c057528",
   "metadata": {},
   "outputs": [
    {
     "name": "stdout",
     "output_type": "stream",
     "text": [
      "number of samples in the trainset: 8528\n",
      "number of samples in the testset: 4663\n",
      "----------------------------------------\n"
     ]
    },
    {
     "data": {
      "image/png": "[encoded data removed]",
      "text/plain": [
       "<Figure size 2160x720 with 3 Axes>"
      ]
     },
     "metadata": {
      "needs_background": "light"
     },
     "output_type": "display_data"
    }
   ],
   "source": [
    "values = get_dataset_info(trainset,testset,distinguish_labels=True)"
   ]
  },
  {
   "cell_type": "markdown",
   "id": "7dd2830c-80a0-42b8-9f4c-31f96833bfc4",
   "metadata": {},
   "source": [
    "Orange histograms are for the \"ground\" label and blue for the \"sea\":\n",
    "- one can notice that ground sessions contain way more events that sea ones (figure on the right)\n",
    "- this fact is also illustrated by the left figure with the Inter-Spike interval\n",
    "- on the middle the ratio of synchronous events are represented. One can see that the values are above .9 and quite close to 1 meaning that there are a lot of events with same timestamps. The fact that the output of the simulator may create frames and then convert them to events may trigger this artifact. "
   ]
  },
  {
   "cell_type": "markdown",
   "id": "f6370732-ba2c-40f0-a207-ee78d23ad217",
   "metadata": {},
   "source": [
    "The function **get_dataset_info** has an input called *distinguish_labels*, if it's True you make different histograms for the different labels. (same input called *distinguish_polarities* can be useful to check if the statistics of the event stream are preserved from one polarity to another)"
   ]
  },
  {
   "cell_type": "markdown",
   "id": "e4297509-c55b-4dfc-bd21-ad4851871705",
   "metadata": {},
   "source": [
    "# Sample visualization"
   ]
  },
  {
   "cell_type": "code",
   "execution_count": null,
   "id": "c5d3521f-52cc-4933-9214-3689466a96e0",
   "metadata": {},
   "outputs": [],
   "source": []
  }
 ],
 "metadata": {
  "kernelspec": {
   "display_name": "Python 3 (ipykernel)",
   "language": "python",
   "name": "python3"
  },
  "language_info": {
   "codemirror_mode": {
    "name": "ipython",
    "version": 3
   },
   "file_extension": ".py",
   "mimetype": "text/x-python",
   "name": "python",
   "nbconvert_exporter": "python",
   "pygments_lexer": "ipython3",
   "version": "3.8.10"
  }
 },
 "nbformat": 4,
 "nbformat_minor": 5
}
