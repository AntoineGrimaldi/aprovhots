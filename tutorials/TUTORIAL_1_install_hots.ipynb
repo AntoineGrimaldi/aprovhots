{
 "cells": [
  {
   "cell_type": "markdown",
   "id": "db7f17f4-f5a8-4eef-8185-bdf5732ac3b0",
   "metadata": {},
   "source": [
    "# Install the [hotsline](https://github.com/AntoineGrimaldi/hotsline) package"
   ]
  },
  {
   "cell_type": "code",
   "execution_count": 1,
   "id": "58400fe4-eb37-4b72-a754-5a900b1ca59b",
   "metadata": {},
   "outputs": [
    {
     "name": "stdout",
     "output_type": "stream",
     "text": [
      "Python 3.8.10\n"
     ]
    }
   ],
   "source": [
    "!python3 --version"
   ]
  },
  {
   "cell_type": "code",
   "execution_count": 2,
   "id": "ab9f861d-2a84-4c14-8205-299cff33803b",
   "metadata": {},
   "outputs": [
    {
     "name": "stdout",
     "output_type": "stream",
     "text": [
      "/home/INT/grimaldi.a/Documents/projets/HOTS\n",
      "fatal: le chemin de destination 'hotsline' existe déjà et n'est pas un répertoire vide.\n",
      "/home/INT/grimaldi.a/Documents/projets/HOTS/hotsline\n",
      "Déjà à jour.\n",
      "Requirement already satisfied: tqdm in /home/INT/grimaldi.a/.local/lib/python3.8/site-packages (from -r requirements.txt (line 1)) (4.62.3)\n",
      "Requirement already satisfied: tonic==1.0.19 in /home/INT/grimaldi.a/.local/lib/python3.8/site-packages (from -r requirements.txt (line 2)) (1.0.19)\n",
      "Requirement already satisfied: torch==1.11.0 in /home/INT/grimaldi.a/.local/lib/python3.8/site-packages (from -r requirements.txt (line 3)) (1.11.0)\n",
      "Requirement already satisfied: numpy==1.21.5 in /home/INT/grimaldi.a/.local/lib/python3.8/site-packages (from -r requirements.txt (line 4)) (1.21.5)\n",
      "Requirement already satisfied: scipy==1.8.0 in /home/INT/grimaldi.a/.local/lib/python3.8/site-packages (from -r requirements.txt (line 5)) (1.8.0)\n",
      "Requirement already satisfied: matplotlib==3.5.1 in /home/INT/grimaldi.a/.local/lib/python3.8/site-packages (from -r requirements.txt (line 6)) (3.5.1)\n",
      "Requirement already satisfied: typing-extensions in /home/INT/grimaldi.a/.local/lib/python3.8/site-packages (from tonic==1.0.19->-r requirements.txt (line 2)) (4.0.0)\n",
      "Requirement already satisfied: librosa in /home/INT/grimaldi.a/.local/lib/python3.8/site-packages (from tonic==1.0.19->-r requirements.txt (line 2)) (0.9.1)\n",
      "Requirement already satisfied: importRosbag>=1.0.3 in /home/INT/grimaldi.a/.local/lib/python3.8/site-packages (from tonic==1.0.19->-r requirements.txt (line 2)) (1.0.3)\n",
      "Requirement already satisfied: pbr in /home/INT/grimaldi.a/.local/lib/python3.8/site-packages (from tonic==1.0.19->-r requirements.txt (line 2)) (5.9.0)\n",
      "Requirement already satisfied: h5py in /home/INT/grimaldi.a/.local/lib/python3.8/site-packages (from tonic==1.0.19->-r requirements.txt (line 2)) (3.6.0)\n",
      "Requirement already satisfied: python-dateutil>=2.7 in /home/INT/grimaldi.a/.local/lib/python3.8/site-packages (from matplotlib==3.5.1->-r requirements.txt (line 6)) (2.8.2)\n",
      "Requirement already satisfied: kiwisolver>=1.0.1 in /home/INT/grimaldi.a/.local/lib/python3.8/site-packages (from matplotlib==3.5.1->-r requirements.txt (line 6)) (1.3.2)\n",
      "Requirement already satisfied: cycler>=0.10 in /home/INT/grimaldi.a/.local/lib/python3.8/site-packages (from matplotlib==3.5.1->-r requirements.txt (line 6)) (0.11.0)\n",
      "Requirement already satisfied: pyparsing>=2.2.1 in /home/INT/grimaldi.a/.local/lib/python3.8/site-packages (from matplotlib==3.5.1->-r requirements.txt (line 6)) (3.0.6)\n",
      "Requirement already satisfied: pillow>=6.2.0 in /home/INT/grimaldi.a/.local/lib/python3.8/site-packages (from matplotlib==3.5.1->-r requirements.txt (line 6)) (8.4.0)\n",
      "Requirement already satisfied: packaging>=20.0 in /home/INT/grimaldi.a/.local/lib/python3.8/site-packages (from matplotlib==3.5.1->-r requirements.txt (line 6)) (21.3)\n",
      "Requirement already satisfied: fonttools>=4.22.0 in /home/INT/grimaldi.a/.local/lib/python3.8/site-packages (from matplotlib==3.5.1->-r requirements.txt (line 6)) (4.28.2)\n",
      "Requirement already satisfied: setuptools in /home/INT/grimaldi.a/.local/lib/python3.8/site-packages (from importRosbag>=1.0.3->tonic==1.0.19->-r requirements.txt (line 2)) (59.2.0)\n",
      "Requirement already satisfied: six>=1.5 in /home/INT/grimaldi.a/.local/lib/python3.8/site-packages (from python-dateutil>=2.7->matplotlib==3.5.1->-r requirements.txt (line 6)) (1.16.0)\n",
      "Requirement already satisfied: pooch>=1.0 in /home/INT/grimaldi.a/.local/lib/python3.8/site-packages (from librosa->tonic==1.0.19->-r requirements.txt (line 2)) (1.6.0)\n",
      "Requirement already satisfied: audioread>=2.1.5 in /home/INT/grimaldi.a/.local/lib/python3.8/site-packages (from librosa->tonic==1.0.19->-r requirements.txt (line 2)) (2.1.9)\n",
      "Requirement already satisfied: joblib>=0.14 in /home/INT/grimaldi.a/.local/lib/python3.8/site-packages (from librosa->tonic==1.0.19->-r requirements.txt (line 2)) (1.1.0)\n",
      "Requirement already satisfied: resampy>=0.2.2 in /home/INT/grimaldi.a/.local/lib/python3.8/site-packages (from librosa->tonic==1.0.19->-r requirements.txt (line 2)) (0.2.2)\n",
      "Requirement already satisfied: decorator>=4.0.10 in /home/INT/grimaldi.a/.local/lib/python3.8/site-packages (from librosa->tonic==1.0.19->-r requirements.txt (line 2)) (5.1.0)\n",
      "Requirement already satisfied: scikit-learn>=0.19.1 in /home/INT/grimaldi.a/.local/lib/python3.8/site-packages (from librosa->tonic==1.0.19->-r requirements.txt (line 2)) (1.0.1)\n",
      "Requirement already satisfied: soundfile>=0.10.2 in /home/INT/grimaldi.a/.local/lib/python3.8/site-packages (from librosa->tonic==1.0.19->-r requirements.txt (line 2)) (0.10.3.post1)\n",
      "Requirement already satisfied: numba>=0.45.1 in /home/INT/grimaldi.a/.local/lib/python3.8/site-packages (from librosa->tonic==1.0.19->-r requirements.txt (line 2)) (0.55.1)\n",
      "Requirement already satisfied: llvmlite<0.39,>=0.38.0rc1 in /home/INT/grimaldi.a/.local/lib/python3.8/site-packages (from numba>=0.45.1->librosa->tonic==1.0.19->-r requirements.txt (line 2)) (0.38.0)\n",
      "Requirement already satisfied: appdirs>=1.3.0 in /home/INT/grimaldi.a/.local/lib/python3.8/site-packages (from pooch>=1.0->librosa->tonic==1.0.19->-r requirements.txt (line 2)) (1.4.4)\n",
      "Requirement already satisfied: requests>=2.19.0 in /home/INT/grimaldi.a/.local/lib/python3.8/site-packages (from pooch>=1.0->librosa->tonic==1.0.19->-r requirements.txt (line 2)) (2.26.0)\n",
      "Requirement already satisfied: threadpoolctl>=2.0.0 in /home/INT/grimaldi.a/.local/lib/python3.8/site-packages (from scikit-learn>=0.19.1->librosa->tonic==1.0.19->-r requirements.txt (line 2)) (3.0.0)\n",
      "Requirement already satisfied: cffi>=1.0 in /home/INT/grimaldi.a/.local/lib/python3.8/site-packages (from soundfile>=0.10.2->librosa->tonic==1.0.19->-r requirements.txt (line 2)) (1.15.0)\n",
      "Requirement already satisfied: pycparser in /home/INT/grimaldi.a/.local/lib/python3.8/site-packages (from cffi>=1.0->soundfile>=0.10.2->librosa->tonic==1.0.19->-r requirements.txt (line 2)) (2.21)\n",
      "Requirement already satisfied: idna<4,>=2.5 in /home/INT/grimaldi.a/.local/lib/python3.8/site-packages (from requests>=2.19.0->pooch>=1.0->librosa->tonic==1.0.19->-r requirements.txt (line 2)) (3.3)\n",
      "Requirement already satisfied: urllib3<1.27,>=1.21.1 in /home/INT/grimaldi.a/.local/lib/python3.8/site-packages (from requests>=2.19.0->pooch>=1.0->librosa->tonic==1.0.19->-r requirements.txt (line 2)) (1.26.7)\n",
      "Requirement already satisfied: charset-normalizer~=2.0.0 in /home/INT/grimaldi.a/.local/lib/python3.8/site-packages (from requests>=2.19.0->pooch>=1.0->librosa->tonic==1.0.19->-r requirements.txt (line 2)) (2.0.7)\n",
      "Requirement already satisfied: certifi>=2017.4.17 in /home/INT/grimaldi.a/.local/lib/python3.8/site-packages (from requests>=2.19.0->pooch>=1.0->librosa->tonic==1.0.19->-r requirements.txt (line 2)) (2021.10.8)\n",
      "\u001b[33mWARNING: There was an error checking the latest version of pip.\u001b[0m\u001b[33m\n",
      "\u001b[0mObtaining file:///home/INT/grimaldi.a/Documents/projets/HOTS/hotsline\n",
      "  Preparing metadata (setup.py) ... \u001b[?25ldone\n",
      "\u001b[?25hInstalling collected packages: hots\n",
      "  Attempting uninstall: hots\n",
      "    Found existing installation: hots 1.0\n",
      "    Uninstalling hots-1.0:\n",
      "      Successfully uninstalled hots-1.0\n",
      "  Running setup.py develop for hots\n",
      "Successfully installed hots-1.0\n",
      "\u001b[33mWARNING: There was an error checking the latest version of pip.\u001b[0m\u001b[33m\n",
      "\u001b[0m/home/INT/grimaldi.a/Documents/projets/HOTS/aprovhots/tutorials\n"
     ]
    }
   ],
   "source": [
    "%cd ~/Documents/projets/HOTS/\n",
    "!git clone git@github.com:AntoineGrimaldi/hotsline.git\n",
    "%cd hotsline/\n",
    "!git pull\n",
    "!python3 -m pip install --user -r requirements.txt\n",
    "!python3 -m pip install --user -e .\n",
    "%cd ../aprovhots/tutorials/"
   ]
  },
  {
   "cell_type": "markdown",
   "id": "6572ecce",
   "metadata": {},
   "source": [
    "<span style=\"color:red\">**<<<<<<< local**</span>"
   ]
  },
  {
   "cell_type": "code",
   "execution_count": 3,
   "id": "ff1975af-8647-43a2-aa36-d1de214d4f78",
   "metadata": {},
   "outputs": [],
   "source": [
    "import tonic, os\n",
    "from hots.utils import get_loader\n",
    "from hots.network import network"
   ]
  },
  {
   "cell_type": "markdown",
   "id": "9dbdb2cb-c0bf-418e-a980-fc66314d7ab0",
   "metadata": {},
   "source": [
    "# Make a trial of the package with Poker DVS"
   ]
  },
  {
   "cell_type": "code",
   "execution_count": 4,
   "id": "a70e0fbc-d9cd-4d1e-9c84-71b2ffc4a231",
   "metadata": {},
   "outputs": [
    {
     "name": "stdout",
     "output_type": "stream",
     "text": [
      "number of samples in the training set: 48\n",
      "number of samples in the testing set: 20\n"
     ]
    }
   ],
   "source": [
    "transform = tonic.transforms.NumpyAsType(int)\n",
    "trainset = tonic.datasets.POKERDVS(save_to='../../Data/', train=True, transform=transform)\n",
    "testset = tonic.datasets.POKERDVS(save_to='../../Data/', train=False, transform=transform)\n",
    "trainloader = get_loader(trainset)\n",
    "testloader = get_loader(testset)\n",
    "num_sample_train = len(trainloader)\n",
    "num_sample_test = len(testloader)\n",
    "print(f'number of samples in the training set: {len(trainloader)}')\n",
    "print(f'number of samples in the testing set: {len(testloader)}')"
   ]
  },
  {
   "cell_type": "markdown",
   "id": "4b96ec70-0f19-41f9-bcbb-566e0c7e5da1",
   "metadata": {},
   "source": [
    "## Initialization of the network"
   ]
  },
  {
   "cell_type": "code",
   "execution_count": 5,
   "id": "4e5350a2-627b-4609-a5a4-014864a95965",
   "metadata": {},
   "outputs": [
    {
     "name": "stdout",
     "output_type": "stream",
     "text": [
      "device -> cuda\n"
     ]
    }
   ],
   "source": [
    "name = 'homeohots'\n",
    "homeo = True\n",
    "timestr = '2022-05-18'\n",
    "dataset_name = 'poker'\n",
    "\n",
    "Rz = [2, 4]\n",
    "N_neuronz = [8, 16]\n",
    "tauz = [1e3, 4e3]\n",
    "\n",
    "hots = network(name, dataset_name, timestr, trainset.sensor_size, nb_neurons = N_neuronz, tau = tauz, R = Rz, homeo = homeo)"
   ]
  },
  {
   "cell_type": "markdown",
   "id": "37739cb7-65b9-44bc-98d1-6d69dd902647",
   "metadata": {},
   "source": [
    "## Unsupervised clustering"
   ]
  },
  {
   "cell_type": "code",
   "execution_count": 6,
   "id": "1f303a94-1e3b-4ee9-b2b6-3d4657514228",
   "metadata": {},
   "outputs": [
    {
     "name": "stderr",
     "output_type": "stream",
     "text": [
      "100%|█████████████████████████████████████████████████████████████████████████████████████████████████████████████████████████████████████████████████████████████████████████████████████████████████████████████████████████████████████████| 48/48 [05:22<00:00,  6.72s/it]\n"
     ]
    },
    {
     "ename": "FileNotFoundError",
     "evalue": "[Errno 2] No such file or directory: '../Records/networks/2022-05-18_poker_homeohots_True_[8, 16]_[1000.0, 4000.0]_[2, 4].pkl'",
     "output_type": "error",
     "traceback": [
      "\u001b[0;31m---------------------------------------------------------------------------\u001b[0m",
      "\u001b[0;31mFileNotFoundError\u001b[0m                         Traceback (most recent call last)",
      "\u001b[0;32m/tmp/ipykernel_61343/766527829.py\u001b[0m in \u001b[0;36m<module>\u001b[0;34m\u001b[0m\n\u001b[1;32m      4\u001b[0m \u001b[0mpath\u001b[0m \u001b[0;34m=\u001b[0m \u001b[0;34m'../Records/networks/'\u001b[0m\u001b[0;34m+\u001b[0m\u001b[0mhots\u001b[0m\u001b[0;34m.\u001b[0m\u001b[0mname\u001b[0m\u001b[0;34m+\u001b[0m\u001b[0;34m'.pkl'\u001b[0m\u001b[0;34m\u001b[0m\u001b[0;34m\u001b[0m\u001b[0m\n\u001b[1;32m      5\u001b[0m \u001b[0;32mif\u001b[0m \u001b[0;32mnot\u001b[0m \u001b[0mos\u001b[0m\u001b[0;34m.\u001b[0m\u001b[0mpath\u001b[0m\u001b[0;34m.\u001b[0m\u001b[0mexists\u001b[0m\u001b[0;34m(\u001b[0m\u001b[0mpath\u001b[0m\u001b[0;34m)\u001b[0m\u001b[0;34m:\u001b[0m\u001b[0;34m\u001b[0m\u001b[0;34m\u001b[0m\u001b[0m\n\u001b[0;32m----> 6\u001b[0;31m     \u001b[0mhots\u001b[0m\u001b[0;34m.\u001b[0m\u001b[0mclustering\u001b[0m\u001b[0;34m(\u001b[0m\u001b[0mtrainloader\u001b[0m\u001b[0;34m,\u001b[0m \u001b[0mtrainset\u001b[0m\u001b[0;34m.\u001b[0m\u001b[0mordering\u001b[0m\u001b[0;34m,\u001b[0m \u001b[0mrecord\u001b[0m \u001b[0;34m=\u001b[0m \u001b[0;32mTrue\u001b[0m\u001b[0;34m)\u001b[0m\u001b[0;34m\u001b[0m\u001b[0;34m\u001b[0m\u001b[0m\n\u001b[0m\u001b[1;32m      7\u001b[0m \u001b[0mhots\u001b[0m\u001b[0;34m.\u001b[0m\u001b[0mplotlayers\u001b[0m\u001b[0;34m(\u001b[0m\u001b[0;34m)\u001b[0m\u001b[0;34m;\u001b[0m\u001b[0;34m\u001b[0m\u001b[0;34m\u001b[0m\u001b[0m\n\u001b[1;32m      8\u001b[0m \u001b[0mhots\u001b[0m\u001b[0;34m.\u001b[0m\u001b[0mplotlearning\u001b[0m\u001b[0;34m(\u001b[0m\u001b[0;34m)\u001b[0m\u001b[0;34m;\u001b[0m\u001b[0;34m\u001b[0m\u001b[0;34m\u001b[0m\u001b[0m\n",
      "\u001b[0;32m~/Documents/projets/HOTS/hotsline/hots/network.py\u001b[0m in \u001b[0;36mclustering\u001b[0;34m(self, loader, ordering, filtering_threshold, record)\u001b[0m\n\u001b[1;32m     88\u001b[0m                         \u001b[0mtorch\u001b[0m\u001b[0;34m.\u001b[0m\u001b[0mcuda\u001b[0m\u001b[0;34m.\u001b[0m\u001b[0mempty_cache\u001b[0m\u001b[0;34m(\u001b[0m\u001b[0;34m)\u001b[0m\u001b[0;34m\u001b[0m\u001b[0;34m\u001b[0m\u001b[0m\n\u001b[1;32m     89\u001b[0m \u001b[0;34m\u001b[0m\u001b[0m\n\u001b[0;32m---> 90\u001b[0;31m             \u001b[0;32mwith\u001b[0m \u001b[0mopen\u001b[0m\u001b[0;34m(\u001b[0m\u001b[0mpath\u001b[0m\u001b[0;34m,\u001b[0m \u001b[0;34m'wb'\u001b[0m\u001b[0;34m)\u001b[0m \u001b[0;32mas\u001b[0m \u001b[0mfile\u001b[0m\u001b[0;34m:\u001b[0m\u001b[0;34m\u001b[0m\u001b[0;34m\u001b[0m\u001b[0m\n\u001b[0m\u001b[1;32m     91\u001b[0m                 \u001b[0mpickle\u001b[0m\u001b[0;34m.\u001b[0m\u001b[0mdump\u001b[0m\u001b[0;34m(\u001b[0m\u001b[0mself\u001b[0m\u001b[0;34m,\u001b[0m \u001b[0mfile\u001b[0m\u001b[0;34m,\u001b[0m \u001b[0mpickle\u001b[0m\u001b[0;34m.\u001b[0m\u001b[0mHIGHEST_PROTOCOL\u001b[0m\u001b[0;34m)\u001b[0m\u001b[0;34m\u001b[0m\u001b[0;34m\u001b[0m\u001b[0m\n\u001b[1;32m     92\u001b[0m             \u001b[0;32mif\u001b[0m \u001b[0mrecord\u001b[0m\u001b[0;34m:\u001b[0m\u001b[0;34m\u001b[0m\u001b[0;34m\u001b[0m\u001b[0m\n",
      "\u001b[0;31mFileNotFoundError\u001b[0m: [Errno 2] No such file or directory: '../Records/networks/2022-05-18_poker_homeohots_True_[8, 16]_[1000.0, 4000.0]_[2, 4].pkl'"
     ]
    }
   ],
   "source": [
    "if not os.path.exists('../Records/'):\n",
    "    os.mkdir('../Records/')\n",
    "    os.mkdir('../Records/networks/')\n",
    "    os.mkdir('../Records/LR_results/')\n",
    "path = '../Records/networks/'+hots.name+'.pkl'\n",
    "if not os.path.exists(path):\n",
    "    hots.clustering(trainloader, trainset.ordering, record = True)\n",
    "hots.plotlayers();\n",
    "hots.plotlearning();"
   ]
  },
  {
   "cell_type": "markdown",
   "id": "24b087f0-1cef-4563-874a-3f7add0b92dc",
   "metadata": {},
   "source": [
    "## Coding of the training and testing set"
   ]
  },
  {
   "cell_type": "code",
   "execution_count": null,
   "id": "96d1adca-43da-4074-8bcc-72d435b2a39f",
   "metadata": {},
   "outputs": [
    {
     "name": "stdout",
     "output_type": "stream",
     "text": [
      "this dataset have already been processed, check at: \n",
      " ../Records/output/train/2022-05-18_poker_homeohots_True_[8, 16]_[1000.0, 4000.0]_[2, 4]_48_(None, None)/\n",
      "this dataset have already been processed, check at: \n",
      " ../Records/output/test/2022-05-18_poker_homeohots_True_[8, 16]_[1000.0, 4000.0]_[2, 4]_20_(None, None)/\n"
     ]
    }
   ],
   "source": [
    "hots.coding(trainloader, trainset.ordering, trainset.classes, training=True)\n",
    "hots.coding(testloader, trainset.ordering, trainset.classes, training=False)"
   ]
  },
  {
   "cell_type": "markdown",
   "id": "ea8196f7-4c69-4a71-be35-2ce3ca8cc432",
   "metadata": {},
   "source": [
    "## Classification with histogram (post-hoc)"
   ]
  },
  {
   "cell_type": "code",
   "execution_count": null,
   "id": "253a1f82-cb71-49a0-84cb-37fb58911f2b",
   "metadata": {},
   "outputs": [],
   "source": [
    "jitter = (None, None)\n",
    "\n",
    "train_path = f'../Records/output/train/{hots.name}_{num_sample_train}_{jitter}/'\n",
    "test_path = f'../Records/output/test/{hots.name}_{num_sample_test}_{jitter}/'\n",
    "\n",
    "testset = HOTS_Dataset(test_path, trainset.sensor_size, transform=transform, dtype=trainset.dtype)\n",
    "trainset = HOTS_Dataset(train_path, trainset.sensor_size, transform=transform, dtype=trainset.dtype)\n",
    "\n",
    "score = make_histogram_classification(trainset, testset, N_neuronz[-1])\n",
    "print(f' Accuracy: {score*100}%')"
   ]
  },
  {
   "cell_type": "code",
   "execution_count": null,
   "id": "d280245c-2af4-4f32-ac83-7127336b2944",
   "metadata": {},
   "outputs": [],
   "source": []
  },
  {
   "cell_type": "code",
   "execution_count": null,
   "id": "a402af53-51f0-44a6-8eca-1ae7796b3a35",
   "metadata": {},
   "outputs": [],
   "source": []
  }
 ],
 "metadata": {
  "kernelspec": {
   "display_name": "Python 3 (ipykernel)",
   "language": "python",
   "name": "python3"
  },
  "language_info": {
   "codemirror_mode": {
    "name": "ipython",
    "version": 3
   },
   "file_extension": ".py",
   "mimetype": "text/x-python",
   "name": "python",
   "nbconvert_exporter": "python",
   "pygments_lexer": "ipython3",
   "version": "3.8.10"
  }
 },
 "nbformat": 4,
 "nbformat_minor": 5
}
