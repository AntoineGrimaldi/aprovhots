{
 "cells": [
  {
   "cell_type": "markdown",
   "id": "db7f17f4-f5a8-4eef-8185-bdf5732ac3b0",
   "metadata": {},
   "source": [
    "# Install the [hotsline](https://github.com/AntoineGrimaldi/hotsline) package"
   ]
  },
  {
   "cell_type": "code",
   "execution_count": null,
   "id": "ab9f861d-2a84-4c14-8205-299cff33803b",
   "metadata": {},
   "outputs": [],
   "source": [
    "%cd /home/antoine/homhots/\n",
    "!git clone git@github.com:AntoineGrimaldi/hotsline.git\n",
    "%cd hotsline/\n",
    "!python3 -m pip install --user -r requirements.txt\n",
    "!python3 -m pip install --user -e .\n",
    "%cd ../aprovhots/tutorials/"
   ]
  },
  {
   "cell_type": "code",
   "execution_count": null,
   "id": "69bb1250-4618-45eb-9f24-b7dd2fb9d129",
   "metadata": {},
   "outputs": [],
   "source": [
    "import tonic, os\n",
    "from hots.utils import get_loader\n",
    "from hots.network import network"
   ]
  },
  {
   "cell_type": "markdown",
   "id": "9dbdb2cb-c0bf-418e-a980-fc66314d7ab0",
   "metadata": {},
   "source": [
    "# Make a trial of the package with Poker DVS"
   ]
  },
  {
   "cell_type": "code",
   "execution_count": null,
   "id": "9c80b5c3-6b82-44d3-9bb9-e5f7a3f2e2af",
   "metadata": {},
   "outputs": [],
   "source": [
    "import tonic, torch, os\n",
    "from hots.timesurface import timesurface\n",
    "from hots.network import network\n",
    "from hots.utils import get_loader, make_histogram_classification, HOTS_Dataset\n",
    "\n",
    "print(f'Number of GPU devices available: {torch.cuda.device_count()}')\n",
    "for N_gpu in range(torch.cuda.device_count()):\n",
    "    print(f'GPU {N_gpu+1} named {torch.cuda.get_device_name(N_gpu)}')"
   ]
  },
  {
   "cell_type": "code",
   "execution_count": null,
   "id": "a70e0fbc-d9cd-4d1e-9c84-71b2ffc4a231",
   "metadata": {},
   "outputs": [],
   "source": [
    "transform = tonic.transforms.NumpyAsType(int)\n",
    "trainset = tonic.datasets.POKERDVS(save_to='../../Data/', train=True, transform=transform)\n",
    "testset = tonic.datasets.POKERDVS(save_to='../../Data/', train=False, transform=transform)\n",
    "trainloader = get_loader(trainset)\n",
    "testloader = get_loader(testset)\n",
    "num_sample_train = len(trainloader)\n",
    "num_sample_test = len(testloader)\n",
    "print(f'number of samples in the training set: {len(trainloader)}')\n",
    "print(f'number of samples in the testing set: {len(testloader)}')"
   ]
  },
  {
   "cell_type": "markdown",
   "id": "4b96ec70-0f19-41f9-bcbb-566e0c7e5da1",
   "metadata": {},
   "source": [
    "## Initialization of the network"
   ]
  },
  {
   "cell_type": "code",
   "execution_count": null,
   "id": "4e5350a2-627b-4609-a5a4-014864a95965",
   "metadata": {},
   "outputs": [],
   "source": [
    "name = 'homeohots'\n",
    "homeo = True\n",
    "timestr = '2022-05-18'\n",
    "dataset_name = 'poker'\n",
    "\n",
    "Rz = [2, 4]\n",
    "N_neuronz = [8, 16]\n",
    "tauz = [1e3, 4e3]\n",
    "\n",
    "hots = network(name, dataset_name, timestr, trainset.sensor_size, nb_neurons = N_neuronz, tau = tauz, R = Rz, homeo = homeo)"
   ]
  },
  {
   "cell_type": "markdown",
   "id": "37739cb7-65b9-44bc-98d1-6d69dd902647",
   "metadata": {},
   "source": [
    "## Unsupervised clustering"
   ]
  },
  {
   "cell_type": "code",
   "execution_count": null,
   "id": "1f303a94-1e3b-4ee9-b2b6-3d4657514228",
   "metadata": {},
   "outputs": [],
   "source": [
    "if not os.path.exists('../Records/'):\n",
    "    os.mkdir('../Records/')\n",
    "    os.mkdir('../Records/networks/')\n",
    "    os.mkdir('../Records/LR_results/')\n",
    "path = '../Records/networks/'+hots.name+'.pkl'\n",
    "if not os.path.exists(path):\n",
    "    hots.clustering(trainloader, trainset.ordering, record = True)\n",
    "hots.plotlayers();\n",
    "hots.plotlearning();"
   ]
  },
  {
   "cell_type": "markdown",
   "id": "24b087f0-1cef-4563-874a-3f7add0b92dc",
   "metadata": {},
   "source": [
    "## Coding of the training and testing set"
   ]
  },
  {
   "cell_type": "code",
   "execution_count": null,
   "id": "96d1adca-43da-4074-8bcc-72d435b2a39f",
   "metadata": {},
   "outputs": [],
   "source": [
    "hots.coding(trainloader, trainset.ordering, trainset.classes, training=True)\n",
    "hots.coding(testloader, trainset.ordering, trainset.classes, training=False)"
   ]
  },
  {
   "cell_type": "markdown",
   "id": "ea8196f7-4c69-4a71-be35-2ce3ca8cc432",
   "metadata": {},
   "source": [
    "## Classification with histogram (post-hoc)"
   ]
  },
  {
   "cell_type": "code",
   "execution_count": null,
   "id": "253a1f82-cb71-49a0-84cb-37fb58911f2b",
   "metadata": {},
   "outputs": [],
   "source": [
    "jitter = (None, None)\n",
    "\n",
    "train_path = f'../Records/output/train/{hots.name}_{num_sample_train}_{jitter}/'\n",
    "test_path = f'../Records/output/test/{hots.name}_{num_sample_test}_{jitter}/'\n",
    "\n",
    "testset = HOTS_Dataset(test_path, trainset.sensor_size, transform=transform, dtype=trainset.dtype)\n",
    "trainset = HOTS_Dataset(train_path, trainset.sensor_size, transform=transform, dtype=trainset.dtype)\n",
    "\n",
    "score = make_histogram_classification(trainset, testset, N_neuronz[-1])\n",
    "print(f' Accuracy: {score*100}%')"
   ]
  },
  {
   "cell_type": "code",
   "execution_count": null,
   "id": "d280245c-2af4-4f32-ac83-7127336b2944",
   "metadata": {},
   "outputs": [],
   "source": []
  },
  {
   "cell_type": "code",
   "execution_count": null,
   "id": "a402af53-51f0-44a6-8eca-1ae7796b3a35",
   "metadata": {},
   "outputs": [],
   "source": []
  }
 ],
 "metadata": {
  "kernelspec": {
   "display_name": "Python 3 (ipykernel)",
   "language": "python",
   "name": "python3"
  },
  "language_info": {
   "codemirror_mode": {
    "name": "ipython",
    "version": 3
   },
   "file_extension": ".py",
   "mimetype": "text/x-python",
   "name": "python",
   "nbconvert_exporter": "python",
   "pygments_lexer": "ipython3",
   "version": "3.8.10"
  }
 },
 "nbformat": 4,
 "nbformat_minor": 5
}
