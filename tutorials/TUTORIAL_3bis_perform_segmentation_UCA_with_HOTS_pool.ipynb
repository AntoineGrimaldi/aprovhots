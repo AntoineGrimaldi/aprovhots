{
 "cells": [
  {
   "cell_type": "markdown",
   "id": "8e8666b8-c02a-495b-898e-265b14e06b2b",
   "metadata": {},
   "source": [
    "# Perform online segmentation"
   ]
  },
  {
   "cell_type": "code",
   "execution_count": 2,
   "id": "dfbf2679-8cc8-4b49-9aa7-f142a7a2dc86",
   "metadata": {},
   "outputs": [],
   "source": [
    "%load_ext autoreload\n",
    "%autoreload 2"
   ]
  },
  {
   "cell_type": "code",
   "execution_count": 3,
   "id": "2875bf50-1bf6-4930-b232-62024aba6c31",
   "metadata": {},
   "outputs": [
    {
     "name": "stdout",
     "output_type": "stream",
     "text": [
      "/home/antoine/homhots/aprovhots/dev\n"
     ]
    }
   ],
   "source": [
    "%cd ../dev/\n",
    "from dataset_creation_aprovis3d import aprovis3dDataset"
   ]
  },
  {
   "cell_type": "code",
   "execution_count": 4,
   "id": "a0aae035-6bed-4cd0-9434-e1b9fff3152e",
   "metadata": {},
   "outputs": [
    {
     "name": "stdout",
     "output_type": "stream",
     "text": [
      "Tonic version installed -> 1.0.19\n",
      "Number of GPU devices available: 1\n",
      "GPU 1 named GeForce RTX 2080 Ti\n"
     ]
    }
   ],
   "source": [
    "import tonic, torch, os, pickle, copy, sys\n",
    "from tqdm import tqdm\n",
    "from hots.network import network\n",
    "from hots.layer import mlrlayer\n",
    "from hots.timesurface import timesurface\n",
    "from hots.utils import apply_jitter, get_loader, get_dataset_info, make_histogram_classification, HOTS_Dataset, fit_mlr, predict_mlr, score_classif_events, plotjitter, printfig, online_accuracy, make_and_display_ts\n",
    "import matplotlib.pyplot as plt\n",
    "import imageio.v3 as iio\n",
    "from IPython.display import Image\n",
    "import numpy as np\n",
    "\n",
    "print(f'Tonic version installed -> {tonic.__version__}')\n",
    "\n",
    "print(f'Number of GPU devices available: {torch.cuda.device_count()}')\n",
    "for N_gpu in range(torch.cuda.device_count()):\n",
    "    print(f'GPU {N_gpu+1} named {torch.cuda.get_device_name(N_gpu)}')\n",
    "    \n",
    "#record_path = '/envau/work/neopto/USERS/GRIMALDI/HOTS/hotsline/Records/'\n",
    "record_path = '../Records/' #-> default if not mentionned\n",
    "\n",
    "data_path = '../../Data/RGB_frames2events/'\n",
    "# gives the data type - here we use experimental data, stored as npy"
   ]
  },
  {
   "cell_type": "code",
   "execution_count": 5,
   "id": "9f0c7da0-4829-4f19-9885-4a5df5da1482",
   "metadata": {},
   "outputs": [],
   "source": [
    "from hots.layer import hotslayer\n",
    "from tqdm import tqdm\n",
    "from hots.timesurface import timesurface\n",
    "from hots.utils import entropy\n",
    "import numpy as np\n",
    "import matplotlib.pyplot as plt\n",
    "import torch, os\n",
    "import pickle\n",
    "\n",
    "\n",
    "class network_pooling(object):\n",
    "\n",
    "    def __init__(self,  name,\n",
    "                        dataset_name,\n",
    "                        timestr, # date of creation of the network \n",
    "                        sensor_size, # \n",
    "                        nb_neurons = (4,8,16), # architecture of the network (default=Lagorce2017)\n",
    "                        # parameters of time-surfaces and datasets\n",
    "                        tau = (1e1,1e2,1e3), #time constant for exponential decay in millisec\n",
    "                        R = (2,4,8), # parameter defining the spatial size of the time surface\n",
    "                        homeo = True, # parameters for homeostasis (None is no homeo rule)\n",
    "                        to_record = False,\n",
    "                        record_path = '../Records/',\n",
    "                        device = 'cuda',\n",
    "                ):\n",
    "        assert len(nb_neurons) == len(R) & len(nb_neurons) == len(tau)\n",
    "        \n",
    "        self.name = f'{timestr}_{dataset_name}_{name}_{homeo}_{nb_neurons}_{tau}_{R}'\n",
    "        nb_layers = len(nb_neurons)\n",
    "        self.n_pola = [nb_neurons[L] for L in range(nb_layers-1)]\n",
    "        self.n_pola.insert(0,2)\n",
    "        # pooling\n",
    "        self.channel_size = [(sensor_size[0]//(2*R[L]+1)+1, sensor_size[1]//(2*R[L]+1)+1) for L in range(nb_layers-1)]\n",
    "        self.channel_size.insert(0,(sensor_size[0], sensor_size[1]))\n",
    "        self.tau = tau\n",
    "        self.R = R\n",
    "        self.record_path = record_path\n",
    "        \n",
    "        # pooling\n",
    "        for L in range(nb_layers):\n",
    "            assert (2*self.R[L]+1)**2 <= self.channel_size[L][0]*self.channel_size[L][1]\n",
    "        \n",
    "        path = self.record_path+'networks/'+self.name+'.pkl'\n",
    "        if os.path.exists(path):\n",
    "            with open(path, 'rb') as file:\n",
    "                my_network = pickle.load(file)\n",
    "            self.layers = my_network.layers\n",
    "            for L in range(len(self.layers)):\n",
    "                self.layers[L] = self.layers[L].to(device)\n",
    "            \n",
    "        else:\n",
    "            self.layers = [hotslayer((2*R[L]+1)**2*self.n_pola[L], nb_neurons[L], homeostasis=homeo, device=device) for L in range(nb_layers)]\n",
    "            \n",
    "    def clustering(self, loader, ordering, filtering_threshold = None, ts_batch_size = None, device = 'cuda', record = False):\n",
    "        path = self.record_path+'networks/'+self.name+'.pkl'\n",
    "        if not os.path.exists(path):\n",
    "            p_index = ordering.index('p')\n",
    "            x_index = ordering.index('x')\n",
    "            y_index = ordering.index('y')\n",
    "            \n",
    "            for L in range(len(self.tau)):\n",
    "                self.layers[L] = self.layers[L].to(device)\n",
    "                self.layers[L].cumhisto = self.layers[L].cumhisto.to(device)\n",
    "            \n",
    "            if record:\n",
    "                entropy = []\n",
    "                loss = []\n",
    "                delta_w = []\n",
    "                homeostasis = []\n",
    "\n",
    "            with torch.no_grad():\n",
    "                \n",
    "                if not filtering_threshold: filtering_threshold = [None for L in range(len(self.tau))]\n",
    "                \n",
    "                for events, target in tqdm(loader):\n",
    "                    events = events.squeeze(0)\n",
    "                    if record:\n",
    "                        previous_dic = [self.layers[L].synapses.weight.data.T.detach().clone() for L in range(len(self.tau))]\n",
    "                    if ts_batch_size and len(events)>ts_batch_size:\n",
    "                        nb_batch = len(events)//ts_batch_size+1\n",
    "                        for L in range(len(self.tau)):\n",
    "                            previous_timestamp = []\n",
    "                            outputs = torch.Tensor([])\n",
    "                            ind_outputs = torch.Tensor([])\n",
    "                            for load_nb in range(nb_batch):\n",
    "                                all_ts, ind_filtered_timesurface, previous_timestamp = timesurface(events, (self.channel_size[L][0], self.channel_size[L][1], self.n_pola[L]), ordering, tau = self.tau[L], surface_dimensions=[2*self.R[L]+1,2*self.R[L]+1], filtering_threshold = filtering_threshold[L], ts_batch_size = ts_batch_size, load_number = load_nb, previous_timestamp = previous_timestamp, device = device)\n",
    "                                n_star, _ = self.layers[L](all_ts, True)\n",
    "                                outputs = torch.hstack([outputs,n_star]) if outputs.shape[0]>0 else n_star\n",
    "                                ind_outputs = torch.hstack([ind_outputs,ind_filtered_timesurface+load_nb*ts_batch_size]) if ind_outputs.shape[0]>0 else ind_filtered_timesurface\n",
    "                                if record:\n",
    "                                    proto_ts = all_ts.detach().clone()\n",
    "                                    kernels = self.layers[L].synapses.weight.data.T\n",
    "                                    DIFF = 0\n",
    "                                    for ev in range(len(n_star)):\n",
    "                                        proto_ts[ev,:,:,:] = torch.reshape(kernels[:,int(n_star[ev].cpu())], (self.n_pola[L], 2*self.R[L]+1, 2*self.R[L]+1))\n",
    "                                        diff = torch.linalg.norm(all_ts[ev,:,:,:]-proto_ts[ev,:,:,:])\n",
    "                                        DIFF += diff.mean()\n",
    "                                    DIFF/=len(n_star)\n",
    "                                    loss.append(DIFF.cpu())\n",
    "                                    entropy.append(entropy(kernels))\n",
    "                                    delta_w.append((kernels-previous_dic[L]).abs().mean().cpu())\n",
    "                                    homeostasis.append((self.layers[L].cumhisto/self.layers[L].cumhisto.sum()-1/kernels.shape[1]).abs().mean().cpu())\n",
    "                                del all_ts\n",
    "                                torch.cuda.empty_cache()\n",
    "                            events = events[ind_outputs,:]\n",
    "                            events[:,p_index] = outputs.cpu()\n",
    "                            events[:,x_index] = torch.div(events[:,x_index], (2*self.R[L]+1), rounding_mode='floor')\n",
    "                            events[:,y_index] = torch.div(events[:,y_index], (2*self.R[L]+1), rounding_mode='floor')\n",
    "                            if events.shape[0]==0: break\n",
    "                    else:    \n",
    "                        for L in range(len(self.tau)):\n",
    "                            all_ts, ind_filtered_timesurface = timesurface(events, (self.channel_size[L][0], self.channel_size[L][1], self.n_pola[L]), ordering, tau = self.tau[L], surface_dimensions=[2*self.R[L]+1,2*self.R[L]+1], filtering_threshold = filtering_threshold[L], device=device)\n",
    "                            n_star, _  = self.layers[L](all_ts, True)\n",
    "                            if record:\n",
    "                                proto_ts = all_ts.detach().clone()\n",
    "                                kernels = self.layers[L].synapses.weight.data.T\n",
    "                                DIFF = 0\n",
    "                                for ev in range(len(n_star)):\n",
    "                                    proto_ts[ev,:,:,:] = torch.reshape(kernels[:,int(n_star[ev].cpu())], (self.n_pola[L], 2*self.R[L]+1, 2*self.R[L]+1))\n",
    "                                    diff = torch.linalg.norm(all_ts[ev,:,:,:]-proto_ts[ev,:,:,:])\n",
    "                                    DIFF += diff.mean()\n",
    "                                DIFF/=len(n_star)\n",
    "                                loss.append(DIFF.cpu())\n",
    "                                entropy.append(entropy(kernels))\n",
    "                                delta_w.append((kernels-previous_dic[L]).abs().mean().cpu())\n",
    "                                homeostasis.append((self.layers[L].cumhisto/self.layers[L].cumhisto.sum()-1/kernels.shape[1]).abs().mean().cpu())\n",
    "                            del all_ts\n",
    "                            torch.cuda.empty_cache()\n",
    "                            \n",
    "                            events = events[ind_filtered_timesurface,:]\n",
    "                            events[:,p_index] = n_star.cpu()\n",
    "                            events[:,x_index] = torch.div(events[:,x_index], (2*self.R[L]+1), rounding_mode='floor')\n",
    "                            events[:,y_index] = torch.div(events[:,y_index], (2*self.R[L]+1), rounding_mode='floor')\n",
    "                            if events.shape[0]==0: break\n",
    "\n",
    "            with open(path, 'wb') as file:\n",
    "                pickle.dump(self, file, pickle.HIGHEST_PROTOCOL)\n",
    "            if record:\n",
    "                path = self.record_path+'networks/'+self.name+'_recorded_parameters.pkl'\n",
    "                with open(path, 'wb') as file:\n",
    "                    pickle.dump([loss, entropy, delta_w, homeostasis], file, pickle.HIGHEST_PROTOCOL)\n",
    "            \n",
    "            \n",
    "    def coding(self, loader, ordering, classes, training, ts_batch_size = None, filtering_threshold = None, jitter=(None,None), layer_threshold = None, device = 'cuda', verbose=True):\n",
    "        \n",
    "        #homeostatic gain control is used only for the clustering phase\n",
    "        for L in range(len(self.tau)):\n",
    "            self.layers[L].homeo_flag = False\n",
    "            self.layers[L] = self.layers[L].to(device)\n",
    "            self.layers[L].cumhisto = self.layers[L].cumhisto.to(device)\n",
    "        \n",
    "        if not filtering_threshold: filtering_threshold = [None for L in range(len(self.tau))]\n",
    "        if not layer_threshold: layer_threshold = [None for L in range(len(self.tau))]\n",
    "        \n",
    "        p_index = ordering.index('p')\n",
    "        x_index = ordering.index('x')\n",
    "        y_index = ordering.index('y')\n",
    "        \n",
    "        if training:\n",
    "            output_path = self.record_path+f'output/train/{self.name}_{len(loader)}_{jitter}/'\n",
    "        else: output_path = self.record_path+f'output/test/{self.name}_{len(loader)}_{jitter}/'\n",
    "        \n",
    "        if os.path.exists(output_path):\n",
    "            if verbose:\n",
    "                print(f'this dataset have already been processed, check at: \\n {output_path}')\n",
    "        else:\n",
    "            for classe in classes:\n",
    "                os.makedirs(output_path+f'{classe}')\n",
    "            \n",
    "            with torch.no_grad():\n",
    "                nb = 0\n",
    "                for events, target in tqdm(loader):\n",
    "                    events = events.squeeze(0)\n",
    "                    if ts_batch_size and len(events)>ts_batch_size:\n",
    "                        nb_batch = len(events)//ts_batch_size+1\n",
    "                        for L in range(len(self.tau)):\n",
    "                            previous_timestamp = []\n",
    "                            outputs = torch.Tensor([])\n",
    "                            ind_outputs = torch.Tensor([])\n",
    "                            for load_nb in range(nb_batch):\n",
    "                                all_ts, ind_filtered_timesurface, previous_timestamp = timesurface(events, (self.channel_size[L][0], self.channel_size[L][1], self.n_pola[L]), ordering, tau = self.tau[L], surface_dimensions=[2*self.R[L]+1,2*self.R[L]+1], filtering_threshold = filtering_threshold[L], ts_batch_size = ts_batch_size, load_number = load_nb, previous_timestamp = previous_timestamp, device = device)\n",
    "                                n_star, ind_filtered_layer = self.layers[L](all_ts, False)\n",
    "                                ind_to_keep = ind_filtered_timesurface[ind_filtered_layer]\n",
    "                                outputs = torch.hstack([outputs,n_star]) if outputs.shape[0]>0 else n_star\n",
    "                                ind_outputs = torch.hstack([ind_outputs,ind_to_keep+load_nb*ts_batch_size]) if ind_outputs.shape[0]>0 else ind_to_keep\n",
    "                                del all_ts\n",
    "                                torch.cuda.empty_cache()\n",
    "                            events = events[ind_outputs,:]\n",
    "                            events[:,p_index] = outputs.cpu()\n",
    "                            events[:,x_index] = torch.div(events[:,x_index], (2*self.R[L]+1), rounding_mode='floor')\n",
    "                            events[:,y_index] = torch.div(events[:,y_index], (2*self.R[L]+1), rounding_mode='floor')\n",
    "                            if events.shape[0]==0: \n",
    "                                complete_flag = False\n",
    "                                break\n",
    "                            else:\n",
    "                                complete_flag = True\n",
    "                    else:\n",
    "                        for L in range(len(self.tau)):\n",
    "                            all_ts, ind_filtered_timesurface = timesurface(events, (self.channel_size[L][0], self.channel_size[L][1], self.n_pola[L]), ordering, tau = self.tau[L], surface_dimensions=[2*self.R[L]+1,2*self.R[L]+1], filtering_threshold = filtering_threshold[L], device=device)\n",
    "                            n_star, ind_filtered_layer = self.layers[L](all_ts, False)\n",
    "                            events = events[ind_filtered_timesurface,:]\n",
    "                            events[:,p_index] = n_star.cpu()\n",
    "                            events = events[ind_filtered_layer,:]\n",
    "                            events[:,x_index] = torch.div(events[:,x_index], (2*self.R[L]+1), rounding_mode='floor')\n",
    "                            events[:,y_index] = torch.div(events[:,y_index], (2*self.R[L]+1), rounding_mode='floor')\n",
    "                            del all_ts\n",
    "                            torch.cuda.empty_cache()\n",
    "                            if events.shape[0]==0: \n",
    "                                complete_flag = False\n",
    "                                break\n",
    "                            else:\n",
    "                                complete_flag = True\n",
    "                    if complete_flag:\n",
    "                        np.save(output_path+f'{classes[target]}/{nb}', events)\n",
    "                    nb+=1\n",
    "                    \n",
    "                    \n",
    "    def plotlayers(self, maxpol=None, hisiz=2, yhis=0.3):\n",
    "        '''\n",
    "        '''\n",
    "        N = []\n",
    "        P = [2]\n",
    "        R2 = []\n",
    "        kernels = []\n",
    "        for L in range(len(self.tau)):\n",
    "            kernels.append(self.layers[L].synapses.weight.data.T.cpu().numpy())\n",
    "            N.append(int(kernels[L].shape[1]))\n",
    "            if L>0:\n",
    "                P.append(int(kernels[L-1].shape[1]))\n",
    "            R2.append(int(kernels[L].shape[0]/P[L]))\n",
    "        if maxpol is None:\n",
    "            maxpol=P[-1]\n",
    "\n",
    "        fig = plt.figure(figsize=(16,9))\n",
    "        gs = fig.add_gridspec(np.sum(P)+hisiz, np.sum(N)+len(self.tau)-1, wspace=0.05, hspace=0.05)\n",
    "        if self.layers[-1].homeo_flag:\n",
    "            fig.suptitle('Unsupervised clustering with homeostasis', size=20, y=0.95)\n",
    "        else:\n",
    "            fig.suptitle('Unsupervised clustering for original HOTS', size=20, y=0.95)\n",
    "\n",
    "        for L in range(len(self.tau)):\n",
    "            ax = fig.add_subplot(gs[:hisiz, int(np.sum(N[:L]))+1*L:int(np.sum(N[:L+1]))+L*1])\n",
    "            plt.bar(np.arange(N[L]), (self.layers[L].cumhisto/torch.sum(self.layers[L].cumhisto)).cpu(), width=1, align='edge', ec=\"k\")\n",
    "            ax.set_xticks(())\n",
    "            ax.set_title('Layer '+str(L+1), fontsize=16)\n",
    "            plt.xlim([0,N[L]])\n",
    "            yhis = 1.1*max(self.layers[L].cumhisto/torch.sum(self.layers[L].cumhisto)).cpu()\n",
    "            plt.ylim([0,yhis])\n",
    "\n",
    "            for k in range(N[L]):\n",
    "                vmaxi = max(kernels[L][:,k])\n",
    "                for j in range(P[L]):\n",
    "                    if j>maxpol-1:\n",
    "                        pass\n",
    "                    else:\n",
    "                        axi = fig.add_subplot(gs[j+hisiz,k+1*L+int(np.sum(N[:L]))])\n",
    "                        krnl = kernels[L][j*R2[L]:(j+1)*R2[L],k].reshape((int(np.sqrt(R2[L])), int(np.sqrt(R2[L]))))\n",
    "\n",
    "                        axi.imshow(krnl, vmin=0, vmax=vmaxi, cmap=plt.cm.plasma, interpolation='nearest')\n",
    "                        axi.set_xticks(())\n",
    "                        axi.set_yticks(())\n",
    "        plt.show()\n",
    "        return fig\n",
    "    \n",
    "    def plotlearning(self, width_fig = 30):\n",
    "        path = self.record_path+'networks/'+self.name+'_recorded_parameters.pkl'\n",
    "        with open(path, 'rb') as file:\n",
    "            loss, entropy, delta_w, homeostasis = pickle.load(file)\n",
    "            \n",
    "        n_layers = len(self.tau)\n",
    "        fig, axs = plt.subplots(n_layers,4, figsize=(width_fig,n_layers*width_fig//4))\n",
    "        for L in range(n_layers):\n",
    "            loss_layer = loss[L::n_layers]\n",
    "            entropy_layer = entropy[L::n_layers]\n",
    "            delta_w_layer = delta_w[L::n_layers]\n",
    "            homeostasis_layer = homeostasis[L::n_layers]\n",
    "            axs[L,0].plot(loss_layer)\n",
    "            axs[L,1].plot(entropy_layer)\n",
    "            axs[L,2].plot(delta_w_layer)\n",
    "            axs[L,3].plot(homeostasis_layer)\n",
    "            if L == 0:\n",
    "                axs[L,0].set_title('average loss')\n",
    "                axs[L,1].set_title('average entropy values for the time surfaces')\n",
    "                axs[L,2].set_title('average gradient of the weights')\n",
    "                axs[L,3].set_title('average homeostasic gain')\n",
    "        plt.show()"
   ]
  },
  {
   "cell_type": "code",
   "execution_count": 6,
   "id": "5cd26065-5e5b-4326-af1b-a1473d488926",
   "metadata": {},
   "outputs": [
    {
     "name": "stdout",
     "output_type": "stream",
     "text": [
      "number of samples in the training set: 69\n",
      "number of samples in the testing set: 24\n"
     ]
    }
   ],
   "source": [
    "data_type = 'synthetic'\n",
    "# gives a patch_size to divide spatially the event streams\n",
    "patch_size = (672, 376)\n",
    "# gives a max duration for the samples of the dataset to divide temporally the event streams\n",
    "max_duration = 1e3 # (in ms)\n",
    "# labels given to the different classes of the dataset\n",
    "labelz = ['sea','gro']\n",
    "# original sensor_size of the DVS (width,height,polarity)\n",
    "sensor_size = [672, 376, 2]\n",
    "# discard samples with less than min_num_events events\n",
    "min_num_events = 1000\n",
    "# split the recordings into train and test sets with train_test_ratio ratio\n",
    "train_test_ratio = .75\n",
    "# gives the indexing of the event stream\n",
    "ordering = 'xytp'\n",
    "\n",
    "trainset = aprovis3dDataset(save_to=data_path, data_type=data_type, classes=labelz, train=True, patch_size=patch_size, max_duration=max_duration, sensor_size=sensor_size)\n",
    "testset = aprovis3dDataset(save_to=data_path, data_type=data_type, classes=labelz, train=False, patch_size=patch_size, max_duration=max_duration, sensor_size=sensor_size)\n",
    "trainloader = get_loader(trainset)\n",
    "testloader = get_loader(testset)\n",
    "\n",
    "num_sample_train = len(trainloader)\n",
    "num_sample_test = len(testloader)\n",
    "n_classes = len(trainset.classes)\n",
    "print(f'number of samples in the training set: {len(trainloader)}')\n",
    "print(f'number of samples in the testing set: {len(testloader)}')"
   ]
  },
  {
   "cell_type": "raw",
   "id": "a3d2f8d8-d7ae-4c9d-adb8-a442a01b6801",
   "metadata": {},
   "source": [
    "# to make an animated time surface\n",
    "\n",
    "tau = 5e4\n",
    "ts_batch_size = 1000\n",
    "events, target = next(iter(trainloader))\n",
    "file_name = f'UCA_{target.item()}_{events.shape[1]}'\n",
    "make_and_display_ts(events.squeeze(0), file_name, trainset, tau, nb_frames = 100, ts_batch_size = ts_batch_size, polarity='on')"
   ]
  },
  {
   "cell_type": "markdown",
   "id": "8b1de6eb-2962-4f4c-a5bf-cebb48e6b6f3",
   "metadata": {},
   "source": [
    "## Run the core HOTS network"
   ]
  },
  {
   "cell_type": "code",
   "execution_count": 8,
   "id": "2e517b57-5530-4052-b617-7a6bb2e76bc7",
   "metadata": {},
   "outputs": [
    {
     "name": "stderr",
     "output_type": "stream",
     "text": [
      "  0%|                                                                                                                                                                                                                                                  | 0/69 [00:00<?, ?it/s]"
     ]
    },
    {
     "name": "stdout",
     "output_type": "stream",
     "text": [
      "0 672 376 2 9 9\n",
      "0 672 376 2 9 9\n",
      "0 672 376 2 9 9\n",
      "0 672 376 2 9 9\n",
      "0 672 376 2 9 9\n",
      "0 672 376 2 9 9\n",
      "0 672 376 2 9 9\n",
      "0 672 376 2 9 9\n",
      "0 672 376 2 9 9\n",
      "0 672 376 2 9 9\n",
      "0 672 376 2 9 9\n",
      "0 672 376 2 9 9\n",
      "0 672 376 2 9 9\n",
      "0 672 376 2 9 9\n",
      "0 672 376 2 9 9\n",
      "0 672 376 2 9 9\n",
      "0 672 376 2 9 9\n",
      "0 672 376 2 9 9\n",
      "0 672 376 2 9 9\n",
      "1 75 42 64 17 17\n",
      "1 75 42 64 17 17\n",
      "1 75 42 64 17 17\n",
      "1 75 42 64 17 17\n",
      "1 75 42 64 17 17\n",
      "1 75 42 64 17 17\n",
      "1 75 42 64 17 17\n",
      "1 75 42 64 17 17\n",
      "1 75 42 64 17 17\n",
      "1 75 42 64 17 17\n",
      "1 75 42 64 17 17\n",
      "1 75 42 64 17 17\n",
      "1 75 42 64 17 17\n",
      "1 75 42 64 17 17\n",
      "1 75 42 64 17 17\n",
      "1 75 42 64 17 17\n",
      "1 75 42 64 17 17\n",
      "1 75 42 64 17 17\n",
      "1 75 42 64 17 17\n"
     ]
    },
    {
     "name": "stderr",
     "output_type": "stream",
     "text": [
      "  1%|███▎                                                                                                                                                                                                                                   | 1/69 [07:33<8:33:41, 453.26s/it]"
     ]
    },
    {
     "name": "stdout",
     "output_type": "stream",
     "text": [
      "0 672 376 2 9 9\n",
      "0 672 376 2 9 9\n",
      "0 672 376 2 9 9\n",
      "0 672 376 2 9 9\n",
      "0 672 376 2 9 9\n",
      "1 75 42 64 17 17\n"
     ]
    },
    {
     "name": "stderr",
     "output_type": "stream",
     "text": [
      "  1%|███▎                                                                                                                                                                                                                                   | 1/69 [08:15<9:21:40, 495.59s/it]\n"
     ]
    },
    {
     "ename": "KeyboardInterrupt",
     "evalue": "",
     "output_type": "error",
     "traceback": [
      "\u001b[0;31m---------------------------------------------------------------------------\u001b[0m",
      "\u001b[0;31mKeyboardInterrupt\u001b[0m                         Traceback (most recent call last)",
      "Cell \u001b[0;32mIn [8], line 28\u001b[0m\n\u001b[1;32m     26\u001b[0m path \u001b[38;5;241m=\u001b[39m record_path\u001b[38;5;241m+\u001b[39m\u001b[38;5;124m'\u001b[39m\u001b[38;5;124mnetworks/\u001b[39m\u001b[38;5;124m'\u001b[39m\u001b[38;5;241m+\u001b[39mhots\u001b[38;5;241m.\u001b[39mname\u001b[38;5;241m+\u001b[39m\u001b[38;5;124m'\u001b[39m\u001b[38;5;124m.pkl\u001b[39m\u001b[38;5;124m'\u001b[39m\n\u001b[1;32m     27\u001b[0m \u001b[38;5;28;01mif\u001b[39;00m \u001b[38;5;129;01mnot\u001b[39;00m os\u001b[38;5;241m.\u001b[39mpath\u001b[38;5;241m.\u001b[39mexists(path):\n\u001b[0;32m---> 28\u001b[0m     hots\u001b[38;5;241m.\u001b[39mclustering(trainloader, trainset\u001b[38;5;241m.\u001b[39mordering, filtering_threshold \u001b[38;5;241m=\u001b[39m filtering_threshold, ts_batch_size \u001b[38;5;241m=\u001b[39m ts_batch_size)\n",
      "Cell \u001b[0;32mIn [5], line 87\u001b[0m, in \u001b[0;36mnetwork_pooling.clustering\u001b[0;34m(self, loader, ordering, filtering_threshold, ts_batch_size, device, record)\u001b[0m\n\u001b[1;32m     85\u001b[0m \u001b[38;5;28;01mfor\u001b[39;00m load_nb \u001b[38;5;129;01min\u001b[39;00m \u001b[38;5;28mrange\u001b[39m(nb_batch):\n\u001b[1;32m     86\u001b[0m     \u001b[38;5;28mprint\u001b[39m(L, \u001b[38;5;28mself\u001b[39m\u001b[38;5;241m.\u001b[39mchannel_size[L][\u001b[38;5;241m0\u001b[39m], \u001b[38;5;28mself\u001b[39m\u001b[38;5;241m.\u001b[39mchannel_size[L][\u001b[38;5;241m1\u001b[39m], \u001b[38;5;28mself\u001b[39m\u001b[38;5;241m.\u001b[39mn_pola[L], \u001b[38;5;241m2\u001b[39m\u001b[38;5;241m*\u001b[39m\u001b[38;5;28mself\u001b[39m\u001b[38;5;241m.\u001b[39mR[L]\u001b[38;5;241m+\u001b[39m\u001b[38;5;241m1\u001b[39m,\u001b[38;5;241m2\u001b[39m\u001b[38;5;241m*\u001b[39m\u001b[38;5;28mself\u001b[39m\u001b[38;5;241m.\u001b[39mR[L]\u001b[38;5;241m+\u001b[39m\u001b[38;5;241m1\u001b[39m)\n\u001b[0;32m---> 87\u001b[0m     all_ts, ind_filtered_timesurface, previous_timestamp \u001b[38;5;241m=\u001b[39m \u001b[43mtimesurface\u001b[49m\u001b[43m(\u001b[49m\u001b[43mevents\u001b[49m\u001b[43m,\u001b[49m\u001b[43m \u001b[49m\u001b[43m(\u001b[49m\u001b[38;5;28;43mself\u001b[39;49m\u001b[38;5;241;43m.\u001b[39;49m\u001b[43mchannel_size\u001b[49m\u001b[43m[\u001b[49m\u001b[43mL\u001b[49m\u001b[43m]\u001b[49m\u001b[43m[\u001b[49m\u001b[38;5;241;43m0\u001b[39;49m\u001b[43m]\u001b[49m\u001b[43m,\u001b[49m\u001b[43m \u001b[49m\u001b[38;5;28;43mself\u001b[39;49m\u001b[38;5;241;43m.\u001b[39;49m\u001b[43mchannel_size\u001b[49m\u001b[43m[\u001b[49m\u001b[43mL\u001b[49m\u001b[43m]\u001b[49m\u001b[43m[\u001b[49m\u001b[38;5;241;43m1\u001b[39;49m\u001b[43m]\u001b[49m\u001b[43m,\u001b[49m\u001b[43m \u001b[49m\u001b[38;5;28;43mself\u001b[39;49m\u001b[38;5;241;43m.\u001b[39;49m\u001b[43mn_pola\u001b[49m\u001b[43m[\u001b[49m\u001b[43mL\u001b[49m\u001b[43m]\u001b[49m\u001b[43m)\u001b[49m\u001b[43m,\u001b[49m\u001b[43m \u001b[49m\u001b[43mordering\u001b[49m\u001b[43m,\u001b[49m\u001b[43m \u001b[49m\u001b[43mtau\u001b[49m\u001b[43m \u001b[49m\u001b[38;5;241;43m=\u001b[39;49m\u001b[43m \u001b[49m\u001b[38;5;28;43mself\u001b[39;49m\u001b[38;5;241;43m.\u001b[39;49m\u001b[43mtau\u001b[49m\u001b[43m[\u001b[49m\u001b[43mL\u001b[49m\u001b[43m]\u001b[49m\u001b[43m,\u001b[49m\u001b[43m \u001b[49m\u001b[43msurface_dimensions\u001b[49m\u001b[38;5;241;43m=\u001b[39;49m\u001b[43m[\u001b[49m\u001b[38;5;241;43m2\u001b[39;49m\u001b[38;5;241;43m*\u001b[39;49m\u001b[38;5;28;43mself\u001b[39;49m\u001b[38;5;241;43m.\u001b[39;49m\u001b[43mR\u001b[49m\u001b[43m[\u001b[49m\u001b[43mL\u001b[49m\u001b[43m]\u001b[49m\u001b[38;5;241;43m+\u001b[39;49m\u001b[38;5;241;43m1\u001b[39;49m\u001b[43m,\u001b[49m\u001b[38;5;241;43m2\u001b[39;49m\u001b[38;5;241;43m*\u001b[39;49m\u001b[38;5;28;43mself\u001b[39;49m\u001b[38;5;241;43m.\u001b[39;49m\u001b[43mR\u001b[49m\u001b[43m[\u001b[49m\u001b[43mL\u001b[49m\u001b[43m]\u001b[49m\u001b[38;5;241;43m+\u001b[39;49m\u001b[38;5;241;43m1\u001b[39;49m\u001b[43m]\u001b[49m\u001b[43m,\u001b[49m\u001b[43m \u001b[49m\u001b[43mfiltering_threshold\u001b[49m\u001b[43m \u001b[49m\u001b[38;5;241;43m=\u001b[39;49m\u001b[43m \u001b[49m\u001b[43mfiltering_threshold\u001b[49m\u001b[43m[\u001b[49m\u001b[43mL\u001b[49m\u001b[43m]\u001b[49m\u001b[43m,\u001b[49m\u001b[43m \u001b[49m\u001b[43mts_batch_size\u001b[49m\u001b[43m \u001b[49m\u001b[38;5;241;43m=\u001b[39;49m\u001b[43m \u001b[49m\u001b[43mts_batch_size\u001b[49m\u001b[43m,\u001b[49m\u001b[43m \u001b[49m\u001b[43mload_number\u001b[49m\u001b[43m \u001b[49m\u001b[38;5;241;43m=\u001b[39;49m\u001b[43m \u001b[49m\u001b[43mload_nb\u001b[49m\u001b[43m,\u001b[49m\u001b[43m \u001b[49m\u001b[43mprevious_timestamp\u001b[49m\u001b[43m \u001b[49m\u001b[38;5;241;43m=\u001b[39;49m\u001b[43m \u001b[49m\u001b[43mprevious_timestamp\u001b[49m\u001b[43m,\u001b[49m\u001b[43m \u001b[49m\u001b[43mdevice\u001b[49m\u001b[43m \u001b[49m\u001b[38;5;241;43m=\u001b[39;49m\u001b[43m \u001b[49m\u001b[43mdevice\u001b[49m\u001b[43m)\u001b[49m\n\u001b[1;32m     88\u001b[0m     n_star, _ \u001b[38;5;241m=\u001b[39m \u001b[38;5;28mself\u001b[39m\u001b[38;5;241m.\u001b[39mlayers[L](all_ts, \u001b[38;5;28;01mTrue\u001b[39;00m)\n\u001b[1;32m     89\u001b[0m     outputs \u001b[38;5;241m=\u001b[39m torch\u001b[38;5;241m.\u001b[39mhstack([outputs,n_star]) \u001b[38;5;28;01mif\u001b[39;00m outputs\u001b[38;5;241m.\u001b[39mshape[\u001b[38;5;241m0\u001b[39m]\u001b[38;5;241m>\u001b[39m\u001b[38;5;241m0\u001b[39m \u001b[38;5;28;01melse\u001b[39;00m n_star\n",
      "File \u001b[0;32m~/homhots/hotsline/hots/timesurface.py:36\u001b[0m, in \u001b[0;36mtimesurface\u001b[0;34m(events, sensor_size, ordering, surface_dimensions, tau, decay, filtering_threshold, drop_proba, ts_batch_size, load_number, previous_timestamp, device, dtype)\u001b[0m\n\u001b[1;32m     34\u001b[0m \u001b[38;5;28;01melse\u001b[39;00m:\n\u001b[1;32m     35\u001b[0m     timestamp_memory \u001b[38;5;241m-\u001b[39m\u001b[38;5;241m=\u001b[39m tau \u001b[38;5;241m*\u001b[39m \u001b[38;5;241m5\u001b[39m \u001b[38;5;241m+\u001b[39m \u001b[38;5;241m1\u001b[39m\n\u001b[0;32m---> 36\u001b[0m all_surfaces \u001b[38;5;241m=\u001b[39m \u001b[43mtorch\u001b[49m\u001b[38;5;241;43m.\u001b[39;49m\u001b[43mzeros\u001b[49m\u001b[43m(\u001b[49m\n\u001b[1;32m     37\u001b[0m \u001b[43m    \u001b[49m\u001b[43m(\u001b[49m\u001b[43mts_batch_size\u001b[49m\u001b[43m,\u001b[49m\u001b[43m \u001b[49m\u001b[43msensor_size\u001b[49m\u001b[43m[\u001b[49m\u001b[38;5;241;43m2\u001b[39;49m\u001b[43m]\u001b[49m\u001b[43m,\u001b[49m\u001b[43m \u001b[49m\u001b[43msurface_dimensions\u001b[49m\u001b[43m[\u001b[49m\u001b[38;5;241;43m1\u001b[39;49m\u001b[43m]\u001b[49m\u001b[43m,\u001b[49m\u001b[43msurface_dimensions\u001b[49m\u001b[43m[\u001b[49m\u001b[38;5;241;43m0\u001b[39;49m\u001b[43m]\u001b[49m\u001b[43m)\u001b[49m\u001b[43m)\u001b[49m\u001b[38;5;241m.\u001b[39mto(device)\n\u001b[1;32m     38\u001b[0m \u001b[38;5;28;01mif\u001b[39;00m load_number\u001b[38;5;241m>\u001b[39m\u001b[38;5;241m=\u001b[39mnb_full_batch:\n\u001b[1;32m     39\u001b[0m     events_list \u001b[38;5;241m=\u001b[39m events[load_number\u001b[38;5;241m*\u001b[39mts_batch_size:\u001b[38;5;241m-\u001b[39m\u001b[38;5;241m1\u001b[39m,:]\n",
      "\u001b[0;31mKeyboardInterrupt\u001b[0m: "
     ]
    }
   ],
   "source": [
    "name = 'homeohots_pool'\n",
    "homeo = True\n",
    "timestr = '2023-01-03'\n",
    "dataset_name = 'aprovis_UCA_no_patch'\n",
    "ts_batch_size = int(2e4)\n",
    "\n",
    "tau_0 = 6e3\n",
    "tau_0 = 2e4\n",
    "\n",
    "Rz = [4, 8]\n",
    "N_neuronz = [64, 64]\n",
    "tauz = [tau_0*2, tau_0*64]\n",
    "\n",
    "hots = network_pooling(name, dataset_name, timestr, trainset.sensor_size, nb_neurons = N_neuronz, tau = tauz, R = Rz, homeo = homeo, record_path=record_path)\n",
    "\n",
    "initial_name = hots.name\n",
    "\n",
    "filtering_threshold = [2*Rz[L] for L in range(len(Rz))]\n",
    "if not os.path.exists(record_path):\n",
    "    os.mkdir(record_path)\n",
    "    os.mkdir(record_path+'networks/')\n",
    "    os.mkdir(record_path+'output/')\n",
    "    os.mkdir(record_path+'output/train/')\n",
    "    os.mkdir(record_path+'output/test/')\n",
    "    os.mkdir(record_path+'LR_results/')\n",
    "path = record_path+'networks/'+hots.name+'.pkl'\n",
    "if not os.path.exists(path):\n",
    "    hots.clustering(trainloader, trainset.ordering, filtering_threshold = filtering_threshold, ts_batch_size = ts_batch_size)"
   ]
  },
  {
   "cell_type": "raw",
   "id": "36c2b9c1-453c-4d00-86cd-82ece8f361c6",
   "metadata": {},
   "source": [
    "hots.plotlayers();"
   ]
  },
  {
   "cell_type": "code",
   "execution_count": 6,
   "id": "15a96e89-9ed3-4a44-9467-4cb667142082",
   "metadata": {},
   "outputs": [],
   "source": [
    "hots.coding(trainloader, trainset.ordering, trainset.classes, filtering_threshold = None, training=True, ts_batch_size = ts_batch_size, verbose=False)\n",
    "hots.coding(testloader, trainset.ordering, trainset.classes, filtering_threshold = None, training=False, ts_batch_size = ts_batch_size, verbose=False)"
   ]
  },
  {
   "cell_type": "code",
   "execution_count": 7,
   "id": "6ccbb664-4efc-4621-90a6-d7110c7184fa",
   "metadata": {},
   "outputs": [],
   "source": [
    "jitter = (None, None)\n",
    "type_transform = tonic.transforms.NumpyAsType(int)\n",
    "train_path = record_path+f'output/train/{hots.name}_{num_sample_train}_{jitter}/'\n",
    "test_path = record_path+f'output/test/{hots.name}_{num_sample_test}_{jitter}/'\n",
    "#trainset_output = HOTS_Dataset(train_path, trainset.sensor_size, trainset.classes, dtype=trainset.dtype, transform=type_transform)\n",
    "#testset_output = HOTS_Dataset(test_path, testset.sensor_size, testset.classes, dtype=testset.dtype, transform=type_transform)"
   ]
  },
  {
   "cell_type": "raw",
   "id": "8b33932c-a669-4118-85e1-a498e20f424d",
   "metadata": {},
   "source": [
    "score = make_histogram_classification(trainset_output, testset_output, N_neuronz[-1])\n",
    "print(score)"
   ]
  },
  {
   "cell_type": "markdown",
   "id": "aaed3ec8-fe43-44c1-958e-06e5cbfff489",
   "metadata": {},
   "source": [
    "## Divide the event streams into 16x16 patches"
   ]
  },
  {
   "cell_type": "code",
   "execution_count": 8,
   "id": "2641486d-b9aa-48ce-b57d-a9f3e35e5f66",
   "metadata": {},
   "outputs": [
    {
     "name": "stdout",
     "output_type": "stream",
     "text": [
      "number of samples in the training set: 3218\n",
      "number of samples in the testing set: 1172\n"
     ]
    }
   ],
   "source": [
    "patch_size = (64, 64)\n",
    "max_duration = None\n",
    "min_num_events = 10\n",
    "kfold = None\n",
    "\n",
    "#weird way of splitting dataset between trainsets and testsets but works -> to improve\n",
    "trainset_output = aprovis3dDataset(save_to=train_path, data_type=data_type, classes=labelz, train=True, patch_size=patch_size, max_duration=max_duration, sensor_size=sensor_size, train_test_ratio=1, min_num_events=min_num_events)\n",
    "testset_output = aprovis3dDataset(save_to=test_path, data_type=data_type, classes=labelz, train=True, patch_size=patch_size, max_duration=max_duration, sensor_size=sensor_size, train_test_ratio=1, min_num_events=min_num_events)\n",
    "trainloader_output = get_loader(trainset_output, kfold = kfold)\n",
    "testloader_output = get_loader(testset_output)\n",
    "print(f'number of samples in the training set: {len(trainloader_output)}')\n",
    "print(f'number of samples in the testing set: {len(testloader_output)}')"
   ]
  },
  {
   "cell_type": "markdown",
   "id": "836e855a-389e-4c49-a87d-7f15e2be8eac",
   "metadata": {},
   "source": [
    "## Example with only one layer of Multinomial Logistic Regression (MLR)"
   ]
  },
  {
   "cell_type": "code",
   "execution_count": 9,
   "id": "283fea09-1d7e-4ef9-83ee-1e28acbe867e",
   "metadata": {},
   "outputs": [],
   "source": [
    "ts_batch_size = int(1e3) \n",
    "jitter = (None, None)\n",
    "num_workers = 0\n",
    "learning_rate = 0.005\n",
    "betas = (0.9, 0.999)\n",
    "num_epochs = 2 ** 5 + 1\n",
    "N_polarities = N_neuronz[-1]\n",
    "ts_size = (trainset_output.sensor_size[0],trainset_output.sensor_size[1],N_polarities)\n",
    "tau_cla = 6e4*32\n",
    "mlr_layer_name = f'{timestr}_LR_patches_{tau_cla}_{ts_size}_{learning_rate}_{betas}_{num_epochs}_{kfold}_{jitter}.pkl'\n",
    "\n",
    "model_path = record_path+'networks/' + mlr_layer_name\n",
    "results_path = record_path+'LR_results/' + mlr_layer_name\n",
    "train_path = record_path+f'output/train/{hots.name}_{num_sample_train}_{jitter}/'\n",
    "test_path = record_path+f'output/train/{hots.name}_{num_sample_test}_{jitter}/'\n",
    "\n",
    "classif_layer, losses = fit_mlr(trainloader_output, model_path, tau_cla, learning_rate, betas, num_epochs, ts_size, trainset.ordering, len(trainset.classes), ts_batch_size = ts_batch_size,)"
   ]
  },
  {
   "cell_type": "code",
   "execution_count": 16,
   "id": "c3d1ce18-6f81-4bdb-b79b-9cc683819167",
   "metadata": {},
   "outputs": [
    {
     "name": "stdout",
     "output_type": "stream",
     "text": [
      "Number of chance decisions: 0\n",
      "90th quantile for number of events: 11507.200000000008\n",
      "Mean accuracy: 68.10000000000001%\n",
      "Last accuracy: 61.3%\n",
      "Highest probability accuracy: 56.10000000000001%\n"
     ]
    },
    {
     "data": {
      "image/png": "[encoded data removed]",
      "text/plain": [
       "<Figure size 640x480 with 1 Axes>"
      ]
     },
     "metadata": {},
     "output_type": "display_data"
    }
   ],
   "source": [
    "mlr_threshold = None\n",
    "\n",
    "onlinac, best_probability, meanac, lastac  = online_accuracy(classif_layer, tau_cla, testloader_output, results_path, ts_size, trainset.ordering, len(labelz), mlr_threshold = mlr_threshold, ts_batch_size = ts_batch_size, original_accuracy = None, original_accuracy_nohomeo = None, online_plot=True)"
   ]
  },
  {
   "cell_type": "code",
   "execution_count": 21,
   "id": "c9ae3a9e-7cf8-4cd9-af95-7b68585a3b98",
   "metadata": {},
   "outputs": [
    {
     "data": {
      "text/plain": [
       "[<matplotlib.lines.Line2D at 0x7fc473a18cd0>]"
      ]
     },
     "execution_count": 21,
     "metadata": {},
     "output_type": "execute_result"
    },
    {
     "data": {
      "image/png": "[encoded data removed]",
      "text/plain": [
       "<Figure size 640x480 with 1 Axes>"
      ]
     },
     "metadata": {},
     "output_type": "display_data"
    }
   ],
   "source": [
    "plt.semilogx(onlinac, '.')"
   ]
  },
  {
   "cell_type": "code",
   "execution_count": 20,
   "id": "d6ac5039-0b97-4f19-91c8-beb57ee4091d",
   "metadata": {},
   "outputs": [
    {
     "name": "stdout",
     "output_type": "stream",
     "text": [
      "[0.56399317 0.57337884 0.55887372 ... 1.         1.         1.        ]\n"
     ]
    },
    {
     "ename": "NameError",
     "evalue": "name 'original_accuracy' is not defined",
     "output_type": "error",
     "traceback": [
      "\u001b[0;31m---------------------------------------------------------------------------\u001b[0m",
      "\u001b[0;31mNameError\u001b[0m                                 Traceback (most recent call last)",
      "Cell \u001b[0;32mIn [20], line 7\u001b[0m\n\u001b[1;32m      5\u001b[0m ax\u001b[38;5;241m.\u001b[39msemilogx(sampling[:\u001b[38;5;241m-\u001b[39m\u001b[38;5;241m1\u001b[39m],onlinac[sampling[:\u001b[38;5;241m-\u001b[39m\u001b[38;5;241m1\u001b[39m]]\u001b[38;5;241m*\u001b[39m\u001b[38;5;241m100\u001b[39m, \u001b[38;5;124m'\u001b[39m\u001b[38;5;124m.\u001b[39m\u001b[38;5;124m'\u001b[39m, label\u001b[38;5;241m=\u001b[39m\u001b[38;5;124m'\u001b[39m\u001b[38;5;124monline HOTS (ours)\u001b[39m\u001b[38;5;124m'\u001b[39m);\n\u001b[1;32m      6\u001b[0m ax\u001b[38;5;241m.\u001b[39mhlines(\u001b[38;5;241m1\u001b[39m\u001b[38;5;241m/\u001b[39mn_classes\u001b[38;5;241m*\u001b[39m\u001b[38;5;241m100\u001b[39m,\u001b[38;5;241m0\u001b[39m,\u001b[38;5;28mint\u001b[39m(percentile_90), linestyles\u001b[38;5;241m=\u001b[39m\u001b[38;5;124m'\u001b[39m\u001b[38;5;124mdashed\u001b[39m\u001b[38;5;124m'\u001b[39m, color\u001b[38;5;241m=\u001b[39m\u001b[38;5;124m'\u001b[39m\u001b[38;5;124mk\u001b[39m\u001b[38;5;124m'\u001b[39m, label\u001b[38;5;241m=\u001b[39m\u001b[38;5;124m'\u001b[39m\u001b[38;5;124mchance level\u001b[39m\u001b[38;5;124m'\u001b[39m)\n\u001b[0;32m----> 7\u001b[0m \u001b[38;5;28;01mif\u001b[39;00m original_accuracy:\n\u001b[1;32m      8\u001b[0m     ax\u001b[38;5;241m.\u001b[39mhlines(original_accuracy\u001b[38;5;241m*\u001b[39m\u001b[38;5;241m100\u001b[39m,\u001b[38;5;241m0\u001b[39m,\u001b[38;5;28mint\u001b[39m(percentile_90), linestyles\u001b[38;5;241m=\u001b[39m\u001b[38;5;124m'\u001b[39m\u001b[38;5;124mdashed\u001b[39m\u001b[38;5;124m'\u001b[39m, color\u001b[38;5;241m=\u001b[39m\u001b[38;5;124m'\u001b[39m\u001b[38;5;124mg\u001b[39m\u001b[38;5;124m'\u001b[39m, label\u001b[38;5;241m=\u001b[39m\u001b[38;5;124m'\u001b[39m\u001b[38;5;124mHOTS with homeostasis\u001b[39m\u001b[38;5;124m'\u001b[39m)\n\u001b[1;32m      9\u001b[0m \u001b[38;5;28;01mif\u001b[39;00m original_accuracy_nohomeo:\n",
      "\u001b[0;31mNameError\u001b[0m: name 'original_accuracy' is not defined"
     ]
    },
    {
     "data": {
      "image/png": "[encoded data removed]",
      "text/plain": [
       "<Figure size 640x480 with 1 Axes>"
      ]
     },
     "metadata": {},
     "output_type": "display_data"
    }
   ],
   "source": [
    "        percentile_90 = 11507\n",
    "        fig, ax = plt.subplots()\n",
    "        sampling = (np.logspace(0,np.log10(percentile_90),100)).astype(int)\n",
    "        print(onlinac)\n",
    "        ax.semilogx(sampling[:-1],onlinac[sampling[:-1]]*100, '.', label='online HOTS (ours)');\n",
    "        ax.hlines(1/n_classes*100,0,int(percentile_90), linestyles='dashed', color='k', label='chance level')\n",
    "        if original_accuracy:\n",
    "            ax.hlines(original_accuracy*100,0,int(percentile_90), linestyles='dashed', color='g', label='HOTS with homeostasis')\n",
    "        if original_accuracy_nohomeo:\n",
    "            ax.hlines(original_accuracy_nohomeo*100,0,int(percentile_90), linestyles='dashed', color='r', label='original HOTS')\n",
    "        ax.set_xlabel('Number of events', fontsize=16);\n",
    "        ax.axis([1,int(percentile_90),0,101]);\n",
    "        #plt.title('LR classification results evolution as a function of the number of events');\n",
    "        plt.setp(ax.get_xticklabels(),fontsize=12)\n",
    "        #ax.set_yticks([])\n",
    "        plt.setp(ax.get_yticklabels(),fontsize=12)\n",
    "        ax.legend(fontsize=12, loc='lower right');\n",
    "        ax.set_ylabel('Accuracy (in %)', fontsize=16);\n",
    "        if figure_name:\n",
    "            printfig(fig, figure_name)"
   ]
  },
  {
   "cell_type": "code",
   "execution_count": 22,
   "id": "20aa4cfe-d18e-42c7-a5e2-52b50488ce03",
   "metadata": {},
   "outputs": [
    {
     "name": "stderr",
     "output_type": "stream",
     "text": [
      "  0%|                                                                                                                                                                                                                                                | 0/1172 [00:00<?, ?it/s]/home/antoine/.local/lib/python3.8/site-packages/numpy/core/fromnumeric.py:3432: RuntimeWarning: Mean of empty slice.\n",
      "  return _methods._mean(a, axis=axis, dtype=dtype,\n",
      "/home/antoine/.local/lib/python3.8/site-packages/numpy/core/_methods.py:182: RuntimeWarning: invalid value encountered in divide\n",
      "  ret = um.true_divide(\n",
      "100%|█████████████████████████████████████████████████████████████████████████████████████████████████████████████████████████████████████████████████████████████████████████████████████████████████████████████████████████████████████| 1172/1172 [08:03<00:00,  2.42it/s]\n",
      "/home/antoine/homhots/hotsline/hots/utils.py:565: RuntimeWarning: Mean of empty slice\n",
      "  onlinac = np.nanmean(matscor, axis=0)\n"
     ]
    },
    {
     "name": "stdout",
     "output_type": "stream",
     "text": [
      "Mean accuracy: 64.4%\n"
     ]
    },
    {
     "data": {
      "text/plain": [
       "(0.6440369516186123,\n",
       " array([       nan, 0.52      , 0.6       , ..., 0.66521739, 0.66521739,\n",
       "        0.66375546]),\n",
       " 0.6143344709897611,\n",
       " 1570231,\n",
       " 867876)"
      ]
     },
     "execution_count": 22,
     "metadata": {},
     "output_type": "execute_result"
    },
    {
     "data": {
      "image/png": "[encoded data removed]",
      "text/plain": [
       "<Figure size 640x480 with 1 Axes>"
      ]
     },
     "metadata": {},
     "output_type": "display_data"
    }
   ],
   "source": [
    "from hots.utils import score_classif_time\n",
    "device = 'cuda'\n",
    "timestep = 100\n",
    "likelihood, true_target, timestamps = predict_mlr(classif_layer, tau_cla, testloader_output, results_path, ts_size, trainset.ordering, save=True, device=device, ts_batch_size=ts_batch_size)\n",
    "score_classif_time(likelihood, true_target, timestamps, timestep, thres=mlr_threshold)"
   ]
  },
  {
   "cell_type": "code",
   "execution_count": null,
   "id": "985bd58e-cb61-4964-b9fa-f8db5d29d794",
   "metadata": {},
   "outputs": [],
   "source": []
  }
 ],
 "metadata": {
  "kernelspec": {
   "display_name": "Python 3 (ipykernel)",
   "language": "python",
   "name": "python3"
  },
  "language_info": {
   "codemirror_mode": {
    "name": "ipython",
    "version": 3
   },
   "file_extension": ".py",
   "mimetype": "text/x-python",
   "name": "python",
   "nbconvert_exporter": "python",
   "pygments_lexer": "ipython3",
   "version": "3.8.10"
  }
 },
 "nbformat": 4,
 "nbformat_minor": 5
}
