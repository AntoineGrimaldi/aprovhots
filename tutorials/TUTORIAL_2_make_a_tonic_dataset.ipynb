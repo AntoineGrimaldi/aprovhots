{
 "cells": [
  {
   "cell_type": "markdown",
   "id": "03d00650-9e90-417b-8989-5f155d29fb51",
   "metadata": {},
   "source": [
    "# Make a [tonic](https://tonic.readthedocs.io/en/latest/) dataset - see [documentation](https://tonic.readthedocs.io/en/latest/tutorials/wrapping_own_data.html)\n",
    "## Example with the synthetic dataset provided by NTUA"
   ]
  },
  {
   "cell_type": "code",
   "execution_count": 1,
   "id": "a93039d8-2fbc-496b-9e01-d12bc833d2d1",
   "metadata": {},
   "outputs": [
    {
     "name": "stdout",
     "output_type": "stream",
     "text": [
      "/home/antoine/homhots/aprovhots/dev\n"
     ]
    }
   ],
   "source": [
    "%cd ../dev/\n",
    "from dataset_creation import Synthetic_Dataset\n",
    "from hots.utils import get_dataset_info"
   ]
  },
  {
   "cell_type": "code",
   "execution_count": 2,
   "id": "a1daa0d0-b8ef-4d78-8b08-7219ec56064b",
   "metadata": {},
   "outputs": [
    {
     "name": "stdout",
     "output_type": "stream",
     "text": [
      "Building dataset\n"
     ]
    },
    {
     "ename": "FileNotFoundError",
     "evalue": "[Errno 2] No such file or directory: '../../Data/2021-12-06_simulator_data/'",
     "output_type": "error",
     "traceback": [
      "\u001b[0;31m---------------------------------------------------------------------------\u001b[0m",
      "\u001b[0;31mFileNotFoundError\u001b[0m                         Traceback (most recent call last)",
      "Cell \u001b[0;32mIn [2], line 18\u001b[0m\n\u001b[1;32m     15\u001b[0m \u001b[38;5;66;03m# gives the indexing of the event stream\u001b[39;00m\n\u001b[1;32m     16\u001b[0m ordering \u001b[38;5;241m=\u001b[39m \u001b[38;5;124m'\u001b[39m\u001b[38;5;124mxytp\u001b[39m\u001b[38;5;124m'\u001b[39m\n\u001b[0;32m---> 18\u001b[0m trainset \u001b[38;5;241m=\u001b[39m Synthetic_Dataset(save_to\u001b[38;5;241m=\u001b[39mpath, train\u001b[38;5;241m=\u001b[39m\u001b[38;5;28;01mTrue\u001b[39;00m, patch_size\u001b[38;5;241m=\u001b[39mpatch_size, max_duration\u001b[38;5;241m=\u001b[39mmax_duration)\n\u001b[1;32m     19\u001b[0m testset \u001b[38;5;241m=\u001b[39m Synthetic_Dataset(save_to\u001b[38;5;241m=\u001b[39mpath, train\u001b[38;5;241m=\u001b[39m\u001b[38;5;28;01mFalse\u001b[39;00m, patch_size\u001b[38;5;241m=\u001b[39mpatch_size, max_duration\u001b[38;5;241m=\u001b[39mmax_duration)\n",
      "File \u001b[0;32m~/homhots/aprovhots/dev/dataset_creation.py:123\u001b[0m, in \u001b[0;36mSynthetic_Dataset.__init__\u001b[0;34m(self, save_to, train, patch_size, max_duration, min_num_events, transform, target_transform)\u001b[0m\n\u001b[1;32m    120\u001b[0m file_path \u001b[38;5;241m=\u001b[39m os\u001b[38;5;241m.\u001b[39mpath\u001b[38;5;241m.\u001b[39mjoin(\u001b[38;5;28mself\u001b[39m\u001b[38;5;241m.\u001b[39mlocation_on_system, \u001b[38;5;28mself\u001b[39m\u001b[38;5;241m.\u001b[39mfolder_name)\n\u001b[1;32m    122\u001b[0m \u001b[38;5;28;01mif\u001b[39;00m \u001b[38;5;129;01mnot\u001b[39;00m os\u001b[38;5;241m.\u001b[39mpath\u001b[38;5;241m.\u001b[39mexists(file_path):\n\u001b[0;32m--> 123\u001b[0m     \u001b[43mbuild_aprovis_dataset\u001b[49m\u001b[43m(\u001b[49m\u001b[38;5;28;43mself\u001b[39;49m\u001b[38;5;241;43m.\u001b[39;49m\u001b[43mlocation_on_system\u001b[49m\u001b[43m,\u001b[49m\u001b[43m \u001b[49m\u001b[38;5;28;43mself\u001b[39;49m\u001b[38;5;241;43m.\u001b[39;49m\u001b[43mclasses\u001b[49m\u001b[43m,\u001b[49m\u001b[43m \u001b[49m\u001b[43mpatch_size\u001b[49m\u001b[38;5;241;43m=\u001b[39;49m\u001b[43mpatch_size\u001b[49m\u001b[43m,\u001b[49m\u001b[43m \u001b[49m\u001b[43msensor_size\u001b[49m\u001b[38;5;241;43m=\u001b[39;49m\u001b[38;5;28;43mself\u001b[39;49m\u001b[38;5;241;43m.\u001b[39;49m\u001b[43msensor_size\u001b[49m\u001b[43m,\u001b[49m\u001b[43m \u001b[49m\u001b[43mmax_duration\u001b[49m\u001b[38;5;241;43m=\u001b[39;49m\u001b[43mmax_duration\u001b[49m\u001b[43m,\u001b[49m\u001b[43m \u001b[49m\u001b[43mmin_num_events\u001b[49m\u001b[38;5;241;43m=\u001b[39;49m\u001b[43mmin_num_events\u001b[49m\u001b[43m)\u001b[49m\n\u001b[1;32m    125\u001b[0m \u001b[38;5;28mself\u001b[39m\u001b[38;5;241m.\u001b[39msensor_size[\u001b[38;5;241m0\u001b[39m], \u001b[38;5;28mself\u001b[39m\u001b[38;5;241m.\u001b[39msensor_size[\u001b[38;5;241m1\u001b[39m] \u001b[38;5;241m=\u001b[39m patch_size[\u001b[38;5;241m0\u001b[39m], patch_size[\u001b[38;5;241m1\u001b[39m]\n\u001b[1;32m    127\u001b[0m \u001b[38;5;28;01mfor\u001b[39;00m path, dirs, files \u001b[38;5;129;01min\u001b[39;00m os\u001b[38;5;241m.\u001b[39mwalk(file_path):\n",
      "File \u001b[0;32m~/homhots/aprovhots/dev/dataset_creation.py:88\u001b[0m, in \u001b[0;36mbuild_aprovis_dataset\u001b[0;34m(path, labelz, patch_size, sensor_size, max_duration, min_num_events, train_test_ratio, ordering)\u001b[0m\n\u001b[1;32m     86\u001b[0m \u001b[38;5;28mprint\u001b[39m(\u001b[38;5;124m'\u001b[39m\u001b[38;5;124mBuilding dataset\u001b[39m\u001b[38;5;124m'\u001b[39m)\n\u001b[1;32m     87\u001b[0m \u001b[38;5;28;01mif\u001b[39;00m \u001b[38;5;129;01mnot\u001b[39;00m os\u001b[38;5;241m.\u001b[39mpath\u001b[38;5;241m.\u001b[39mexists(path\u001b[38;5;241m+\u001b[39m\u001b[38;5;124mf\u001b[39m\u001b[38;5;124m'\u001b[39m\u001b[38;5;124mpatch_\u001b[39m\u001b[38;5;132;01m{\u001b[39;00mpatch_size\u001b[38;5;132;01m}\u001b[39;00m\u001b[38;5;124m_duration_\u001b[39m\u001b[38;5;132;01m{\u001b[39;00mmax_duration\u001b[38;5;132;01m}\u001b[39;00m\u001b[38;5;124m'\u001b[39m):\n\u001b[0;32m---> 88\u001b[0m     \u001b[43mos\u001b[49m\u001b[38;5;241;43m.\u001b[39;49m\u001b[43mchdir\u001b[49m\u001b[43m(\u001b[49m\u001b[43mpath\u001b[49m\u001b[43m)\u001b[49m\n\u001b[1;32m     89\u001b[0m     \u001b[38;5;28;01mfor\u001b[39;00m lab_num, label \u001b[38;5;129;01min\u001b[39;00m \u001b[38;5;28menumerate\u001b[39m(labelz):\n\u001b[1;32m     90\u001b[0m         list_csv \u001b[38;5;241m=\u001b[39m glob\u001b[38;5;241m.\u001b[39mglob(\u001b[38;5;124mf\u001b[39m\u001b[38;5;124m'\u001b[39m\u001b[38;5;124m*\u001b[39m\u001b[38;5;132;01m{\u001b[39;00mlabel\u001b[38;5;132;01m}\u001b[39;00m\u001b[38;5;124m*.csv\u001b[39m\u001b[38;5;124m'\u001b[39m)\n",
      "\u001b[0;31mFileNotFoundError\u001b[0m: [Errno 2] No such file or directory: '../../Data/2021-12-06_simulator_data/'"
     ]
    }
   ],
   "source": [
    "# path where you'll go to find your .csv files to make the dataset with\n",
    "path = '../../Data/2021-12-06_simulator_data/'\n",
    "# gives a patch_size to divide spatially the event streams\n",
    "patch_size = (16,16)\n",
    "# gives a max duration for the samples of the dataset to divide temporally the event streams\n",
    "max_duration = 1e3 # (in ms)\n",
    "# labels given to the different classes of the dataset\n",
    "labelz = ['sea','gro']\n",
    "# original sensor_size of the DVS (width,height,polarity)\n",
    "sensor_size = (128, 128, 2)\n",
    "# discard samples with less than min_num_events events\n",
    "min_num_events = 1000\n",
    "# split the recordings into train and test sets with train_test_ratio ratio\n",
    "train_test_ratio = .75\n",
    "# gives the indexing of the event stream\n",
    "ordering = 'xytp'\n",
    "\n",
    "trainset = Synthetic_Dataset(save_to=path, train=True, patch_size=patch_size, max_duration=max_duration)\n",
    "testset = Synthetic_Dataset(save_to=path, train=False, patch_size=patch_size, max_duration=max_duration)"
   ]
  },
  {
   "cell_type": "code",
   "execution_count": null,
   "id": "a84c018a-84bc-4648-b43f-503b0d7b6d76",
   "metadata": {},
   "outputs": [],
   "source": [
    "events, label = next(iter(trainset))\n",
    "print(trainset.ordering)\n",
    "print(events[4000,:])"
   ]
  },
  {
   "cell_type": "markdown",
   "id": "e9302519-b6fb-4c7d-9de6-93de9dac55cd",
   "metadata": {},
   "source": [
    "**Synthetic_Dataset** goes to find the repository where the dataset with the corresponding *patch_size* and *max_duration* is stored. It is stored in *path/patch_{patch_size}_duration_{max_duration}/* and splitted into *./train/* and *./test/* repositories which are splitted into labelz repositories. \n",
    "\n",
    "If this repository does not exists it calls the function **build_aprovis_dataset** and makes the dataset storage by loading all the .csv files into *path* and treat them with the function **save_as_patches**.\n",
    "\n",
    "The advantage of using the class defined by torch or tonic modules to make a dataset is that we can easily make a loader of the samples and use some transforms already existing in these modules. "
   ]
  },
  {
   "cell_type": "markdown",
   "id": "58bb4376-60f5-475a-8177-e9d6620bdb8c",
   "metadata": {},
   "source": [
    "# Get information about the dataset\n",
    "Some statistics of the dataset can be easily observed with the **get_dataset_info** function. You have to put trainset and testset as input, if you only have one dataset you can put it twice. \n",
    "\n",
    "The default properties to be visualized are:\n",
    "- the *mean_isi* or mean Inter-Spike Interval: the time difference between to consecutive events (polarity is taken into account and then the ISI is computed for events of the same polarity and then averaged). This measure is inversely proportional to the density of events in the event stream. \n",
    "- the *null_isi* or the ratio of synchronous events in the recording: the ratio of events when the ISI is equal to 0 meaning they arrive at the exact same timing. A big *null_isi* value means that there is a lot of synchrnous events, maybe because the event stream is made from frames. \n",
    "- the number of events per sample (indicative when the duration of the samples is the same)\n",
    "- other properties can be asked to be plotted like the *median_isi* or can be developed in **get_properties** in order to visualize different features of the dataset. "
   ]
  },
  {
   "cell_type": "code",
   "execution_count": null,
   "id": "e06835db-82c9-43de-b646-eaeaebee38fd",
   "metadata": {},
   "outputs": [],
   "source": [
    "values = get_dataset_info(trainset,testset)#, distinguish_labels=True)"
   ]
  },
  {
   "cell_type": "markdown",
   "id": "a10fa083-b012-4f53-b896-8e68fabacbb8",
   "metadata": {},
   "source": [
    "Orange histograms are for the \"ground\" label and blue for the \"sea\":\n",
    "- one can notice that ground sessions contain way more events that sea ones (figure on the right)\n",
    "- this fact is also illustrated by the left figure with the Inter-Spike interval\n",
    "- on the middle the ratio of synchronous events are represented. One can see that the values are above .9 and quite close to 1 meaning that there are a lot of events with same timestamps. The fact that the output of the simulator may create frames and then convert them to events may trigger this artifact. "
   ]
  }
 ],
 "metadata": {
  "kernelspec": {
   "display_name": "Python 3 (ipykernel)",
   "language": "python",
   "name": "python3"
  },
  "language_info": {
   "codemirror_mode": {
    "name": "ipython",
    "version": 3
   },
   "file_extension": ".py",
   "mimetype": "text/x-python",
   "name": "python",
   "nbconvert_exporter": "python",
   "pygments_lexer": "ipython3",
   "version": "3.8.10"
  }
 },
 "nbformat": 4,
 "nbformat_minor": 5
}
