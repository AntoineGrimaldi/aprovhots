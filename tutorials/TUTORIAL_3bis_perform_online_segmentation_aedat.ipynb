{
 "cells": [
  {
   "cell_type": "markdown",
   "id": "8e8666b8-c02a-495b-898e-265b14e06b2b",
   "metadata": {},
   "source": [
    "# Perform online segmentation"
   ]
  },
  {
   "cell_type": "code",
   "execution_count": 1,
   "id": "2875bf50-1bf6-4930-b232-62024aba6c31",
   "metadata": {},
   "outputs": [
    {
     "name": "stdout",
     "output_type": "stream",
     "text": [
      "/home/INT/grimaldi.a/Documents/projets/HOTS/aprovhots/dev\n"
     ]
    }
   ],
   "source": [
    "%cd ../dev/\n",
    "from dataset_creation_aprovis3d import aprovis3dDataset\n",
    "from hots.utils import get_loader, fit_mlr, online_accuracy"
   ]
  },
  {
   "cell_type": "code",
   "execution_count": 2,
   "id": "5cd26065-5e5b-4326-af1b-a1473d488926",
   "metadata": {},
   "outputs": [],
   "source": [
    "#!/usr/bin/env python\n",
    "# coding: utf-8\n",
    "\n",
    "# # Make a [tonic](https://tonic.readthedocs.io/en/latest/) dataset - see [documentation](https://tonic.readthedocs.io/en/latest/tutorials/wrapping_own_data.html)\n",
    "# ## Example with the RGB frames dataset provided by NTUA, translated by UCA into events using vid2e\n",
    "\n",
    "import sys\n",
    "sys.path.append('../dev/')\n",
    "from dataset_creation_aprovis3d import aprovis3dDataset\n",
    "from hots.utils import get_dataset_info\n",
    "\n",
    "\n",
    "# path where you'll go to find your .npy files to make the dataset with\n",
    "### TO BE MODIFIED\n",
    "path = '../../Data/DVS128_ZED_NUC_jAER/'\n",
    "# gives the data type - here we use experimental data, stored as npy\n",
    "data_type = 'experimental'\n",
    "# gives a patch_size to divide spatially the event streams\n",
    "patch_size = (16,16)\n",
    "# gives a max duration for the samples of the dataset to divide temporally the event streams\n",
    "max_duration = 1e3 # (in ms)\n",
    "# labels given to the different classes of the dataset\n",
    "labelz = ['sea','gro']\n",
    "# original sensor_size of the DVS (width,height,polarity)\n",
    "sensor_size = [128, 128, 2]\n",
    "# discard samples with less than min_num_events events\n",
    "min_num_events = 1000\n",
    "# split the recordings into train and test sets with train_test_ratio ratio\n",
    "train_test_ratio = .75\n",
    "# gives the indexing of the event stream\n",
    "ordering = 'xytp'\n",
    "\n",
    "trainset = aprovis3dDataset(save_to=path, data_type=data_type, classes=labelz, train=True, patch_size=patch_size, max_duration=max_duration, sensor_size=sensor_size)"
   ]
  },
  {
   "cell_type": "markdown",
   "id": "836e855a-389e-4c49-a87d-7f15e2be8eac",
   "metadata": {},
   "source": [
    "## Example with only one layer of Multinomial Logistic Regression (MLR)"
   ]
  },
  {
   "cell_type": "code",
   "execution_count": 3,
   "id": "283fea09-1d7e-4ef9-83ee-1e28acbe867e",
   "metadata": {},
   "outputs": [],
   "source": [
    "jitter = (None, None)\n",
    "num_workers = 0\n",
    "learning_rate = 0.005\n",
    "betas = (0.9, 0.999)\n",
    "num_epochs = 2 ** 5 + 1\n",
    "N_polarities = 2\n",
    "ts_size = (trainset.sensor_size[0],trainset.sensor_size[1],N_polarities)\n",
    "tau_cla = 6e4\n",
    "date = '2022-05-18'\n",
    "mlr_layer_name = f'{date}_LR_{tau_cla}_{ts_size}_{learning_rate}_{betas}_{num_epochs}_{jitter}.pkl'\n",
    "\n",
    "model_path = '../Records/networks/' + mlr_layer_name\n",
    "results_path = f'../Records/LR_results/' + mlr_layer_name\n",
    "\n",
    "trainloader = get_loader(trainset, kfold=2)\n",
    "classif_layer, losses = fit_mlr(trainloader, model_path, tau_cla, learning_rate, betas, num_epochs, ts_size, trainset.ordering, len(trainset.classes))"
   ]
  },
  {
   "cell_type": "code",
   "execution_count": 4,
   "id": "c3d1ce18-6f81-4bdb-b79b-9cc683819167",
   "metadata": {},
   "outputs": [
    {
     "name": "stdout",
     "output_type": "stream",
     "text": [
      "Number of chance decisions: 0\n",
      "90th quantile for number of events: 2640.4\n",
      "Mean accuracy: 77.9%\n",
      "Last accuracy: 50.9%\n",
      "Highest probability accuracy: 57.49999999999999%\n"
     ]
    },
    {
     "data": {
      "image/png": "[encoded data removed]",
      "text/plain": [
       "<Figure size 432x288 with 1 Axes>"
      ]
     },
     "metadata": {
      "needs_background": "light"
     },
     "output_type": "display_data"
    }
   ],
   "source": [
    "testloader = get_loader(trainset, kfold=2, kfold_ind=1)\n",
    "\n",
    "mlr_threshold = None\n",
    "ts_batch_size = None\n",
    "\n",
    "#results_path = results_path[:-4]+'trainset.pkl'\n",
    "\n",
    "onlinac = online_accuracy(classif_layer, tau_cla, testloader, results_path, ts_size, trainset.ordering, len(labelz), mlr_threshold = mlr_threshold, ts_batch_size = ts_batch_size, original_accuracy = None, original_accuracy_nohomeo = None, online_plot=True)"
   ]
  },
  {
   "cell_type": "code",
   "execution_count": 5,
   "id": "cfe9ec1e-ab8b-4264-8636-a4ec9be86abb",
   "metadata": {},
   "outputs": [
    {
     "data": {
      "text/plain": [
       "[<matplotlib.lines.Line2D at 0x7fd714547370>]"
      ]
     },
     "execution_count": 5,
     "metadata": {},
     "output_type": "execute_result"
    },
    {
     "data": {
      "image/png": "[encoded data removed]",
      "text/plain": [
       "<Figure size 432x288 with 1 Axes>"
      ]
     },
     "metadata": {
      "needs_background": "light"
     },
     "output_type": "display_data"
    }
   ],
   "source": [
    "import matplotlib.pyplot as plt\n",
    "plt.plot(onlinac[0])"
   ]
  },
  {
   "cell_type": "code",
   "execution_count": 6,
   "id": "b3dd1b81-f61d-43ac-a3f2-6117ecfc3464",
   "metadata": {},
   "outputs": [
    {
     "name": "stdout",
     "output_type": "stream",
     "text": [
      "../Records/LR_results/2022-05-18_LR_60000.0_(16, 16, 2)_0.005_(0.9, 0.999)_33_(None, None)\n"
     ]
    }
   ],
   "source": [
    "print(results_path[:-4])"
   ]
  },
  {
   "cell_type": "code",
   "execution_count": null,
   "id": "5d57182d-d75a-4efa-8955-d532c19b08e2",
   "metadata": {},
   "outputs": [],
   "source": []
  }
 ],
 "metadata": {
  "kernelspec": {
   "display_name": "Python 3 (ipykernel)",
   "language": "python",
   "name": "python3"
  },
  "language_info": {
   "codemirror_mode": {
    "name": "ipython",
    "version": 3
   },
   "file_extension": ".py",
   "mimetype": "text/x-python",
   "name": "python",
   "nbconvert_exporter": "python",
   "pygments_lexer": "ipython3",
   "version": "3.8.10"
  }
 },
 "nbformat": 4,
 "nbformat_minor": 5
}
