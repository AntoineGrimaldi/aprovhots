{
 "cells": [
  {
   "cell_type": "code",
   "execution_count": 1,
   "id": "cba4ae07-d452-4add-87c6-c897f88f0c88",
   "metadata": {},
   "outputs": [],
   "source": [
    "from dataset_creation import csv_load\n",
    "from aprovhots import fit_MLR, predict_data\n",
    "import numpy as np\n",
    "from HOTS.tools import get_loader\n",
    "import matplotlib.pyplot as plt"
   ]
  },
  {
   "cell_type": "code",
   "execution_count": 2,
   "id": "803e1297-6073-4b7d-a31a-1921e55c57b0",
   "metadata": {},
   "outputs": [],
   "source": [
    "path = '/home/INT/grimaldi.a/Documents/projets/WP3/2021-12-06_simulator_data/'\n",
    "name = 'mixed_session_1.csv'\n",
    "\n",
    "max_duration = 1e6\n",
    "\n",
    "tau_cla = 3\n",
    "patch_size=(32,32)\n",
    "max_duration = 1e3"
   ]
  },
  {
   "cell_type": "code",
   "execution_count": 3,
   "id": "79e4e4ec-40fb-459a-a661-3f7f948e07d2",
   "metadata": {},
   "outputs": [
    {
     "name": "stdout",
     "output_type": "stream",
     "text": [
      "loading -> mixed_session_1.csv ...\n"
     ]
    },
    {
     "name": "stderr",
     "output_type": "stream",
     "text": [
      " 14%|███████████████████▊                                                                                                                      | 5594/38994 [00:58<05:18, 104.76it/s]"
     ]
    },
    {
     "name": "stdout",
     "output_type": "stream",
     "text": [
      "file corrupted at row number 5573\n",
      "file corrupted at row number 5574\n",
      "file corrupted at row number 5575\n",
      "file corrupted at row number 5576\n",
      "file corrupted at row number 5577\n",
      "file corrupted at row number 5578\n"
     ]
    },
    {
     "name": "stderr",
     "output_type": "stream",
     "text": [
      "100%|██████████████████████████████████████████████████████████████████████████████████████████████████████████████████████████████████████████| 38994/38994 [25:49<00:00, 25.17it/s]\n"
     ]
    }
   ],
   "source": [
    "events = csv_load(path,name)"
   ]
  },
  {
   "cell_type": "code",
   "execution_count": 11,
   "id": "03b0bfac-716e-4548-a2cb-7c6e2c9ffd10",
   "metadata": {},
   "outputs": [],
   "source": [
    "t_index = 2\n",
    "events[:,t_index] -= events[0,t_index]\n",
    "events_first_patch_time = events[events[:,t_index]<max_duration*1e3]\n",
    "np.save('mixed_session_1_first_events',events_first_patch_time)"
   ]
  },
  {
   "cell_type": "code",
   "execution_count": 39,
   "id": "c94e7c47-7a46-4fd8-9a11-098080e646eb",
   "metadata": {},
   "outputs": [],
   "source": [
    "x_index, y_index = 0, 1\n",
    "\n",
    "width, height = 128, 128\n",
    "patch_width, patch_height = patch_size\n",
    "patches = []\n",
    "for x in range(width//patch_width):\n",
    "    for y in range(height//patch_height):\n",
    "        events_patch = events[\n",
    "                       (events[:,x_index]>=x*patch_width)&(events[:,x_index]<(x+1)*patch_width)&\n",
    "                       (events[:,y_index]>=y*patch_height)&(events[:,y_index]<(y+1)*patch_height)]\n",
    "        events_patch[:,x_index] -= x*patch_width\n",
    "        events_patch[:,y_index] -= y*patch_height\n",
    "        np.save(f'{x}_{y}', events_patch)\n",
    "        patches.append(events_patch)"
   ]
  },
  {
   "cell_type": "code",
   "execution_count": 3,
   "id": "219fc4a8-46e8-4dbe-9626-9abec24f2a04",
   "metadata": {},
   "outputs": [
    {
     "name": "stdout",
     "output_type": "stream",
     "text": [
      "../Records/models/2022-01-03_RAW_3_(32, 32)_5_LR.pkl\n",
      "load existing model\n"
     ]
    }
   ],
   "source": [
    "date = '2022-01-03'\n",
    "MLR_model, losses = fit_MLR(path, date, tau_cla, patch_size=patch_size, max_duration = max_duration, kfold=5)"
   ]
  },
  {
   "cell_type": "code",
   "execution_count": 4,
   "id": "9b95db5a-4403-4073-a36c-1fa3db35f0b8",
   "metadata": {},
   "outputs": [],
   "source": [
    "def predict_data_for_demo(model, loader):\n",
    "    import torch\n",
    "    from tqdm import tqdm\n",
    "    \n",
    "    N = patch_size[0]*patch_size[1]*2\n",
    "    \n",
    "    with torch.no_grad():\n",
    "        device = torch.device(\"cuda\" if torch.cuda.is_available() else \"cpu\")\n",
    "\n",
    "        logistic_model = model.to(device)\n",
    "\n",
    "        pbar = tqdm(total=len(loader))\n",
    "        likelihood, prediction = [], []\n",
    "\n",
    "        for X, target in loader:\n",
    "            X = X[0]\n",
    "            X = X.to(device)\n",
    "            X = X.reshape(X.shape[0], N)\n",
    "            n_events = X.shape[0]\n",
    "            outputs = logistic_model(X)\n",
    "            label_hat = np.argmax(outputs.cpu().numpy(),axis=1)\n",
    "            likelihood.append(outputs.cpu().numpy())\n",
    "            prediction.append(label_hat)\n",
    "            pbar.update(1)\n",
    "        pbar.close()\n",
    "    return likelihood, prediction"
   ]
  },
  {
   "cell_type": "code",
   "execution_count": 5,
   "id": "8eba8ea7-14a5-4025-98f4-99d1af3d7328",
   "metadata": {},
   "outputs": [],
   "source": [
    "import tonic, os\n",
    "class Demo_Dataset(tonic.dataset.Dataset):\n",
    "    '''creates a dataset from .csv files in a specific 'path'. Adapted for Synthetic dataset given by Sotiris\n",
    "    '''\n",
    "    classes = [\"sea\", \"gro\"]\n",
    "    int_classes = dict(zip(classes, range(2)))\n",
    "    sensor_size = [128, 128, 2]\n",
    "    dtype = np.dtype([(\"x\", int), (\"y\", int), (\"t\", int), (\"p\", int)])\n",
    "    ordering = dtype.names\n",
    "\n",
    "    def __init__(self, patch_size=(32,32), transform=tonic.transforms.NumpyAsType(int), target_transform=None):\n",
    "        super(Demo_Dataset, self).__init__(transform=transform, target_transform=target_transform\n",
    "        )\n",
    "\n",
    "        #self.folder_name = f'patch_{patch_size}_duration_{max_duration}/test/'\n",
    "            \n",
    "        #self.location_on_system = save_to\n",
    "\n",
    "        file_path = 'demo_files/'\n",
    "            \n",
    "        self.sensor_size[0], self.sensor_size[1] = patch_size[0], patch_size[1]\n",
    "        \n",
    "        for path, dirs, files in os.walk(file_path):\n",
    "            files.sort()\n",
    "            for file in files:\n",
    "                if file.endswith(\"npy\"):\n",
    "                    self.data.append(np.load(os.path.join(path, file)))\n",
    "                    self.targets.append([0])\n",
    "\n",
    "    def __getitem__(self, index):\n",
    "        \"\"\"\n",
    "        Returns:\n",
    "            a tuple of (events, target) where target is the index of the target class.\n",
    "        \"\"\"\n",
    "        events, target = self.data[index], self.targets[index]\n",
    "        #this line is used in tonic package, keep and see if needed:\n",
    "        events = np.lib.recfunctions.unstructured_to_structured(events, self.dtype)\n",
    "\n",
    "        if self.transform is not None:\n",
    "            events = self.transform(events)\n",
    "        if self.target_transform is not None:\n",
    "            target = self.target_transform(target)\n",
    "        return events, target\n",
    "\n",
    "    def __len__(self):\n",
    "        return len(self.data)\n",
    "\n",
    "    def _check_exists(self):\n",
    "        return self._is_file_present() and self._folder_contains_at_least_n_files_of_type(\n",
    "            20, \".npy\"\n",
    "        )"
   ]
  },
  {
   "cell_type": "code",
   "execution_count": 6,
   "id": "a4d0bb06-b947-448c-a17c-cb75034ca027",
   "metadata": {},
   "outputs": [
    {
     "name": "stdout",
     "output_type": "stream",
     "text": [
      "['0_0.npy', '0_1.npy', '0_2.npy', '0_3.npy', '1_0.npy', '1_1.npy', '1_2.npy', '1_3.npy', '2_0.npy', '2_1.npy', '2_2.npy', '2_3.npy', '3_0.npy', '3_1.npy', '3_2.npy', '3_3.npy']\n"
     ]
    }
   ],
   "source": [
    "transform = tonic.transforms.Compose([tonic.transforms.ToTimesurface(sensor_size=(32,32,2), tau=tau_cla, decay=\"exp\")])\n",
    "dataset = Demo_Dataset(transform=transform)\n",
    "loader = get_loader(dataset, shuffle=False)"
   ]
  },
  {
   "cell_type": "code",
   "execution_count": 7,
   "id": "435825ca-e757-45f6-84a5-c2c403d0603e",
   "metadata": {},
   "outputs": [
    {
     "name": "stderr",
     "output_type": "stream",
     "text": [
      "100%|████████████████████████████████████████████████████████████████████████████████████████████████████████████████████████████████████████████████| 16/16 [03:54<00:00, 14.68s/it]\n"
     ]
    }
   ],
   "source": [
    "likelihood, prediction = predict_data_for_demo(MLR_model, loader)"
   ]
  },
  {
   "cell_type": "code",
   "execution_count": 14,
   "id": "f6c4252b-1ee6-41a2-8443-9d8d3c440ce4",
   "metadata": {},
   "outputs": [
    {
     "name": "stdout",
     "output_type": "stream",
     "text": [
      "['0_0.npy', '0_1.npy', '0_2.npy', '0_3.npy', '1_0.npy', '1_1.npy', '1_2.npy', '1_3.npy', '2_0.npy', '2_1.npy', '2_2.npy', '2_3.npy', '3_0.npy', '3_1.npy', '3_2.npy', '3_3.npy']\n"
     ]
    }
   ],
   "source": [
    "dataset = Demo_Dataset()\n",
    "loader = get_loader(dataset, shuffle=False)"
   ]
  },
  {
   "cell_type": "code",
   "execution_count": 28,
   "id": "34737fb4-e4d6-47c9-a1b2-1a839da82db9",
   "metadata": {},
   "outputs": [
    {
     "name": "stdout",
     "output_type": "stream",
     "text": [
      "0 0\n",
      "0 1\n",
      "0 2\n",
      "0 3\n",
      "1 0\n",
      "1 1\n",
      "1 2\n",
      "1 3\n",
      "2 0\n",
      "2 1\n",
      "2 2\n",
      "2 3\n",
      "3 0\n",
      "3 1\n",
      "3 2\n",
      "3 3\n"
     ]
    }
   ],
   "source": [
    "patch_width, patch_height = patch_size\n",
    "x_index, y_index = 0, 1\n",
    "x, y, i = 0, 0, 0\n",
    "for events, target in loader:\n",
    "    print(x,y)\n",
    "    events[0,:,x_index] += x*patch_width\n",
    "    events[0,:,y_index] += y*patch_width\n",
    "    if x+y==0:\n",
    "        events_stacked = events[0]\n",
    "        prediction_stacked = prediction[0]\n",
    "    else:\n",
    "        events_stacked = np.vstack([events_stacked, events[0]])\n",
    "        prediction_stacked = np.hstack([prediction_stacked, prediction[i]])\n",
    "    i+=1\n",
    "    y+=1\n",
    "    if y==4:\n",
    "        x+=1\n",
    "        y=0"
   ]
  },
  {
   "cell_type": "code",
   "execution_count": 29,
   "id": "114319d4-e44c-45a2-ad9a-dbf012520aca",
   "metadata": {},
   "outputs": [],
   "source": [
    "events_stacked[:,3] = prediction_stacked"
   ]
  },
  {
   "cell_type": "code",
   "execution_count": 32,
   "id": "70766e68-7992-428e-a7a0-ae94ba760ca9",
   "metadata": {},
   "outputs": [],
   "source": [
    "events_sorted = events_stacked[events_stacked[:, 2].argsort()]"
   ]
  },
  {
   "cell_type": "code",
   "execution_count": 38,
   "id": "a252b685-7987-4ca6-9330-87e6b9298f12",
   "metadata": {},
   "outputs": [
    {
     "data": {
      "image/png": "[encoded data removed]",
      "text/plain": [
       "<Figure size 432x288 with 1 Axes>"
      ]
     },
     "metadata": {
      "needs_background": "light"
     },
     "output_type": "display_data"
    }
   ],
   "source": [
    "from visu import visualization\n",
    "visualization(events_sorted, 'xytp', (128,128))"
   ]
  },
  {
   "cell_type": "code",
   "execution_count": null,
   "id": "3b731df2-26f8-4f0f-aedf-7a64d3e7dceb",
   "metadata": {},
   "outputs": [],
   "source": []
  }
 ],
 "metadata": {
  "kernelspec": {
   "display_name": "Python 3 (ipykernel)",
   "language": "python",
   "name": "python3"
  },
  "language_info": {
   "codemirror_mode": {
    "name": "ipython",
    "version": 3
   },
   "file_extension": ".py",
   "mimetype": "text/x-python",
   "name": "python",
   "nbconvert_exporter": "python",
   "pygments_lexer": "ipython3",
   "version": "3.8.10"
  }
 },
 "nbformat": 4,
 "nbformat_minor": 5
}
