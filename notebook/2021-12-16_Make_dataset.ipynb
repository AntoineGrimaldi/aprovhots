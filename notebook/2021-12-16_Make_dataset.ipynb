{
 "cells": [
  {
   "cell_type": "markdown",
   "id": "9029dca4-4842-48cd-adee-177c772002b1",
   "metadata": {},
   "source": [
    "# Make a dataset from .csv files"
   ]
  },
  {
   "cell_type": "code",
   "execution_count": 4,
   "id": "dd5f8687-76f1-4f17-a055-fa37e7a873e8",
   "metadata": {},
   "outputs": [
    {
     "name": "stdout",
     "output_type": "stream",
     "text": [
      "The autoreload extension is already loaded. To reload it, use:\n",
      "  %reload_ext autoreload\n"
     ]
    }
   ],
   "source": [
    "%load_ext autoreload\n",
    "%autoreload 2\n",
    "\n",
    "from dataset_creation import build_aprovis_dataset, Synthetic_Dataset\n",
    "\n",
    "path = '/home/INT/grimaldi.a/Documents/projets/WP3/2021-12-06_simulator_data/'\n",
    "patch_size = (16,16)\n",
    "max_duration=None # 5e3 -> 5 s\n",
    "labelz = ['sea','gro']\n",
    "sensor_size = (128, 128, 2)\n",
    "min_num_events=1000\n",
    "train_test_ratio=.75\n",
    "ordering = 'xytp'"
   ]
  },
  {
   "cell_type": "code",
   "execution_count": 2,
   "id": "1fb28f83-bb1a-47f1-b116-d805682e984b",
   "metadata": {},
   "outputs": [
    {
     "name": "stdout",
     "output_type": "stream",
     "text": [
      "this dataset was already created, check at : \n",
      " /home/INT/grimaldi.a/Documents/projets/WP3/2021-12-06_simulator_data/\n"
     ]
    }
   ],
   "source": [
    "build_aprovis_dataset(path, labelz, patch_size = patch_size, sensor_size = sensor_size, max_duration=max_duration, min_num_events=min_num_events, train_test_ratio=train_test_ratio, ordering = ordering)"
   ]
  },
  {
   "cell_type": "code",
   "execution_count": null,
   "id": "2797f705-2ec9-4cf0-a4ea-157236a6d3cc",
   "metadata": {},
   "outputs": [
    {
     "name": "stdout",
     "output_type": "stream",
     "text": [
      "['only_sea_session_2.csv', 'only_sea_session_1.csv', 'only_sea_session_3.csv'] /home/INT/grimaldi.a/Documents/projets/WP3/2021-12-06_simulator_data/\n",
      "loading -> only_sea_session_2.csv ...\n"
     ]
    },
    {
     "name": "stderr",
     "output_type": "stream",
     "text": [
      " 23%|████████▍                            | 18040/79654 [08:06<44:35, 23.03it/s]"
     ]
    }
   ],
   "source": [
    "dataset = Synthetic_Dataset(save_to=path, train=False, patch_size=(16,16))"
   ]
  },
  {
   "cell_type": "markdown",
   "id": "1238dd0b-be82-4c16-bcaa-3bff8dca5bfd",
   "metadata": {},
   "source": [
    "# Get informations about the dataset\n",
    "\n",
    "TODO:\n",
    "- mean ISI and mean ISI per class\n",
    "- number of training and testing samples\n",
    "- average duration of the samples\n",
    "- check in HOTS\n",
    "- patch_size ..."
   ]
  },
  {
   "cell_type": "markdown",
   "id": "e4297509-c55b-4dfc-bd21-ad4851871705",
   "metadata": {},
   "source": [
    "# Sample visualization\n",
    "\n",
    "with EvVisu, check if there is something "
   ]
  }
 ],
 "metadata": {
  "kernelspec": {
   "display_name": "Python 3 (ipykernel)",
   "language": "python",
   "name": "python3"
  },
  "language_info": {
   "codemirror_mode": {
    "name": "ipython",
    "version": 3
   },
   "file_extension": ".py",
   "mimetype": "text/x-python",
   "name": "python",
   "nbconvert_exporter": "python",
   "pygments_lexer": "ipython3",
   "version": "3.8.10"
  }
 },
 "nbformat": 4,
 "nbformat_minor": 5
}
