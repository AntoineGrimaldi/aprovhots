{
 "cells": [
  {
   "cell_type": "markdown",
   "id": "9029dca4-4842-48cd-adee-177c772002b1",
   "metadata": {},
   "source": [
    "# Make a dataset from .csv files"
   ]
  },
  {
   "cell_type": "code",
   "execution_count": 1,
   "id": "dd5f8687-76f1-4f17-a055-fa37e7a873e8",
   "metadata": {},
   "outputs": [],
   "source": [
    "%load_ext autoreload\n",
    "%autoreload 2\n",
    "\n",
    "from dataset_creation import build_aprovis_dataset, Synthetic_Dataset\n",
    "\n",
    "path = '/home/INT/grimaldi.a/Documents/projets/WP3/2021-12-06_simulator_data/'\n",
    "patch_size = (16,16)\n",
    "max_duration = None # in ms\n",
    "labelz = ['sea','gro']\n",
    "sensor_size = (128, 128, 2)\n",
    "min_num_events = 1000\n",
    "train_test_ratio = .75\n",
    "ordering = 'xytp'"
   ]
  },
  {
   "cell_type": "code",
   "execution_count": 2,
   "id": "2797f705-2ec9-4cf0-a4ea-157236a6d3cc",
   "metadata": {},
   "outputs": [],
   "source": [
    "dataset = Synthetic_Dataset(save_to=path, train=False, patch_size=patch_size, max_duration=max_duration)"
   ]
  },
  {
   "cell_type": "markdown",
   "id": "1238dd0b-be82-4c16-bcaa-3bff8dca5bfd",
   "metadata": {},
   "source": [
    "# Get information about the dataset"
   ]
  },
  {
   "cell_type": "code",
   "execution_count": 3,
   "id": "1dec7c96-89d7-4ae4-9a88-252ca8ad4b7a",
   "metadata": {},
   "outputs": [
    {
     "name": "stdout",
     "output_type": "stream",
     "text": [
      "Number of samples:\n",
      "\n",
      "testing set: 64\n",
      "training set: 192\n",
      "----------------------------------------\n",
      "Inter-Spike-Interval:\n",
      "\n",
      "Mean ISI for ON events and SEA label: 170.7 in ms\n",
      "Mean ISI for OFF events and SEA label: 198.1 in ms \n",
      "\n",
      "Mean ISI for ON events and GROUND label: 41.7 in ms\n",
      "Mean ISI for OFF events and GROUND label: 42.6 in ms\n",
      "----------------------------------------\n",
      "Event stream duration:\n",
      "\n",
      "Mean duration for SEA label: 1088.1 in s\n",
      "Mean duration for GROUND label: 633.5 in s\n"
     ]
    }
   ],
   "source": [
    "from dataset_creation import get_info\n",
    "get_info(path)"
   ]
  },
  {
   "cell_type": "markdown",
   "id": "e4297509-c55b-4dfc-bd21-ad4851871705",
   "metadata": {},
   "source": [
    "# Sample visualization\n",
    "\n",
    "with EvVisu, check if there is something from what I already did"
   ]
  },
  {
   "cell_type": "code",
   "execution_count": null,
   "id": "884692fc-addc-46b1-a213-8bc925f4bd56",
   "metadata": {},
   "outputs": [],
   "source": []
  }
 ],
 "metadata": {
  "kernelspec": {
   "display_name": "Python 3 (ipykernel)",
   "language": "python",
   "name": "python3"
  },
  "language_info": {
   "codemirror_mode": {
    "name": "ipython",
    "version": 3
   },
   "file_extension": ".py",
   "mimetype": "text/x-python",
   "name": "python",
   "nbconvert_exporter": "python",
   "pygments_lexer": "ipython3",
   "version": "3.8.10"
  }
 },
 "nbformat": 4,
 "nbformat_minor": 5
}
