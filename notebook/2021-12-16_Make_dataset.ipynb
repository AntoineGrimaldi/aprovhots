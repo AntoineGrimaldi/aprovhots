{
 "cells": [
  {
   "cell_type": "markdown",
   "id": "9029dca4-4842-48cd-adee-177c772002b1",
   "metadata": {},
   "source": [
    "# Make a dataset from .csv files"
   ]
  },
  {
   "cell_type": "code",
   "execution_count": 8,
   "id": "dd5f8687-76f1-4f17-a055-fa37e7a873e8",
   "metadata": {},
   "outputs": [
    {
     "name": "stdout",
     "output_type": "stream",
     "text": [
      "The autoreload extension is already loaded. To reload it, use:\n",
      "  %reload_ext autoreload\n"
     ]
    }
   ],
   "source": [
    "%load_ext autoreload\n",
    "%autoreload 2\n",
    "\n",
    "from dataset_creation import build_aprovis_dataset, Synthetic_Dataset\n",
    "\n",
    "path = '/home/INT/grimaldi.a/Documents/projets/WP3/2021-12-06_simulator_data/'\n",
    "patch_size = (16,16)\n",
    "max_duration = None # in ms\n",
    "labelz = ['sea','gro']\n",
    "sensor_size = (128, 128, 2)\n",
    "min_num_events = 1000\n",
    "train_test_ratio = .75\n",
    "ordering = 'xytp'"
   ]
  },
  {
   "cell_type": "code",
   "execution_count": 9,
   "id": "2797f705-2ec9-4cf0-a4ea-157236a6d3cc",
   "metadata": {},
   "outputs": [],
   "source": [
    "dataset = Synthetic_Dataset(save_to=path, train=False, patch_size=patch_size, max_duration=max_duration)"
   ]
  },
  {
   "cell_type": "markdown",
   "id": "1238dd0b-be82-4c16-bcaa-3bff8dca5bfd",
   "metadata": {},
   "source": [
    "# Get information about the dataset"
   ]
  },
  {
   "cell_type": "code",
   "execution_count": 10,
   "id": "1dec7c96-89d7-4ae4-9a88-252ca8ad4b7a",
   "metadata": {},
   "outputs": [
    {
     "name": "stdout",
     "output_type": "stream",
     "text": [
      "Number of samples:\n",
      "\n",
      "testing set: 64\n"
     ]
    },
    {
     "ename": "KeyboardInterrupt",
     "evalue": "",
     "output_type": "error",
     "traceback": [
      "\u001b[0;31m---------------------------------------------------------------------------\u001b[0m",
      "\u001b[0;31mKeyboardInterrupt\u001b[0m                         Traceback (most recent call last)",
      "\u001b[0;32m/tmp/ipykernel_160470/1709150540.py\u001b[0m in \u001b[0;36m<module>\u001b[0;34m\u001b[0m\n\u001b[1;32m      1\u001b[0m \u001b[0;32mfrom\u001b[0m \u001b[0mdataset_creation\u001b[0m \u001b[0;32mimport\u001b[0m \u001b[0mget_info\u001b[0m\u001b[0;34m\u001b[0m\u001b[0;34m\u001b[0m\u001b[0m\n\u001b[0;32m----> 2\u001b[0;31m \u001b[0mget_info\u001b[0m\u001b[0;34m(\u001b[0m\u001b[0mpath\u001b[0m\u001b[0;34m)\u001b[0m\u001b[0;34m\u001b[0m\u001b[0;34m\u001b[0m\u001b[0m\n\u001b[0m",
      "\u001b[0;32m~/Documents/projets/HOTS/aprovhots/notebook/dataset_creation.py\u001b[0m in \u001b[0;36mget_info\u001b[0;34m(path, patch_size, max_duration, labelz, sensor_size, min_num_events, train_test_ratio, ordering)\u001b[0m\n\u001b[1;32m    179\u001b[0m         \u001b[0;32mfor\u001b[0m \u001b[0mi\u001b[0m \u001b[0;32min\u001b[0m \u001b[0mrange\u001b[0m\u001b[0;34m(\u001b[0m\u001b[0mlen\u001b[0m\u001b[0;34m(\u001b[0m\u001b[0mdataset\u001b[0m\u001b[0;34m)\u001b[0m\u001b[0;34m)\u001b[0m\u001b[0;34m:\u001b[0m\u001b[0;34m\u001b[0m\u001b[0;34m\u001b[0m\u001b[0m\n\u001b[1;32m    180\u001b[0m             \u001b[0mevents\u001b[0m\u001b[0;34m,\u001b[0m \u001b[0mlabel\u001b[0m \u001b[0;34m=\u001b[0m \u001b[0mdataset\u001b[0m\u001b[0;34m[\u001b[0m\u001b[0mi\u001b[0m\u001b[0;34m]\u001b[0m\u001b[0;34m\u001b[0m\u001b[0;34m\u001b[0m\u001b[0m\n\u001b[0;32m--> 181\u001b[0;31m             \u001b[0misi_neg\u001b[0m\u001b[0;34m,\u001b[0m \u001b[0misi_pos\u001b[0m \u001b[0;34m=\u001b[0m \u001b[0mget_isi\u001b[0m\u001b[0;34m(\u001b[0m\u001b[0mevents\u001b[0m\u001b[0;34m)\u001b[0m\u001b[0;34m\u001b[0m\u001b[0;34m\u001b[0m\u001b[0m\n\u001b[0m\u001b[1;32m    182\u001b[0m             \u001b[0;32mif\u001b[0m \u001b[0mlabel\u001b[0m\u001b[0;34m:\u001b[0m\u001b[0;34m\u001b[0m\u001b[0;34m\u001b[0m\u001b[0m\n\u001b[1;32m    183\u001b[0m                 \u001b[0mnb_ground\u001b[0m\u001b[0;34m+=\u001b[0m\u001b[0;36m1\u001b[0m\u001b[0;34m\u001b[0m\u001b[0;34m\u001b[0m\u001b[0m\n",
      "\u001b[0;32m~/Documents/projets/HOTS/aprovhots/notebook/dataset_creation.py\u001b[0m in \u001b[0;36mget_isi\u001b[0;34m(events, ordering, verbose)\u001b[0m\n\u001b[1;32m    154\u001b[0m             \u001b[0misi\u001b[0m \u001b[0;34m=\u001b[0m \u001b[0mevents_pol\u001b[0m\u001b[0;34m[\u001b[0m\u001b[0mi\u001b[0m\u001b[0;34m+\u001b[0m\u001b[0;36m1\u001b[0m\u001b[0;34m,\u001b[0m\u001b[0mt_index\u001b[0m\u001b[0;34m]\u001b[0m\u001b[0;34m-\u001b[0m\u001b[0mevents_pol\u001b[0m\u001b[0;34m[\u001b[0m\u001b[0mi\u001b[0m\u001b[0;34m,\u001b[0m\u001b[0mt_index\u001b[0m\u001b[0;34m]\u001b[0m\u001b[0;34m\u001b[0m\u001b[0;34m\u001b[0m\u001b[0m\n\u001b[1;32m    155\u001b[0m             \u001b[0;32mif\u001b[0m \u001b[0misi\u001b[0m\u001b[0;34m>\u001b[0m\u001b[0;36m0\u001b[0m\u001b[0;34m:\u001b[0m\u001b[0;34m\u001b[0m\u001b[0;34m\u001b[0m\u001b[0m\n\u001b[0;32m--> 156\u001b[0;31m                 \u001b[0mmean_isi\u001b[0m \u001b[0;34m=\u001b[0m \u001b[0;34m(\u001b[0m\u001b[0mN_events\u001b[0m\u001b[0;34m-\u001b[0m\u001b[0;36m1\u001b[0m\u001b[0;34m)\u001b[0m\u001b[0;34m/\u001b[0m\u001b[0mN_events\u001b[0m\u001b[0;34m*\u001b[0m\u001b[0mmean_isi\u001b[0m\u001b[0;34m+\u001b[0m\u001b[0;36m1\u001b[0m\u001b[0;34m/\u001b[0m\u001b[0mN_events\u001b[0m\u001b[0;34m*\u001b[0m\u001b[0misi\u001b[0m \u001b[0;32mif\u001b[0m \u001b[0mmean_isi\u001b[0m \u001b[0;32melse\u001b[0m \u001b[0misi\u001b[0m\u001b[0;34m\u001b[0m\u001b[0;34m\u001b[0m\u001b[0m\n\u001b[0m\u001b[1;32m    157\u001b[0m         \u001b[0misipol\u001b[0m\u001b[0;34m[\u001b[0m\u001b[0mpolarity\u001b[0m\u001b[0;34m]\u001b[0m\u001b[0;34m=\u001b[0m\u001b[0mmean_isi\u001b[0m\u001b[0;34m\u001b[0m\u001b[0;34m\u001b[0m\u001b[0m\n\u001b[1;32m    158\u001b[0m     \u001b[0;32mif\u001b[0m \u001b[0mverbose\u001b[0m\u001b[0;34m:\u001b[0m\u001b[0;34m\u001b[0m\u001b[0;34m\u001b[0m\u001b[0m\n",
      "\u001b[0;31mKeyboardInterrupt\u001b[0m: "
     ]
    }
   ],
   "source": [
    "from dataset_creation import get_info\n",
    "get_info(path)"
   ]
  },
  {
   "cell_type": "markdown",
   "id": "e4297509-c55b-4dfc-bd21-ad4851871705",
   "metadata": {},
   "source": [
    "# Sample visualization\n",
    "\n",
    "with EvVisu, check if there is something from what I already did"
   ]
  },
  {
   "cell_type": "code",
   "execution_count": null,
   "id": "884692fc-addc-46b1-a213-8bc925f4bd56",
   "metadata": {},
   "outputs": [],
   "source": []
  }
 ],
 "metadata": {
  "kernelspec": {
   "display_name": "Python 3 (ipykernel)",
   "language": "python",
   "name": "python3"
  },
  "language_info": {
   "codemirror_mode": {
    "name": "ipython",
    "version": 3
   },
   "file_extension": ".py",
   "mimetype": "text/x-python",
   "name": "python",
   "nbconvert_exporter": "python",
   "pygments_lexer": "ipython3",
   "version": "3.8.10"
  }
 },
 "nbformat": 4,
 "nbformat_minor": 5
}
