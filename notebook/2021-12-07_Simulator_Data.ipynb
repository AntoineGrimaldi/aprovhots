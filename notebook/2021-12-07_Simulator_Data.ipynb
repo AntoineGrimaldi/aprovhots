{
 "cells": [
  {
   "cell_type": "markdown",
   "id": "5aa0554a-f18c-40f7-808e-d611acaa21da",
   "metadata": {},
   "source": [
    "# Load .csv files and format the events to save them as .npy files and load them easily"
   ]
  },
  {
   "cell_type": "raw",
   "id": "4b2079bd-1625-4d29-9f89-f5f9e2c132bb",
   "metadata": {},
   "source": [
    "from aprovhots import csv2npy\n",
    "nameofyourpath = '/home/INT/grimaldi.a/Documents/projets/WP3/2021-12-06_simulator_data/'\n",
    "csv2npy(nameofyourpath)"
   ]
  },
  {
   "cell_type": "code",
   "execution_count": null,
   "id": "3b618f69-b02a-45a7-ac16-34b34a40216d",
   "metadata": {},
   "outputs": [],
   "source": [
    "import glob, ast\n",
    "import pandas as pd\n",
    "from tqdm import tqdm\n",
    "import numpy as np\n",
    "\n",
    "# path specific to your machine\n",
    "path = '/Users/joe/Nextcloud/APROVIS3D-data/2021-12-06_simulator_data/'\n",
    "%cd $path\n",
    "list_csv = glob.glob('*.csv')\n",
    "list_npy = glob.glob('*.npy')\n",
    "print(f'list of all .csv files : \\n {list_csv}')\n",
    "\n",
    "index = 'xytp'\n",
    "\n",
    "#because at some point I have the end of the .csv file that is composed of NaNs.\n",
    "#this line is just to prevent from stopping the script at the end of a damaged file\n",
    "#can be commented if files are not corrupted\n",
    "event_limit = [5573, 19387, 42340, 941, 41480, 100000, 100000]\n",
    "\n",
    "for number, name in enumerate(list_csv):\n",
    "    if name[:-4]+'.npy' not in list_npy:\n",
    "        print(f'loading: {name}')\n",
    "        df = pd.read_csv(path+name)\n",
    "        events = None\n",
    "        index = 0\n",
    "        for index, row in tqdm(df.iterrows(), total=df.shape[0]):\n",
    "            # can be commented if files are not corrupted\n",
    "            if index<event_limit[number]:\n",
    "                text = row['.events']\n",
    "                text = text.replace('[', '[{').replace(']', '}]').replace('\\n', ', ').replace(' ts: ,', '').replace(\", x\", \"}, {x\").replace(\"x\", \"'x'\").replace(\" y\", \" 'y'\").replace(\" secs\", \" 'secs'\").replace(\" nsecs\", \" 'nsecs'\").replace(\" polarity\", \" 'polarity'\")\n",
    "                mydict = ast.literal_eval(text)\n",
    "                x = pd.DataFrame.from_dict(mydict)['x'].values\n",
    "                y = pd.DataFrame.from_dict(mydict)['y'].values\n",
    "                t = pd.DataFrame.from_dict(mydict)['secs'].values*1e6+pd.DataFrame.from_dict(mydict)['nsecs'].values*1e-3\n",
    "                p = pd.DataFrame.from_dict(mydict)['polarity'].values\n",
    "                if events is not None:\n",
    "                    events = np.vstack((events, np.array([x,y,t,p]).T))\n",
    "                else:\n",
    "                    events = np.array([x,y,t,p]).T\n",
    "        np.save(path+name[:-4], events)\n",
    "    else: print(f'{name} was already loaded saved as .npy file')"
   ]
  },
  {
   "cell_type": "markdown",
   "id": "6e567d9b-cc3a-4c46-805b-fa1bc1630560",
   "metadata": {},
   "source": [
    "# Open the .npy files and get some information"
   ]
  },
  {
   "cell_type": "code",
   "execution_count": 20,
   "id": "52b5fb58-f72a-4202-9ee2-a0a4874dc936",
   "metadata": {},
   "outputs": [
    {
     "name": "stdout",
     "output_type": "stream",
     "text": [
      "file name: mixed_session_2.npy\n",
      "recording duration: 323.0 s \n",
      " events density: 7418.496 ev/sec \n",
      " number of ON/OFF events: 0.953\n",
      "\n",
      "file name: mixed_session_3.npy\n",
      "recording duration: 705.0 s \n",
      " events density: 13822.538 ev/sec \n",
      " number of ON/OFF events: 0.897\n",
      "\n",
      "file name: mixed_session_1.npy\n",
      "recording duration: 93.0 s \n",
      " events density: 8614.034 ev/sec \n",
      " number of ON/OFF events: 1.013\n",
      "\n",
      "file name: only_sea_session_3.npy\n",
      "recording duration: 691.0 s \n",
      " events density: 13764.88 ev/sec \n",
      " number of ON/OFF events: 0.999\n",
      "\n",
      "file name: only_sea_session_2.npy\n",
      "recording duration: 1328.0 s \n",
      " events density: 10873.698 ev/sec \n",
      " number of ON/OFF events: 0.999\n",
      "\n",
      "file name: only_sea_session_1.npy\n",
      "recording duration: 16.0 s \n",
      " events density: 5954.397 ev/sec \n",
      " number of ON/OFF events: 0.779\n",
      "\n",
      "file name: only_ground_session_1.npy\n",
      "recording duration: 636.0 s \n",
      " events density: 39175.777 ev/sec \n",
      " number of ON/OFF events: 1.003\n",
      "\n"
     ]
    }
   ],
   "source": [
    "#print(f'list of all .npy files : \\n {list_npy}')\n",
    "D = []\n",
    "for name in list_npy:\n",
    "    events = np.load(path+name)\n",
    "    duration = (events[-1,2]-events[0,2])*1e-6\n",
    "    nb_events = events.shape[0]\n",
    "    nb_OFF = (events[:,3]==0).sum()\n",
    "    nb_ON = (events[:,3]==1).sum()\n",
    "    density = nb_events/duration\n",
    "    D.append(density*1e-3)\n",
    "    print(f'file name: {name}')\n",
    "    print(f'recording duration: {np.round(duration)} s \\n events density: {np.round(density,3)} ev/sec \\n number of ON/OFF events: {np.round(nb_ON/nb_OFF,3)}\\n')"
   ]
  },
  {
   "cell_type": "code",
   "execution_count": 36,
   "id": "5593c839-55f5-4625-8b92-b954ee897af2",
   "metadata": {},
   "outputs": [
    {
     "data": {
      "text/plain": [
       "<matplotlib.legend.Legend at 0x12302e1c0>"
      ]
     },
     "execution_count": 36,
     "metadata": {},
     "output_type": "execute_result"
    },
    {
     "data": {
      "image/png": "[encoded data removed]",
      "text/plain": [
       "<Figure size 432x288 with 1 Axes>"
      ]
     },
     "metadata": {
      "needs_background": "light"
     },
     "output_type": "display_data"
    }
   ],
   "source": [
    "import matplotlib.pyplot as plt\n",
    "fig, ax = plt.subplots()\n",
    "ax.plot(np.arange(3),D[:3], 'o', label = 'mixed')\n",
    "ax.plot(np.arange(3,6), D[3:6], 'o', label = 'sea')\n",
    "ax.plot([6], D[6:], 'o', label = 'ground')\n",
    "ax.set_ylabel('events density in events/ms');\n",
    "ax.set_xticklabels([]);\n",
    "plt.legend()"
   ]
  },
  {
   "cell_type": "code",
   "execution_count": 37,
   "id": "9806b131-5768-4d39-a98a-c127cdc11fc7",
   "metadata": {},
   "outputs": [],
   "source": [
    "fig.savefig('event_density.pdf')"
   ]
  },
  {
   "cell_type": "code",
   "execution_count": null,
   "id": "fc6ad1b7-063d-4eb7-b526-b54b35eb97e9",
   "metadata": {},
   "outputs": [],
   "source": []
  }
 ],
 "metadata": {
  "kernelspec": {
   "display_name": "Python 3 (ipykernel)",
   "language": "python",
   "name": "python3"
  },
  "language_info": {
   "codemirror_mode": {
    "name": "ipython",
    "version": 3
   },
   "file_extension": ".py",
   "mimetype": "text/x-python",
   "name": "python",
   "nbconvert_exporter": "python",
   "pygments_lexer": "ipython3",
   "version": "3.8.10"
  }
 },
 "nbformat": 4,
 "nbformat_minor": 5
}
