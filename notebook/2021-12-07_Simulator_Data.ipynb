{
 "cells": [
  {
   "cell_type": "code",
   "execution_count": null,
   "id": "1abdede4-b91b-43d8-bfa8-3eec94fa0b84",
   "metadata": {},
   "outputs": [],
   "source": [
    "# Load .csv files and format the events to save them as .npy files and load them easily"
   ]
  },
  {
   "cell_type": "code",
   "execution_count": 6,
   "id": "47bf0f1a-d522-4ed7-b15c-09f0427bdfb7",
   "metadata": {},
   "outputs": [
    {
     "name": "stdout",
     "output_type": "stream",
     "text": [
      "The autoreload extension is already loaded. To reload it, use:\n",
      "  %reload_ext autoreload\n"
     ]
    }
   ],
   "source": [
    "%load_ext autoreload\n",
    "%autoreload 2"
   ]
  },
  {
   "cell_type": "code",
   "execution_count": 15,
   "id": "c1a7b2f4-cbb2-4931-a65e-f5f19173ff95",
   "metadata": {},
   "outputs": [
    {
     "name": "stdout",
     "output_type": "stream",
     "text": [
      "list of all .csv files : \n",
      " ['only_sea_session_2.csv', 'only_sea_session_1.csv', 'mixed_session_1.csv', 'only_sea_session_3.csv', 'mixed_session_3.csv', 'mixed_session_2.csv', 'only_ground_session_1.csv'] \n",
      "\n",
      "only_sea_session_2.csv was already loaded saved as .npy file\n",
      "only_sea_session_1.csv was already loaded saved as .npy file\n",
      "mixed_session_1.csv was already loaded saved as .npy file\n",
      "only_sea_session_3.csv was already loaded saved as .npy file\n",
      "mixed_session_3.csv was already loaded saved as .npy file\n",
      "mixed_session_2.csv was already loaded saved as .npy file\n",
      "only_ground_session_1.csv was already loaded saved as .npy file\n"
     ]
    }
   ],
   "source": [
    "from aprovhots import csv2npy, get_info\n",
    "path = '/home/INT/grimaldi.a/Documents/projets/WP3/2021-12-06_simulator_data/'\n",
    "list_npy = csv2npy(path)"
   ]
  },
  {
   "cell_type": "markdown",
   "id": "6e567d9b-cc3a-4c46-805b-fa1bc1630560",
   "metadata": {},
   "source": [
    "# Open the .npy files and get some information"
   ]
  },
  {
   "cell_type": "code",
   "execution_count": 21,
   "id": "52b5fb58-f72a-4202-9ee2-a0a4874dc936",
   "metadata": {},
   "outputs": [
    {
     "name": "stdout",
     "output_type": "stream",
     "text": [
      "file name: only_sea_session_2.npy\n",
      "recording duration: 1328.0 s \n",
      " events density: 10873.698 ev/sec \n",
      " number of ON/OFF events: 0.999\n",
      "\n",
      "file name: only_sea_session_1.npy\n",
      "recording duration: 16.0 s \n",
      " events density: 5954.397 ev/sec \n",
      " number of ON/OFF events: 0.779\n",
      "\n",
      "file name: mixed_session_1.npy\n",
      "recording duration: 93.0 s \n",
      " events density: 8614.034 ev/sec \n",
      " number of ON/OFF events: 1.013\n",
      "\n",
      "file name: only_sea_session_3.npy\n",
      "recording duration: 691.0 s \n",
      " events density: 13764.88 ev/sec \n",
      " number of ON/OFF events: 0.999\n",
      "\n",
      "file name: mixed_session_3.npy\n",
      "recording duration: 705.0 s \n",
      " events density: 13822.538 ev/sec \n",
      " number of ON/OFF events: 0.897\n",
      "\n",
      "file name: mixed_session_2.npy\n",
      "recording duration: 323.0 s \n",
      " events density: 7418.496 ev/sec \n",
      " number of ON/OFF events: 0.953\n",
      "\n",
      "file name: only_ground_session_1.npy\n",
      "recording duration: 636.0 s \n",
      " events density: 39175.777 ev/sec \n",
      " number of ON/OFF events: 1.003\n",
      "\n"
     ]
    }
   ],
   "source": [
    "density = get_info(path, list_npy)"
   ]
  },
  {
   "cell_type": "code",
   "execution_count": 22,
   "id": "5593c839-55f5-4625-8b92-b954ee897af2",
   "metadata": {},
   "outputs": [
    {
     "data": {
      "text/plain": [
       "<matplotlib.legend.Legend at 0x7fcbf9e3cfd0>"
      ]
     },
     "execution_count": 22,
     "metadata": {},
     "output_type": "execute_result"
    },
    {
     "data": {
      "image/png": "[encoded data removed]",
      "text/plain": [
       "<Figure size 432x288 with 1 Axes>"
      ]
     },
     "metadata": {
      "needs_background": "light"
     },
     "output_type": "display_data"
    }
   ],
   "source": [
    "import matplotlib.pyplot as plt\n",
    "import numpy as np\n",
    "\n",
    "fig, ax = plt.subplots()\n",
    "ax.plot(np.arange(3),density[:3], 'o', label = 'mixed')\n",
    "ax.plot(np.arange(3,6), density[3:6], 'o', label = 'sea')\n",
    "ax.plot([6], density[6:], 'o', label = 'ground')\n",
    "ax.set_ylabel('events density in events/ms');\n",
    "ax.set_xticklabels([]);\n",
    "plt.legend()"
   ]
  },
  {
   "cell_type": "code",
   "execution_count": 37,
   "id": "9806b131-5768-4d39-a98a-c127cdc11fc7",
   "metadata": {},
   "outputs": [],
   "source": [
    "fig.savefig('event_density.pdf')"
   ]
  },
  {
   "cell_type": "code",
   "execution_count": null,
   "id": "fc6ad1b7-063d-4eb7-b526-b54b35eb97e9",
   "metadata": {},
   "outputs": [],
   "source": []
  }
 ],
 "metadata": {
  "kernelspec": {
   "display_name": "Python 3 (ipykernel)",
   "language": "python",
   "name": "python3"
  },
  "language_info": {
   "codemirror_mode": {
    "name": "ipython",
    "version": 3
   },
   "file_extension": ".py",
   "mimetype": "text/x-python",
   "name": "python",
   "nbconvert_exporter": "python",
   "pygments_lexer": "ipython3",
   "version": "3.8.10"
  }
 },
 "nbformat": 4,
 "nbformat_minor": 5
}
