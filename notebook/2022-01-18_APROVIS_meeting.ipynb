{
 "cells": [
  {
   "cell_type": "markdown",
   "id": "8cdc44ac-8fcb-48a0-87ad-539dfaa23370",
   "metadata": {},
   "source": [
    "# Train a MLR model on the event stream as output of the DVS\n",
    "## Makes a training set"
   ]
  },
  {
   "cell_type": "code",
   "execution_count": 1,
   "id": "2fb93f9e-1465-4e1a-9f78-35b3fddce9cf",
   "metadata": {
    "tags": []
   },
   "outputs": [],
   "source": [
    "%load_ext autoreload\n",
    "%autoreload 2\n",
    "\n",
    "from aprovhots import fit_MLR, predict_data\n",
    "from dataset_creation import Synthetic_Dataset\n",
    "from HOTS.tools import score_classif_events, score_classif_time, get_dataset_info, get_loader\n",
    "from HOTS.network import network\n",
    "import tonic #, os\n",
    "\n",
    "path = '/home/INT/grimaldi.a/Documents/projets/WP3/2021-12-06_simulator_data/'\n",
    "patch_size = (32,32)\n",
    "max_duration = 1e3\n",
    "date = '2022-01-03'\n",
    "# we set tau_cla emprirically based on the ISI for SEA samples (see Make_dataset notebook)\n",
    "tau_cla = 200*patch_size[0]*patch_size[1]*2\n",
    "\n",
    "trainset = Synthetic_Dataset(save_to=path, train=True, patch_size=patch_size, max_duration=max_duration)\n",
    "testset = Synthetic_Dataset(save_to=path, train=False, patch_size=patch_size, max_duration=max_duration)"
   ]
  },
  {
   "cell_type": "code",
   "execution_count": null,
   "id": "2b9643d1-1a10-4d31-95b2-a97687ff12bc",
   "metadata": {
    "tags": []
   },
   "outputs": [],
   "source": [
    "values = get_dataset_info(trainset, testset)"
   ]
  },
  {
   "cell_type": "code",
   "execution_count": null,
   "id": "18e72228-0997-429e-bf96-b5e9cad0cf19",
   "metadata": {
    "tags": []
   },
   "outputs": [],
   "source": [
    "values = get_dataset_info(trainset, testset, distinguish_labels=True)"
   ]
  },
  {
   "cell_type": "markdown",
   "id": "335b6b31-92b8-4e37-9dd2-b18104bb864b",
   "metadata": {},
   "source": [
    "## Classification with MLR on raw events"
   ]
  },
  {
   "cell_type": "code",
   "execution_count": 2,
   "id": "9de52141-74d6-41e5-95df-e797ea835de6",
   "metadata": {
    "tags": []
   },
   "outputs": [
    {
     "name": "stdout",
     "output_type": "stream",
     "text": [
      "../Records/models/2022-01-03_RAW_409600_(32, 32)_10_LR.pkl\n",
      "load existing model\n"
     ]
    }
   ],
   "source": [
    "kfold = 10\n",
    "MLR_model, losses = fit_MLR(path, date, tau_cla, patch_size=patch_size, max_duration = max_duration, kfold=kfold)"
   ]
  },
  {
   "cell_type": "code",
   "execution_count": 3,
   "id": "0055c946-4ef9-44ec-929b-02355efe95fd",
   "metadata": {
    "tags": []
   },
   "outputs": [
    {
     "name": "stderr",
     "output_type": "stream",
     "text": [
      "100%|██████████████████████████████████████████████████████████████████████████████████████████████████████████████████████████████████████████████| 466/466 [00:55<00:00,  8.33it/s]\n"
     ]
    }
   ],
   "source": [
    "likelihood, true_target, timestamps = predict_data(path, date, tau_cla, patch_size=patch_size, max_duration = max_duration, kfold=kfold)"
   ]
  },
  {
   "cell_type": "code",
   "execution_count": null,
   "id": "25d2b070-f131-4bd4-9cad-d674af2dcaad",
   "metadata": {
    "tags": []
   },
   "outputs": [],
   "source": [
    "meanac, onlinac, lastac, truepos, falsepos = score_classif_events(likelihood, true_target)"
   ]
  },
  {
   "cell_type": "markdown",
   "id": "ccd42d89-b201-4625-858e-6ec30e92a39b",
   "metadata": {},
   "source": [
    "### Higher threshold"
   ]
  },
  {
   "cell_type": "code",
   "execution_count": null,
   "id": "347e6f98-2ead-4850-b568-cf297e71077a",
   "metadata": {
    "tags": []
   },
   "outputs": [],
   "source": [
    "likelihood_threshold = .9\n",
    "meanac, onlinac, lastac, truepos, falsepos = score_classif_events(likelihood, true_target, thres=likelihood_threshold)"
   ]
  },
  {
   "cell_type": "code",
   "execution_count": null,
   "id": "88e583a9-c485-405e-8109-859652ee1aa9",
   "metadata": {},
   "outputs": [
    {
     "name": "stderr",
     "output_type": "stream",
     "text": [
      " 15%|████████████████████▊                                                                                                                          | 68/466 [05:09<31:45,  4.79s/it]"
     ]
    }
   ],
   "source": [
    "timestep = 1e4 # 1ms\n",
    "meanac, onlinac, lastac, truepos, falsepos = score_classif_time(likelihood, true_target, timestamps, timestep= timestep)"
   ]
  },
  {
   "cell_type": "code",
   "execution_count": null,
   "id": "aea8dede-794d-4ee4-914b-52bf51344920",
   "metadata": {},
   "outputs": [],
   "source": []
  }
 ],
 "metadata": {
  "kernelspec": {
   "display_name": "Python 3 (ipykernel)",
   "language": "python",
   "name": "python3"
  },
  "language_info": {
   "codemirror_mode": {
    "name": "ipython",
    "version": 3
   },
   "file_extension": ".py",
   "mimetype": "text/x-python",
   "name": "python",
   "nbconvert_exporter": "python",
   "pygments_lexer": "ipython3",
   "version": "3.8.10"
  }
 },
 "nbformat": 4,
 "nbformat_minor": 5
}
