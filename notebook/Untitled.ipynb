{
 "cells": [
  {
   "cell_type": "markdown",
   "id": "8cdc44ac-8fcb-48a0-87ad-539dfaa23370",
   "metadata": {},
   "source": [
    "# Train a MLR model on the event stream as output of the DVS\n",
    "## Makes a training set"
   ]
  },
  {
   "cell_type": "code",
   "execution_count": 2,
   "id": "2fb93f9e-1465-4e1a-9f78-35b3fddce9cf",
   "metadata": {},
   "outputs": [
    {
     "name": "stdout",
     "output_type": "stream",
     "text": [
      "The autoreload extension is already loaded. To reload it, use:\n",
      "  %reload_ext autoreload\n"
     ]
    }
   ],
   "source": [
    "%load_ext autoreload\n",
    "%autoreload 2\n",
    "\n",
    "from aprovhots import fit_MLR\n",
    "\n",
    "path = '/home/INT/grimaldi.a/Documents/projets/WP3/2021-12-06_simulator_data/'\n",
    "patch_size = (8,8)\n",
    "date = '2022-01-03'\n",
    "# we set tau_cla emprirically based on the ISI for SEA samples (see Make_dataset notebook)\n",
    "tau_cla = 200*patch_size[0]*patch_size[1]*2"
   ]
  },
  {
   "cell_type": "markdown",
   "id": "90f6ad39-3e68-46b8-bc2f-af04fc4e3117",
   "metadata": {},
   "source": [
    "## Train MLR model"
   ]
  },
  {
   "cell_type": "code",
   "execution_count": null,
   "id": "62d48ad5-314d-40bc-b142-4dd8320000f5",
   "metadata": {},
   "outputs": [
    {
     "name": "stdout",
     "output_type": "stream",
     "text": [
      "loading -> only_sea_session_2.csv ...\n"
     ]
    },
    {
     "name": "stderr",
     "output_type": "stream",
     "text": [
      " 90%|█████████████████████████████████████████████████████████████████████████████████████████████████████████████████████████▉              | 71417/79654 [1:49:51<24:51,  5.52it/s]"
     ]
    }
   ],
   "source": [
    "MLR_model, losses = fit_MLR(path, date, tau_cla, patch_size=patch_size, kfold=10)"
   ]
  },
  {
   "cell_type": "code",
   "execution_count": null,
   "id": "474df9da-69f1-4308-ade3-b526bb1905f5",
   "metadata": {},
   "outputs": [],
   "source": []
  }
 ],
 "metadata": {
  "kernelspec": {
   "display_name": "Python 3 (ipykernel)",
   "language": "python",
   "name": "python3"
  },
  "language_info": {
   "codemirror_mode": {
    "name": "ipython",
    "version": 3
   },
   "file_extension": ".py",
   "mimetype": "text/x-python",
   "name": "python",
   "nbconvert_exporter": "python",
   "pygments_lexer": "ipython3",
   "version": "3.8.10"
  }
 },
 "nbformat": 4,
 "nbformat_minor": 5
}
