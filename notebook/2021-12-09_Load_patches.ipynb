{
 "cells": [
  {
   "cell_type": "markdown",
   "id": "9029dca4-4842-48cd-adee-177c772002b1",
   "metadata": {},
   "source": [
    "# load events as patches"
   ]
  },
  {
   "cell_type": "code",
   "execution_count": 62,
   "id": "dd5f8687-76f1-4f17-a055-fa37e7a873e8",
   "metadata": {},
   "outputs": [
    {
     "name": "stdout",
     "output_type": "stream",
     "text": [
      "The autoreload extension is already loaded. To reload it, use:\n",
      "  %reload_ext autoreload\n",
      "/home/INT/grimaldi.a/Documents/projets/WP3/2021-12-06_simulator_data\n"
     ]
    }
   ],
   "source": [
    "%load_ext autoreload\n",
    "%autoreload 2\n",
    "\n",
    "import glob\n",
    "import numpy as np\n",
    "from aprovhots import split2patches, get_labels_indices, get_isi, fit_MLR\n",
    "path = '/home/INT/grimaldi.a/Documents/projets/WP3/2021-12-06_simulator_data/'\n",
    "%cd $path"
   ]
  },
  {
   "cell_type": "code",
   "execution_count": 63,
   "id": "9cdfeb04-a216-48bf-8f85-4458f81892f8",
   "metadata": {},
   "outputs": [
    {
     "name": "stdout",
     "output_type": "stream",
     "text": [
      "list of all files : \n",
      " ['only_sea_session_2.npy', 'only_sea_session_2_patches_5.npy', 'mixed_session_2.npy', 'only_ground_session_1_patches_5.npy', 'mixed_session_2_patches_5.npy', 'only_sea_session_3.npy', 'only_sea_session_1_patches_5.npy', 'mixed_session_3_patches_5.npy', 'mixed_session_1.npy', 'mixed_session_1_patches_5.npy', 'only_ground_session_1.npy', 'only_sea_session_3_patches_5.npy', 'only_sea_session_1.npy', 'mixed_session_3.npy'] \n",
      "\n",
      "only_sea_session_2.npy was already divided into patches\n",
      "only_sea_session_2_patches_5.npy was already divided into patches\n",
      "mixed_session_2.npy was already divided into patches\n",
      "only_ground_session_1_patches_5.npy was already divided into patches\n",
      "mixed_session_2_patches_5.npy was already divided into patches\n",
      "only_sea_session_3.npy was already divided into patches\n",
      "only_sea_session_1_patches_5.npy was already divided into patches\n",
      "mixed_session_3_patches_5.npy was already divided into patches\n",
      "mixed_session_1.npy was already divided into patches\n",
      "mixed_session_1_patches_5.npy was already divided into patches\n",
      "only_ground_session_1.npy was already divided into patches\n",
      "only_sea_session_3_patches_5.npy was already divided into patches\n",
      "only_sea_session_1.npy was already divided into patches\n",
      "mixed_session_3.npy was already divided into patches\n"
     ]
    }
   ],
   "source": [
    "patch_size = 5\n",
    "split2patches(path, patch_size)"
   ]
  },
  {
   "cell_type": "code",
   "execution_count": 64,
   "id": "ba2b8239-d646-4b96-b93d-a4c9ac541548",
   "metadata": {},
   "outputs": [
    {
     "name": "stdout",
     "output_type": "stream",
     "text": [
      "For SEA label: \n",
      " ['only_sea_session_2_patches_5.npy', 'only_sea_session_1_patches_5.npy', 'only_sea_session_3_patches_5.npy'] \n",
      "\n",
      "Mean ISI for ON events: 169.80120319081095 in ms \n",
      "\n",
      "Mean ISI for OFF events: 174.10135157379682 in ms \n",
      "\n"
     ]
    },
    {
     "data": {
      "text/plain": [
       "array([174101.3515738 , 169801.20319081])"
      ]
     },
     "execution_count": 64,
     "metadata": {},
     "output_type": "execute_result"
    }
   ],
   "source": [
    "list_npy = glob.glob(f'*sea*_patches_{patch_size}.npy')\n",
    "print(f'For SEA label: \\n {list_npy} \\n')\n",
    "get_isi(path, list_npy);"
   ]
  },
  {
   "cell_type": "code",
   "execution_count": 65,
   "id": "fcc0974d-cc9e-40ff-bcc6-b849475f8d29",
   "metadata": {},
   "outputs": [
    {
     "name": "stdout",
     "output_type": "stream",
     "text": [
      "For GROUND label: \n",
      " ['only_ground_session_1_patches_5.npy'] \n",
      "\n",
      "Mean ISI for ON events: 56.879166939592054 in ms \n",
      "\n",
      "Mean ISI for OFF events: 39.31962860134649 in ms \n",
      "\n"
     ]
    },
    {
     "data": {
      "text/plain": [
       "array([39319.62860135, 56879.16693959])"
      ]
     },
     "execution_count": 65,
     "metadata": {},
     "output_type": "execute_result"
    }
   ],
   "source": [
    "list_npy = glob.glob(f'*ground*_patches_{patch_size}.npy')\n",
    "print(f'For GROUND label: \\n {list_npy} \\n')\n",
    "get_isi(path, list_npy);"
   ]
  },
  {
   "cell_type": "markdown",
   "id": "b74ad274-5412-45f2-a3aa-09048f989c00",
   "metadata": {},
   "source": [
    "## parameter for the HOTS network"
   ]
  },
  {
   "cell_type": "code",
   "execution_count": 66,
   "id": "937c1f09-5b96-4e3b-abb3-94e6e4ab34be",
   "metadata": {},
   "outputs": [
    {
     "name": "stdout",
     "output_type": "stream",
     "text": [
      "For all labels : \n",
      " ['only_sea_session_2_patches_5.npy', 'only_ground_session_1_patches_5.npy', 'mixed_session_2_patches_5.npy', 'only_sea_session_1_patches_5.npy', 'mixed_session_3_patches_5.npy', 'mixed_session_1_patches_5.npy', 'only_sea_session_3_patches_5.npy'] \n",
      "\n",
      "Mean ISI for ON events: 185.3593176571058 in ms \n",
      "\n",
      "Mean ISI for OFF events: 202.0231349664596 in ms \n",
      "\n"
     ]
    }
   ],
   "source": [
    "list_npy = glob.glob(f'*_patches_{patch_size}.npy')\n",
    "print(f'For all labels : \\n {list_npy} \\n')\n",
    "[isi_OFF, isi_ON] = get_isi(path, list_npy)"
   ]
  },
  {
   "cell_type": "markdown",
   "id": "7985d579-4fa9-430f-a990-2dfb31d48327",
   "metadata": {},
   "source": [
    "## parameter for the LR model\n",
    "\n",
    "the mean duration is around 600 s (approx) minimum 16 s (but very low file)\n",
    "\n",
    "let's choose arbitrarily a tau large enough to gather a enough events on a 5x5 patch -> mean_isi x 25 (if tau is too big, events will overlap)"
   ]
  },
  {
   "cell_type": "code",
   "execution_count": 70,
   "id": "59a3bf05-2cfa-4a08-9a60-ff49b53f6002",
   "metadata": {},
   "outputs": [],
   "source": [
    "mean_isi = (isi_OFF+isi_ON)/2\n",
    "tau_cla = mean_isi*patch_size**2*1e-3 # tau has to be given in ms "
   ]
  },
  {
   "cell_type": "code",
   "execution_count": 171,
   "id": "6478a470-69da-4454-9ccf-ab9a91e596fa",
   "metadata": {},
   "outputs": [
    {
     "name": "stdout",
     "output_type": "stream",
     "text": [
      "using these files: \n",
      " ['only_sea_session_2_patches_5.npy', 'only_sea_session_1_patches_5.npy', 'only_sea_session_3_patches_5.npy']\n",
      "using these files: \n",
      " ['only_ground_session_1_patches_5.npy']\n"
     ]
    }
   ],
   "source": [
    "labelz = ['sea', 'ground']\n",
    "events_train, indices_train, label_train = get_labels_indices(path, labelz, patch_size)"
   ]
  },
  {
   "cell_type": "code",
   "execution_count": 185,
   "id": "db5cd846-d0bd-4207-b84d-0da68e4d9cc8",
   "metadata": {},
   "outputs": [
    {
     "name": "stdout",
     "output_type": "stream",
     "text": [
      "device -> cuda - num workers -> 0\n"
     ]
    },
    {
     "ename": "RuntimeError",
     "evalue": "CUDA error: device-side assert triggered\nCUDA kernel errors might be asynchronously reported at some other API call,so the stacktrace below might be incorrect.\nFor debugging consider passing CUDA_LAUNCH_BLOCKING=1.",
     "output_type": "error",
     "traceback": [
      "\u001b[0;31m---------------------------------------------------------------------------\u001b[0m",
      "\u001b[0;31mRuntimeError\u001b[0m                              Traceback (most recent call last)",
      "\u001b[0;32m/tmp/ipykernel_3990570/1679225701.py\u001b[0m in \u001b[0;36m<module>\u001b[0;34m\u001b[0m\n\u001b[0;32m----> 1\u001b[0;31m \u001b[0mmodel\u001b[0m\u001b[0;34m,\u001b[0m \u001b[0mloss\u001b[0m \u001b[0;34m=\u001b[0m \u001b[0mfit_MLR\u001b[0m\u001b[0;34m(\u001b[0m\u001b[0mevents_train\u001b[0m\u001b[0;34m,\u001b[0m \u001b[0mlabel_train\u001b[0m\u001b[0;34m,\u001b[0m \u001b[0mindices_train\u001b[0m\u001b[0;34m,\u001b[0m \u001b[0mtau_cla\u001b[0m\u001b[0;34m,\u001b[0m \u001b[0mpatch_size\u001b[0m\u001b[0;34m)\u001b[0m\u001b[0;34m\u001b[0m\u001b[0;34m\u001b[0m\u001b[0m\n\u001b[0m",
      "\u001b[0;32m~/Documents/projets/HOTS/aprovhots/notebook/aprovhots.py\u001b[0m in \u001b[0;36mfit_MLR\u001b[0;34m(events_train, label_train, indices_train, tau_cla, patch_R)\u001b[0m\n\u001b[1;32m    155\u001b[0m     \u001b[0mn_classes\u001b[0m \u001b[0;34m=\u001b[0m \u001b[0mlen\u001b[0m\u001b[0;34m(\u001b[0m\u001b[0mtrain_dataset\u001b[0m\u001b[0;34m.\u001b[0m\u001b[0mclasses\u001b[0m\u001b[0;34m)\u001b[0m\u001b[0;34m\u001b[0m\u001b[0;34m\u001b[0m\u001b[0m\n\u001b[1;32m    156\u001b[0m     \u001b[0mlogistic_model\u001b[0m \u001b[0;34m=\u001b[0m \u001b[0mLRtorch\u001b[0m\u001b[0;34m(\u001b[0m\u001b[0mN\u001b[0m\u001b[0;34m,\u001b[0m \u001b[0mn_classes\u001b[0m\u001b[0;34m)\u001b[0m\u001b[0;34m\u001b[0m\u001b[0;34m\u001b[0m\u001b[0m\n\u001b[0;32m--> 157\u001b[0;31m     \u001b[0mlogistic_model\u001b[0m \u001b[0;34m=\u001b[0m \u001b[0mlogistic_model\u001b[0m\u001b[0;34m.\u001b[0m\u001b[0mto\u001b[0m\u001b[0;34m(\u001b[0m\u001b[0mdevice\u001b[0m\u001b[0;34m)\u001b[0m\u001b[0;34m\u001b[0m\u001b[0;34m\u001b[0m\u001b[0m\n\u001b[0m\u001b[1;32m    158\u001b[0m     \u001b[0mlogistic_model\u001b[0m\u001b[0;34m.\u001b[0m\u001b[0mtrain\u001b[0m\u001b[0;34m(\u001b[0m\u001b[0;34m)\u001b[0m\u001b[0;34m\u001b[0m\u001b[0;34m\u001b[0m\u001b[0m\n\u001b[1;32m    159\u001b[0m     optimizer = torch.optim.Adam(\n",
      "\u001b[0;32m~/.local/lib/python3.8/site-packages/torch/nn/modules/module.py\u001b[0m in \u001b[0;36mto\u001b[0;34m(self, *args, **kwargs)\u001b[0m\n\u001b[1;32m    897\u001b[0m             \u001b[0;32mreturn\u001b[0m \u001b[0mt\u001b[0m\u001b[0;34m.\u001b[0m\u001b[0mto\u001b[0m\u001b[0;34m(\u001b[0m\u001b[0mdevice\u001b[0m\u001b[0;34m,\u001b[0m \u001b[0mdtype\u001b[0m \u001b[0;32mif\u001b[0m \u001b[0mt\u001b[0m\u001b[0;34m.\u001b[0m\u001b[0mis_floating_point\u001b[0m\u001b[0;34m(\u001b[0m\u001b[0;34m)\u001b[0m \u001b[0;32mor\u001b[0m \u001b[0mt\u001b[0m\u001b[0;34m.\u001b[0m\u001b[0mis_complex\u001b[0m\u001b[0;34m(\u001b[0m\u001b[0;34m)\u001b[0m \u001b[0;32melse\u001b[0m \u001b[0;32mNone\u001b[0m\u001b[0;34m,\u001b[0m \u001b[0mnon_blocking\u001b[0m\u001b[0;34m)\u001b[0m\u001b[0;34m\u001b[0m\u001b[0;34m\u001b[0m\u001b[0m\n\u001b[1;32m    898\u001b[0m \u001b[0;34m\u001b[0m\u001b[0m\n\u001b[0;32m--> 899\u001b[0;31m         \u001b[0;32mreturn\u001b[0m \u001b[0mself\u001b[0m\u001b[0;34m.\u001b[0m\u001b[0m_apply\u001b[0m\u001b[0;34m(\u001b[0m\u001b[0mconvert\u001b[0m\u001b[0;34m)\u001b[0m\u001b[0;34m\u001b[0m\u001b[0;34m\u001b[0m\u001b[0m\n\u001b[0m\u001b[1;32m    900\u001b[0m \u001b[0;34m\u001b[0m\u001b[0m\n\u001b[1;32m    901\u001b[0m     def register_backward_hook(\n",
      "\u001b[0;32m~/.local/lib/python3.8/site-packages/torch/nn/modules/module.py\u001b[0m in \u001b[0;36m_apply\u001b[0;34m(self, fn)\u001b[0m\n\u001b[1;32m    568\u001b[0m     \u001b[0;32mdef\u001b[0m \u001b[0m_apply\u001b[0m\u001b[0;34m(\u001b[0m\u001b[0mself\u001b[0m\u001b[0;34m,\u001b[0m \u001b[0mfn\u001b[0m\u001b[0;34m)\u001b[0m\u001b[0;34m:\u001b[0m\u001b[0;34m\u001b[0m\u001b[0;34m\u001b[0m\u001b[0m\n\u001b[1;32m    569\u001b[0m         \u001b[0;32mfor\u001b[0m \u001b[0mmodule\u001b[0m \u001b[0;32min\u001b[0m \u001b[0mself\u001b[0m\u001b[0;34m.\u001b[0m\u001b[0mchildren\u001b[0m\u001b[0;34m(\u001b[0m\u001b[0;34m)\u001b[0m\u001b[0;34m:\u001b[0m\u001b[0;34m\u001b[0m\u001b[0;34m\u001b[0m\u001b[0m\n\u001b[0;32m--> 570\u001b[0;31m             \u001b[0mmodule\u001b[0m\u001b[0;34m.\u001b[0m\u001b[0m_apply\u001b[0m\u001b[0;34m(\u001b[0m\u001b[0mfn\u001b[0m\u001b[0;34m)\u001b[0m\u001b[0;34m\u001b[0m\u001b[0;34m\u001b[0m\u001b[0m\n\u001b[0m\u001b[1;32m    571\u001b[0m \u001b[0;34m\u001b[0m\u001b[0m\n\u001b[1;32m    572\u001b[0m         \u001b[0;32mdef\u001b[0m \u001b[0mcompute_should_use_set_data\u001b[0m\u001b[0;34m(\u001b[0m\u001b[0mtensor\u001b[0m\u001b[0;34m,\u001b[0m \u001b[0mtensor_applied\u001b[0m\u001b[0;34m)\u001b[0m\u001b[0;34m:\u001b[0m\u001b[0;34m\u001b[0m\u001b[0;34m\u001b[0m\u001b[0m\n",
      "\u001b[0;32m~/.local/lib/python3.8/site-packages/torch/nn/modules/module.py\u001b[0m in \u001b[0;36m_apply\u001b[0;34m(self, fn)\u001b[0m\n\u001b[1;32m    591\u001b[0m             \u001b[0;31m# `with torch.no_grad():`\u001b[0m\u001b[0;34m\u001b[0m\u001b[0;34m\u001b[0m\u001b[0;34m\u001b[0m\u001b[0m\n\u001b[1;32m    592\u001b[0m             \u001b[0;32mwith\u001b[0m \u001b[0mtorch\u001b[0m\u001b[0;34m.\u001b[0m\u001b[0mno_grad\u001b[0m\u001b[0;34m(\u001b[0m\u001b[0;34m)\u001b[0m\u001b[0;34m:\u001b[0m\u001b[0;34m\u001b[0m\u001b[0;34m\u001b[0m\u001b[0m\n\u001b[0;32m--> 593\u001b[0;31m                 \u001b[0mparam_applied\u001b[0m \u001b[0;34m=\u001b[0m \u001b[0mfn\u001b[0m\u001b[0;34m(\u001b[0m\u001b[0mparam\u001b[0m\u001b[0;34m)\u001b[0m\u001b[0;34m\u001b[0m\u001b[0;34m\u001b[0m\u001b[0m\n\u001b[0m\u001b[1;32m    594\u001b[0m             \u001b[0mshould_use_set_data\u001b[0m \u001b[0;34m=\u001b[0m \u001b[0mcompute_should_use_set_data\u001b[0m\u001b[0;34m(\u001b[0m\u001b[0mparam\u001b[0m\u001b[0;34m,\u001b[0m \u001b[0mparam_applied\u001b[0m\u001b[0;34m)\u001b[0m\u001b[0;34m\u001b[0m\u001b[0;34m\u001b[0m\u001b[0m\n\u001b[1;32m    595\u001b[0m             \u001b[0;32mif\u001b[0m \u001b[0mshould_use_set_data\u001b[0m\u001b[0;34m:\u001b[0m\u001b[0;34m\u001b[0m\u001b[0;34m\u001b[0m\u001b[0m\n",
      "\u001b[0;32m~/.local/lib/python3.8/site-packages/torch/nn/modules/module.py\u001b[0m in \u001b[0;36mconvert\u001b[0;34m(t)\u001b[0m\n\u001b[1;32m    895\u001b[0m                 return t.to(device, dtype if t.is_floating_point() or t.is_complex() else None,\n\u001b[1;32m    896\u001b[0m                             non_blocking, memory_format=convert_to_format)\n\u001b[0;32m--> 897\u001b[0;31m             \u001b[0;32mreturn\u001b[0m \u001b[0mt\u001b[0m\u001b[0;34m.\u001b[0m\u001b[0mto\u001b[0m\u001b[0;34m(\u001b[0m\u001b[0mdevice\u001b[0m\u001b[0;34m,\u001b[0m \u001b[0mdtype\u001b[0m \u001b[0;32mif\u001b[0m \u001b[0mt\u001b[0m\u001b[0;34m.\u001b[0m\u001b[0mis_floating_point\u001b[0m\u001b[0;34m(\u001b[0m\u001b[0;34m)\u001b[0m \u001b[0;32mor\u001b[0m \u001b[0mt\u001b[0m\u001b[0;34m.\u001b[0m\u001b[0mis_complex\u001b[0m\u001b[0;34m(\u001b[0m\u001b[0;34m)\u001b[0m \u001b[0;32melse\u001b[0m \u001b[0;32mNone\u001b[0m\u001b[0;34m,\u001b[0m \u001b[0mnon_blocking\u001b[0m\u001b[0;34m)\u001b[0m\u001b[0;34m\u001b[0m\u001b[0;34m\u001b[0m\u001b[0m\n\u001b[0m\u001b[1;32m    898\u001b[0m \u001b[0;34m\u001b[0m\u001b[0m\n\u001b[1;32m    899\u001b[0m         \u001b[0;32mreturn\u001b[0m \u001b[0mself\u001b[0m\u001b[0;34m.\u001b[0m\u001b[0m_apply\u001b[0m\u001b[0;34m(\u001b[0m\u001b[0mconvert\u001b[0m\u001b[0;34m)\u001b[0m\u001b[0;34m\u001b[0m\u001b[0;34m\u001b[0m\u001b[0m\n",
      "\u001b[0;31mRuntimeError\u001b[0m: CUDA error: device-side assert triggered\nCUDA kernel errors might be asynchronously reported at some other API call,so the stacktrace below might be incorrect.\nFor debugging consider passing CUDA_LAUNCH_BLOCKING=1."
     ]
    }
   ],
   "source": [
    "model, loss = fit_MLR(events_train, label_train, indices_train, tau_cla, patch_size)"
   ]
  },
  {
   "cell_type": "code",
   "execution_count": 156,
   "id": "acbe6606-63ac-48a6-bb6b-1258df8c16ed",
   "metadata": {},
   "outputs": [
    {
     "data": {
      "text/plain": [
       "[<matplotlib.lines.Line2D at 0x7f9a4eefc970>]"
      ]
     },
     "execution_count": 156,
     "metadata": {},
     "output_type": "execute_result"
    },
    {
     "data": {
      "image/png": "[encoded data removed]",
      "text/plain": [
       "<Figure size 432x288 with 1 Axes>"
      ]
     },
     "metadata": {
      "needs_background": "light"
     },
     "output_type": "display_data"
    }
   ],
   "source": [
    "import matplotlib.pyplot as plt\n",
    "plt.plot(events_train[1000:100000,t_index])"
   ]
  },
  {
   "cell_type": "code",
   "execution_count": 170,
   "id": "8c658d34-918e-4e3a-99ef-c593abae35bb",
   "metadata": {},
   "outputs": [
    {
     "name": "stdout",
     "output_type": "stream",
     "text": [
      "[0 0 0 0 0 0 0 0 0 0]\n"
     ]
    }
   ],
   "source": [
    "print(np.random.rand(10).astype(int))"
   ]
  },
  {
   "cell_type": "code",
   "execution_count": null,
   "id": "e304173e-414c-4003-b40a-28c9d36dadae",
   "metadata": {},
   "outputs": [],
   "source": []
  }
 ],
 "metadata": {
  "kernelspec": {
   "display_name": "Python 3 (ipykernel)",
   "language": "python",
   "name": "python3"
  },
  "language_info": {
   "codemirror_mode": {
    "name": "ipython",
    "version": 3
   },
   "file_extension": ".py",
   "mimetype": "text/x-python",
   "name": "python",
   "nbconvert_exporter": "python",
   "pygments_lexer": "ipython3",
   "version": "3.8.10"
  }
 },
 "nbformat": 4,
 "nbformat_minor": 5
}
