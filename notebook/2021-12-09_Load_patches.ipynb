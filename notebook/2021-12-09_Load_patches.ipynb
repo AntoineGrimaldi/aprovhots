{
 "cells": [
  {
   "cell_type": "markdown",
   "id": "9029dca4-4842-48cd-adee-177c772002b1",
   "metadata": {},
   "source": [
    "# load events as patches"
   ]
  },
  {
   "cell_type": "code",
   "execution_count": 3,
   "id": "dd5f8687-76f1-4f17-a055-fa37e7a873e8",
   "metadata": {},
   "outputs": [
    {
     "name": "stdout",
     "output_type": "stream",
     "text": [
      "The autoreload extension is already loaded. To reload it, use:\n",
      "  %reload_ext autoreload\n",
      "/home/INT/grimaldi.a/Documents/projets/WP3/2021-12-06_simulator_data\n"
     ]
    }
   ],
   "source": [
    "%load_ext autoreload\n",
    "%autoreload 2\n",
    "\n",
    "import glob\n",
    "import numpy as np\n",
    "from aprovhots import split2patches, get_labels_indices, get_isi, fit_MLR\n",
    "path = '/home/INT/grimaldi.a/Documents/projets/WP3/2021-12-06_simulator_data/'\n",
    "%cd $path"
   ]
  },
  {
   "cell_type": "code",
   "execution_count": 4,
   "id": "9cdfeb04-a216-48bf-8f85-4458f81892f8",
   "metadata": {},
   "outputs": [
    {
     "name": "stdout",
     "output_type": "stream",
     "text": [
      "list of all files : \n",
      " ['only_sea_session_2.npy', 'only_sea_session_2_patches_5.npy', 'mixed_session_2.npy', 'only_ground_session_1_patches_5.npy', 'mixed_session_2_patches_5.npy', 'only_sea_session_3.npy', 'only_sea_session_1_patches_5.npy', 'mixed_session_3_patches_5.npy', 'mixed_session_1.npy', 'mixed_session_1_patches_5.npy', 'only_ground_session_1.npy', 'only_sea_session_3_patches_5.npy', 'only_sea_session_1.npy', 'mixed_session_3.npy'] \n",
      "\n",
      "only_sea_session_2.npy was already divided into patches\n",
      "only_sea_session_2_patches_5.npy was already divided into patches\n",
      "mixed_session_2.npy was already divided into patches\n",
      "only_ground_session_1_patches_5.npy was already divided into patches\n",
      "mixed_session_2_patches_5.npy was already divided into patches\n",
      "only_sea_session_3.npy was already divided into patches\n",
      "only_sea_session_1_patches_5.npy was already divided into patches\n",
      "mixed_session_3_patches_5.npy was already divided into patches\n",
      "mixed_session_1.npy was already divided into patches\n",
      "mixed_session_1_patches_5.npy was already divided into patches\n",
      "only_ground_session_1.npy was already divided into patches\n",
      "only_sea_session_3_patches_5.npy was already divided into patches\n",
      "only_sea_session_1.npy was already divided into patches\n",
      "mixed_session_3.npy was already divided into patches\n"
     ]
    }
   ],
   "source": [
    "patch_size = 5\n",
    "split2patches(path, patch_size)"
   ]
  },
  {
   "cell_type": "code",
   "execution_count": 5,
   "id": "ba2b8239-d646-4b96-b93d-a4c9ac541548",
   "metadata": {},
   "outputs": [
    {
     "name": "stdout",
     "output_type": "stream",
     "text": [
      "For SEA label: \n",
      " ['only_sea_session_2_patches_5.npy', 'only_sea_session_1_patches_5.npy', 'only_sea_session_3_patches_5.npy'] \n",
      "\n",
      "Mean ISI for ON events: 169.8 in ms \n",
      "\n",
      "Mean ISI for OFF events: 174.1 in ms \n",
      "\n"
     ]
    }
   ],
   "source": [
    "list_npy = glob.glob(f'*sea*_patches_{patch_size}.npy')\n",
    "print(f'For SEA label: \\n {list_npy} \\n')\n",
    "get_isi(path, list_npy);"
   ]
  },
  {
   "cell_type": "code",
   "execution_count": 7,
   "id": "fcc0974d-cc9e-40ff-bcc6-b849475f8d29",
   "metadata": {},
   "outputs": [
    {
     "name": "stdout",
     "output_type": "stream",
     "text": [
      "For GROUND label: \n",
      " ['only_ground_session_1_patches_5.npy'] \n",
      "\n",
      "Mean ISI for ON events: 56.9 in ms \n",
      "\n",
      "Mean ISI for OFF events: 39.3 in ms \n",
      "\n"
     ]
    }
   ],
   "source": [
    "list_npy = glob.glob(f'*ground*_patches_{patch_size}.npy')\n",
    "print(f'For GROUND label: \\n {list_npy} \\n')\n",
    "get_isi(path, list_npy);"
   ]
  },
  {
   "cell_type": "markdown",
   "id": "b74ad274-5412-45f2-a3aa-09048f989c00",
   "metadata": {},
   "source": [
    "## parameter for the HOTS network"
   ]
  },
  {
   "cell_type": "code",
   "execution_count": 11,
   "id": "937c1f09-5b96-4e3b-abb3-94e6e4ab34be",
   "metadata": {},
   "outputs": [
    {
     "name": "stdout",
     "output_type": "stream",
     "text": [
      "For all labels : \n",
      " ['only_sea_session_2_patches_5.npy', 'only_ground_session_1_patches_5.npy', 'mixed_session_2_patches_5.npy', 'only_sea_session_1_patches_5.npy', 'mixed_session_3_patches_5.npy', 'mixed_session_1_patches_5.npy', 'only_sea_session_3_patches_5.npy'] \n",
      "\n",
      "Mean ISI for ON events: 185.4 in ms \n",
      "\n",
      "Mean ISI for OFF events: 202.0 in ms \n",
      "\n"
     ]
    }
   ],
   "source": [
    "list_npy = glob.glob(f'*_patches_{patch_size}.npy')\n",
    "print(f'For all labels : \\n {list_npy} \\n')\n",
    "[isi_OFF, isi_ON] = get_isi(path, list_npy)"
   ]
  },
  {
   "cell_type": "markdown",
   "id": "7985d579-4fa9-430f-a990-2dfb31d48327",
   "metadata": {},
   "source": [
    "## parameter for the LR model\n",
    "\n",
    "the mean duration is around 600 s (approx) minimum 16 s (but very low file)\n",
    "\n",
    "let's choose arbitrarily a tau large enough to gather a enough events on a 5x5 patch -> mean_isi x 25 (if tau is too big, events will overlap)"
   ]
  },
  {
   "cell_type": "code",
   "execution_count": 1,
   "id": "59a3bf05-2cfa-4a08-9a60-ff49b53f6002",
   "metadata": {},
   "outputs": [],
   "source": [
    "from aprovhots import get_labels_indices, fit_MLR\n",
    "path = '/home/INT/grimaldi.a/Documents/projets/WP3/2021-12-06_simulator_data/'\n",
    "#mean_isi = (isi_OFF+isi_ON)/2\n",
    "patch_size = 5\n",
    "mean_isi = 190*1e3\n",
    "tau_cla = mean_isi*patch_size**2*1e-3 # tau has to be given in ms "
   ]
  },
  {
   "cell_type": "code",
   "execution_count": 2,
   "id": "6478a470-69da-4454-9ccf-ab9a91e596fa",
   "metadata": {},
   "outputs": [
    {
     "name": "stdout",
     "output_type": "stream",
     "text": [
      "using these files: \n",
      " ['only_sea_session_2_patches_5.npy', 'only_sea_session_1_patches_5.npy', 'only_sea_session_3_patches_5.npy']\n",
      "using these files: \n",
      " ['only_ground_session_1_patches_5.npy']\n"
     ]
    }
   ],
   "source": [
    "labelz = ['sea', 'ground']\n",
    "events_train, indices_train, label_train = get_labels_indices(path, labelz, patch_size)"
   ]
  },
  {
   "cell_type": "code",
   "execution_count": null,
   "id": "db5cd846-d0bd-4207-b84d-0da68e4d9cc8",
   "metadata": {},
   "outputs": [
    {
     "name": "stdout",
     "output_type": "stream",
     "text": [
      "device -> cuda - num workers -> 0\n"
     ]
    },
    {
     "name": "stderr",
     "output_type": "stream",
     "text": [
      "  3%|█▏                                       | 1/33 [06:07<3:15:58, 367.46s/it]"
     ]
    },
    {
     "name": "stdout",
     "output_type": "stream",
     "text": [
      "loss for epoch number 0: 0.22338055685400865\n"
     ]
    },
    {
     "name": "stderr",
     "output_type": "stream",
     "text": [
      "  6%|██▍                                      | 2/33 [12:21<3:11:50, 371.31s/it]"
     ]
    },
    {
     "name": "stdout",
     "output_type": "stream",
     "text": [
      "loss for epoch number 1: 0.2583545652957423\n"
     ]
    },
    {
     "name": "stderr",
     "output_type": "stream",
     "text": [
      "  9%|███▋                                     | 3/33 [18:27<3:04:21, 368.73s/it]"
     ]
    },
    {
     "name": "stdout",
     "output_type": "stream",
     "text": [
      "loss for epoch number 2: 0.3021401287108589\n"
     ]
    },
    {
     "name": "stderr",
     "output_type": "stream",
     "text": [
      " 12%|████▉                                    | 4/33 [24:40<2:59:02, 370.44s/it]"
     ]
    },
    {
     "name": "stdout",
     "output_type": "stream",
     "text": [
      "loss for epoch number 3: 0.19777066017030467\n"
     ]
    },
    {
     "name": "stderr",
     "output_type": "stream",
     "text": [
      " 15%|██████▏                                  | 5/33 [30:52<2:53:06, 370.96s/it]"
     ]
    },
    {
     "name": "stdout",
     "output_type": "stream",
     "text": [
      "loss for epoch number 4: 0.835127426366456\n"
     ]
    },
    {
     "name": "stderr",
     "output_type": "stream",
     "text": [
      " 18%|███████▍                                 | 6/33 [37:03<2:46:58, 371.05s/it]"
     ]
    },
    {
     "name": "stdout",
     "output_type": "stream",
     "text": [
      "loss for epoch number 5: 0.25404194296003874\n"
     ]
    },
    {
     "name": "stderr",
     "output_type": "stream",
     "text": [
      " 21%|████████▋                                | 7/33 [43:23<2:42:07, 374.14s/it]"
     ]
    },
    {
     "name": "stdout",
     "output_type": "stream",
     "text": [
      "loss for epoch number 6: 0.2641465599610447\n"
     ]
    },
    {
     "name": "stderr",
     "output_type": "stream",
     "text": [
      " 24%|█████████▉                               | 8/33 [49:28<2:34:41, 371.28s/it]"
     ]
    },
    {
     "name": "stdout",
     "output_type": "stream",
     "text": [
      "loss for epoch number 7: 1.0126827161950358\n"
     ]
    },
    {
     "name": "stderr",
     "output_type": "stream",
     "text": [
      " 27%|███████████▏                             | 9/33 [55:35<2:27:58, 369.92s/it]"
     ]
    },
    {
     "name": "stdout",
     "output_type": "stream",
     "text": [
      "loss for epoch number 8: 0.29787769367893857\n"
     ]
    },
    {
     "name": "stderr",
     "output_type": "stream",
     "text": [
      " 30%|███████████▌                          | 10/33 [1:01:41<2:21:19, 368.67s/it]"
     ]
    },
    {
     "name": "stdout",
     "output_type": "stream",
     "text": [
      "loss for epoch number 9: 0.26487859421189147\n"
     ]
    },
    {
     "name": "stderr",
     "output_type": "stream",
     "text": [
      " 33%|████████████▋                         | 11/33 [1:07:52<2:15:26, 369.40s/it]"
     ]
    },
    {
     "name": "stdout",
     "output_type": "stream",
     "text": [
      "loss for epoch number 10: 0.2650147910173209\n"
     ]
    },
    {
     "name": "stderr",
     "output_type": "stream",
     "text": [
      " 36%|█████████████▊                        | 12/33 [1:14:09<2:10:05, 371.68s/it]"
     ]
    },
    {
     "name": "stdout",
     "output_type": "stream",
     "text": [
      "loss for epoch number 11: 0.2607493613717448\n"
     ]
    },
    {
     "name": "stderr",
     "output_type": "stream",
     "text": [
      " 39%|██████████████▉                       | 13/33 [1:20:24<2:04:11, 372.60s/it]"
     ]
    },
    {
     "name": "stdout",
     "output_type": "stream",
     "text": [
      "loss for epoch number 12: 0.19716981143821702\n"
     ]
    },
    {
     "name": "stderr",
     "output_type": "stream",
     "text": [
      " 42%|████████████████                      | 14/33 [1:26:34<1:57:43, 371.75s/it]"
     ]
    },
    {
     "name": "stdout",
     "output_type": "stream",
     "text": [
      "loss for epoch number 13: 0.24491542776377\n"
     ]
    },
    {
     "name": "stderr",
     "output_type": "stream",
     "text": [
      " 45%|█████████████████▎                    | 15/33 [1:32:46<1:51:35, 371.96s/it]"
     ]
    },
    {
     "name": "stdout",
     "output_type": "stream",
     "text": [
      "loss for epoch number 14: 0.2584203579556225\n"
     ]
    },
    {
     "name": "stderr",
     "output_type": "stream",
     "text": [
      " 48%|██████████████████▍                   | 16/33 [1:38:54<1:45:01, 370.67s/it]"
     ]
    },
    {
     "name": "stdout",
     "output_type": "stream",
     "text": [
      "loss for epoch number 15: 0.2121030213799661\n"
     ]
    }
   ],
   "source": [
    "model, loss = fit_MLR(events_train, label_train, indices_train, tau_cla, patch_size)"
   ]
  },
  {
   "cell_type": "code",
   "execution_count": null,
   "id": "387d1ac1-0195-4f57-8fa0-12d87bc57392",
   "metadata": {},
   "outputs": [],
   "source": []
  }
 ],
 "metadata": {
  "kernelspec": {
   "display_name": "Python 3 (ipykernel)",
   "language": "python",
   "name": "python3"
  },
  "language_info": {
   "codemirror_mode": {
    "name": "ipython",
    "version": 3
   },
   "file_extension": ".py",
   "mimetype": "text/x-python",
   "name": "python",
   "nbconvert_exporter": "python",
   "pygments_lexer": "ipython3",
   "version": "3.8.10"
  }
 },
 "nbformat": 4,
 "nbformat_minor": 5
}
