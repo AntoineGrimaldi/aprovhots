{
 "cells": [
  {
   "cell_type": "markdown",
   "id": "9029dca4-4842-48cd-adee-177c772002b1",
   "metadata": {},
   "source": [
    "# load events as patches"
   ]
  },
  {
   "cell_type": "code",
   "execution_count": 1,
   "id": "dd5f8687-76f1-4f17-a055-fa37e7a873e8",
   "metadata": {},
   "outputs": [
    {
     "name": "stdout",
     "output_type": "stream",
     "text": [
      "/home/INT/grimaldi.a/Documents/projets/WP3/2021-12-06_simulator_data\n"
     ]
    }
   ],
   "source": [
    "import glob\n",
    "import numpy as np\n",
    "from aprovhots import split2patches, get_labels_indices\n",
    "path = '/home/INT/grimaldi.a/Documents/projets/WP3/2021-12-06_simulator_data/'\n",
    "%cd $path"
   ]
  },
  {
   "cell_type": "code",
   "execution_count": 2,
   "id": "9cdfeb04-a216-48bf-8f85-4458f81892f8",
   "metadata": {},
   "outputs": [
    {
     "name": "stdout",
     "output_type": "stream",
     "text": [
      "list of all files : \n",
      " ['only_sea_session_2.npy', 'only_sea_session_2_patches_5.npy', 'mixed_session_2.npy', 'only_ground_session_1_patches_5.npy', 'mixed_session_2_patches_5.npy', 'only_sea_session_3.npy', 'only_sea_session_1_patches_5.npy', 'mixed_session_3_patches_5.npy', 'mixed_session_1.npy', 'mixed_session_1_patches_5.npy', 'only_ground_session_1.npy', 'only_sea_session_3_patches_5.npy', 'only_sea_session_1.npy', 'mixed_session_3.npy'] \n",
      "\n",
      "only_sea_session_2.npy was already divided into patches\n",
      "only_sea_session_2_patches_5.npy was already divided into patches\n",
      "mixed_session_2.npy was already divided into patches\n",
      "only_ground_session_1_patches_5.npy was already divided into patches\n",
      "mixed_session_2_patches_5.npy was already divided into patches\n",
      "only_sea_session_3.npy was already divided into patches\n",
      "only_sea_session_1_patches_5.npy was already divided into patches\n",
      "mixed_session_3_patches_5.npy was already divided into patches\n",
      "mixed_session_1.npy was already divided into patches\n",
      "mixed_session_1_patches_5.npy was already divided into patches\n",
      "only_ground_session_1.npy was already divided into patches\n",
      "only_sea_session_3_patches_5.npy was already divided into patches\n",
      "only_sea_session_1.npy was already divided into patches\n",
      "mixed_session_3.npy was already divided into patches\n"
     ]
    }
   ],
   "source": [
    "patch_size = 5\n",
    "split2patches(path, patch_size)"
   ]
  },
  {
   "cell_type": "code",
   "execution_count": 5,
   "id": "ba2b8239-d646-4b96-b93d-a4c9ac541548",
   "metadata": {},
   "outputs": [
    {
     "name": "stdout",
     "output_type": "stream",
     "text": [
      "For SEA label, mean ISI: 81.4236994004422 in ms\n"
     ]
    }
   ],
   "source": [
    "list_npy = glob.glob(f'*sea*_patches_{patch_size}.npy')\n",
    "#print(f'list of all files : \\n {list_npy} \\n')\n",
    "mean_isi = None\n",
    "t_index = 2\n",
    "for name in list_npy:\n",
    "    events = np.load(path+name)\n",
    "    N_events = events.shape[0]-1\n",
    "    for i in range(events.shape[0]-1):\n",
    "        isi = events[i+1,t_index]-events[i,t_index]\n",
    "        if isi>0:\n",
    "            mean_isi = (N_events-1)/N_events*mean_isi+1/N_events*isi if mean_isi else isi\n",
    "print(f'For SEA label, mean ISI: {mean_isi*1e-3} in ms')"
   ]
  },
  {
   "cell_type": "code",
   "execution_count": 5,
   "id": "fcc0974d-cc9e-40ff-bcc6-b849475f8d29",
   "metadata": {},
   "outputs": [
    {
     "name": "stdout",
     "output_type": "stream",
     "text": [
      "For GROUND label, mean ISI: 27.929136920537864 in ms\n"
     ]
    }
   ],
   "source": [
    "list_npy = glob.glob(f'*ground*_patches_{patch_size}.npy')\n",
    "#print(f'list of all files : \\n {list_npy} \\n')\n",
    "mean_isi = None\n",
    "t_index = 2\n",
    "for name in list_npy:\n",
    "    events = np.load(path+name)\n",
    "    N_events = events.shape[0]-1\n",
    "    for i in range(events.shape[0]-1):\n",
    "        isi = events[i+1,t_index]-events[i,t_index]\n",
    "        if isi>0:\n",
    "            mean_isi = (N_events-1)/N_events*mean_isi+1/N_events*isi if mean_isi else isi\n",
    "print(f'For GROUND label, mean ISI: {mean_isi*1e-3} in ms')"
   ]
  },
  {
   "cell_type": "markdown",
   "id": "b74ad274-5412-45f2-a3aa-09048f989c00",
   "metadata": {},
   "source": [
    "## parameter for the HOTS network"
   ]
  },
  {
   "cell_type": "code",
   "execution_count": 6,
   "id": "937c1f09-5b96-4e3b-abb3-94e6e4ab34be",
   "metadata": {},
   "outputs": [
    {
     "name": "stdout",
     "output_type": "stream",
     "text": [
      "For GROUND label, mean ISI: 99.25066692453404 in ms\n"
     ]
    }
   ],
   "source": [
    "list_npy = glob.glob(f'*_patches_{patch_size}.npy')\n",
    "#print(f'list of all files : \\n {list_npy} \\n')\n",
    "mean_isi = None\n",
    "t_index = 2\n",
    "for name in list_npy:\n",
    "    events = np.load(path+name)\n",
    "    N_events = events.shape[0]-1\n",
    "    for i in range(events.shape[0]-1):\n",
    "        isi = events[i+1,t_index]-events[i,t_index]\n",
    "        if isi>0:\n",
    "            mean_isi = (N_events-1)/N_events*mean_isi+1/N_events*isi if mean_isi else isi\n",
    "print(f'For GROUND label, mean ISI: {mean_isi*1e-3} in ms')"
   ]
  },
  {
   "cell_type": "code",
   "execution_count": null,
   "id": "7e47b8db-89b1-4fce-a229-bca080ea4513",
   "metadata": {},
   "outputs": [],
   "source": [
    "N_p = 2\n",
    "tau1 = mean_isi*N_p*1e-3 # tau has to be given in ms "
   ]
  },
  {
   "cell_type": "markdown",
   "id": "7985d579-4fa9-430f-a990-2dfb31d48327",
   "metadata": {},
   "source": [
    "## parameter for the LR model\n",
    "\n",
    "the mean duration is around 600 s (approx) minimum 16 s (but very low file)\n",
    "\n",
    "let's choose arbitrarily a tau large enough to gather a enough events on a 5x5 patch -> mean_isi x N_p x 25 (if tau is too big, events will overlap)"
   ]
  },
  {
   "cell_type": "code",
   "execution_count": 7,
   "id": "59a3bf05-2cfa-4a08-9a60-ff49b53f6002",
   "metadata": {},
   "outputs": [],
   "source": [
    "N_p = 2\n",
    "tau1 = mean_isi*N_p*patch_size**2*1e-3 # tau has to be given in ms "
   ]
  },
  {
   "cell_type": "code",
   "execution_count": 3,
   "id": "6478a470-69da-4454-9ccf-ab9a91e596fa",
   "metadata": {},
   "outputs": [
    {
     "ename": "ValueError",
     "evalue": "all the input array dimensions for the concatenation axis must match exactly, but along dimension 1, the array at index 0 has size 816 and the array at index 1 has size 666",
     "output_type": "error",
     "traceback": [
      "\u001b[0;31m---------------------------------------------------------------------------\u001b[0m",
      "\u001b[0;31mValueError\u001b[0m                                Traceback (most recent call last)",
      "\u001b[0;32m/tmp/ipykernel_3052834/114540635.py\u001b[0m in \u001b[0;36m<module>\u001b[0;34m\u001b[0m\n\u001b[1;32m      1\u001b[0m \u001b[0mlabelz\u001b[0m \u001b[0;34m=\u001b[0m \u001b[0;34m[\u001b[0m\u001b[0;34m'sea'\u001b[0m\u001b[0;34m,\u001b[0m \u001b[0;34m'ground'\u001b[0m\u001b[0;34m]\u001b[0m\u001b[0;34m\u001b[0m\u001b[0;34m\u001b[0m\u001b[0m\n\u001b[0;32m----> 2\u001b[0;31m \u001b[0mevents_train\u001b[0m\u001b[0;34m,\u001b[0m \u001b[0mindices_train\u001b[0m\u001b[0;34m,\u001b[0m \u001b[0mlabel_train\u001b[0m \u001b[0;34m=\u001b[0m \u001b[0mget_labels_indices\u001b[0m\u001b[0;34m(\u001b[0m\u001b[0mpath\u001b[0m\u001b[0;34m,\u001b[0m \u001b[0mlabelz\u001b[0m\u001b[0;34m,\u001b[0m \u001b[0mpatch_size\u001b[0m\u001b[0;34m)\u001b[0m\u001b[0;34m\u001b[0m\u001b[0;34m\u001b[0m\u001b[0m\n\u001b[0m",
      "\u001b[0;32m~/Documents/projets/HOTS/aprovhots/notebook/aprovhots.py\u001b[0m in \u001b[0;36mget_labels_indices\u001b[0;34m(path, labelz, patch_size)\u001b[0m\n\u001b[1;32m     83\u001b[0m             \u001b[0mevents_stacked\u001b[0m \u001b[0;34m=\u001b[0m \u001b[0mnp\u001b[0m\u001b[0;34m.\u001b[0m\u001b[0mvstack\u001b[0m\u001b[0;34m(\u001b[0m\u001b[0;34m[\u001b[0m\u001b[0mevents_stacked\u001b[0m\u001b[0;34m,\u001b[0m \u001b[0mevents\u001b[0m\u001b[0;34m]\u001b[0m\u001b[0;34m)\u001b[0m \u001b[0;32mif\u001b[0m \u001b[0mevents_stacked\u001b[0m\u001b[0;34m.\u001b[0m\u001b[0msize\u001b[0m \u001b[0;32melse\u001b[0m \u001b[0mevents\u001b[0m\u001b[0;34m\u001b[0m\u001b[0;34m\u001b[0m\u001b[0m\n\u001b[1;32m     84\u001b[0m             \u001b[0mindices_stacked\u001b[0m \u001b[0;34m=\u001b[0m \u001b[0mnp\u001b[0m\u001b[0;34m.\u001b[0m\u001b[0mvstack\u001b[0m\u001b[0;34m(\u001b[0m\u001b[0;34m[\u001b[0m\u001b[0mindices_stacked\u001b[0m\u001b[0;34m,\u001b[0m \u001b[0mindices\u001b[0m\u001b[0;34m]\u001b[0m\u001b[0;34m)\u001b[0m \u001b[0;32mif\u001b[0m \u001b[0mindices_stacked\u001b[0m\u001b[0;34m.\u001b[0m\u001b[0msize\u001b[0m \u001b[0;32melse\u001b[0m \u001b[0mindices\u001b[0m\u001b[0;34m\u001b[0m\u001b[0;34m\u001b[0m\u001b[0m\n\u001b[0;32m---> 85\u001b[0;31m             \u001b[0mlabel_stacked\u001b[0m \u001b[0;34m=\u001b[0m \u001b[0mnp\u001b[0m\u001b[0;34m.\u001b[0m\u001b[0mvstack\u001b[0m\u001b[0;34m(\u001b[0m\u001b[0;34m[\u001b[0m\u001b[0mlabel_stacked\u001b[0m\u001b[0;34m,\u001b[0m \u001b[0mlabel\u001b[0m\u001b[0;34m.\u001b[0m\u001b[0mT\u001b[0m\u001b[0;34m]\u001b[0m\u001b[0;34m)\u001b[0m \u001b[0;32mif\u001b[0m \u001b[0mlabel_stacked\u001b[0m\u001b[0;34m.\u001b[0m\u001b[0msize\u001b[0m \u001b[0;32melse\u001b[0m \u001b[0mlabel\u001b[0m\u001b[0;34m.\u001b[0m\u001b[0mT\u001b[0m\u001b[0;34m\u001b[0m\u001b[0;34m\u001b[0m\u001b[0m\n\u001b[0m\u001b[1;32m     86\u001b[0m     \u001b[0;32mreturn\u001b[0m \u001b[0mevents_stacked\u001b[0m\u001b[0;34m,\u001b[0m \u001b[0mindices_stacked\u001b[0m\u001b[0;34m,\u001b[0m \u001b[0mlabel_stacked\u001b[0m\u001b[0;34m\u001b[0m\u001b[0;34m\u001b[0m\u001b[0m\n\u001b[1;32m     87\u001b[0m \u001b[0;34m\u001b[0m\u001b[0m\n",
      "\u001b[0;32m<__array_function__ internals>\u001b[0m in \u001b[0;36mvstack\u001b[0;34m(*args, **kwargs)\u001b[0m\n",
      "\u001b[0;32m~/.local/lib/python3.8/site-packages/numpy/core/shape_base.py\u001b[0m in \u001b[0;36mvstack\u001b[0;34m(tup)\u001b[0m\n\u001b[1;32m    280\u001b[0m     \u001b[0;32mif\u001b[0m \u001b[0;32mnot\u001b[0m \u001b[0misinstance\u001b[0m\u001b[0;34m(\u001b[0m\u001b[0marrs\u001b[0m\u001b[0;34m,\u001b[0m \u001b[0mlist\u001b[0m\u001b[0;34m)\u001b[0m\u001b[0;34m:\u001b[0m\u001b[0;34m\u001b[0m\u001b[0;34m\u001b[0m\u001b[0m\n\u001b[1;32m    281\u001b[0m         \u001b[0marrs\u001b[0m \u001b[0;34m=\u001b[0m \u001b[0;34m[\u001b[0m\u001b[0marrs\u001b[0m\u001b[0;34m]\u001b[0m\u001b[0;34m\u001b[0m\u001b[0;34m\u001b[0m\u001b[0m\n\u001b[0;32m--> 282\u001b[0;31m     \u001b[0;32mreturn\u001b[0m \u001b[0m_nx\u001b[0m\u001b[0;34m.\u001b[0m\u001b[0mconcatenate\u001b[0m\u001b[0;34m(\u001b[0m\u001b[0marrs\u001b[0m\u001b[0;34m,\u001b[0m \u001b[0;36m0\u001b[0m\u001b[0;34m)\u001b[0m\u001b[0;34m\u001b[0m\u001b[0;34m\u001b[0m\u001b[0m\n\u001b[0m\u001b[1;32m    283\u001b[0m \u001b[0;34m\u001b[0m\u001b[0m\n\u001b[1;32m    284\u001b[0m \u001b[0;34m\u001b[0m\u001b[0m\n",
      "\u001b[0;32m<__array_function__ internals>\u001b[0m in \u001b[0;36mconcatenate\u001b[0;34m(*args, **kwargs)\u001b[0m\n",
      "\u001b[0;31mValueError\u001b[0m: all the input array dimensions for the concatenation axis must match exactly, but along dimension 1, the array at index 0 has size 816 and the array at index 1 has size 666"
     ]
    }
   ],
   "source": [
    "labelz = ['sea', 'ground']\n",
    "events_train, indices_train, label_train = get_labels_indices(path, labelz, patch_size)"
   ]
  },
  {
   "cell_type": "code",
   "execution_count": 4,
   "id": "7f2ab030-fc92-4240-b22b-1a0afb1c38e9",
   "metadata": {},
   "outputs": [
    {
     "ename": "NameError",
     "evalue": "name 'events' is not defined",
     "output_type": "error",
     "traceback": [
      "\u001b[0;31m---------------------------------------------------------------------------\u001b[0m",
      "\u001b[0;31mNameError\u001b[0m                                 Traceback (most recent call last)",
      "\u001b[0;32m/tmp/ipykernel_3052151/1979530317.py\u001b[0m in \u001b[0;36m<module>\u001b[0;34m\u001b[0m\n\u001b[0;32m----> 1\u001b[0;31m \u001b[0mevents\u001b[0m\u001b[0;34m\u001b[0m\u001b[0;34m\u001b[0m\u001b[0m\n\u001b[0m",
      "\u001b[0;31mNameError\u001b[0m: name 'events' is not defined"
     ]
    }
   ],
   "source": [
    "events"
   ]
  },
  {
   "cell_type": "code",
   "execution_count": 14,
   "id": "15a2edef-05d6-43fe-8d71-c4f98d85559f",
   "metadata": {},
   "outputs": [],
   "source": [
    "indices = np.argwhere(events[:,2]==0)"
   ]
  },
  {
   "cell_type": "code",
   "execution_count": 16,
   "id": "33f75a2e-ff3e-4f9e-b2bf-99a80b452167",
   "metadata": {},
   "outputs": [
    {
     "name": "stdout",
     "output_type": "stream",
     "text": [
      "(896, 1)\n"
     ]
    }
   ],
   "source": [
    "print(indices.shape)"
   ]
  },
  {
   "cell_type": "code",
   "execution_count": null,
   "id": "32e47fc1-8985-40a9-978c-53f1379dfba7",
   "metadata": {},
   "outputs": [],
   "source": []
  }
 ],
 "metadata": {
  "kernelspec": {
   "display_name": "Python 3 (ipykernel)",
   "language": "python",
   "name": "python3"
  },
  "language_info": {
   "codemirror_mode": {
    "name": "ipython",
    "version": 3
   },
   "file_extension": ".py",
   "mimetype": "text/x-python",
   "name": "python",
   "nbconvert_exporter": "python",
   "pygments_lexer": "ipython3",
   "version": "3.8.10"
  }
 },
 "nbformat": 4,
 "nbformat_minor": 5
}
