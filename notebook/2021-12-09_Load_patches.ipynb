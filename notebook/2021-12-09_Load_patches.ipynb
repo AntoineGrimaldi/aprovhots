{
 "cells": [
  {
   "cell_type": "markdown",
   "id": "9029dca4-4842-48cd-adee-177c772002b1",
   "metadata": {},
   "source": [
    "# load events as patches"
   ]
  },
  {
   "cell_type": "code",
   "execution_count": 5,
   "id": "dd5f8687-76f1-4f17-a055-fa37e7a873e8",
   "metadata": {},
   "outputs": [
    {
     "name": "stdout",
     "output_type": "stream",
     "text": [
      "/home/INT/grimaldi.a/Documents/projets/HOTS/aprovhots/notebook\n"
     ]
    }
   ],
   "source": [
    "%load_ext autoreload\n",
    "%autoreload 2\n",
    "\n",
    "import glob\n",
    "import numpy as np\n",
    "from aprovhots import split2patches, get_labels_indices, get_isi, fit_MLR\n",
    "path = '/home/INT/grimaldi.a/Documents/projets/WP3/2021-12-06_simulator_data/'\n",
    "%cd $path"
   ]
  },
  {
   "cell_type": "code",
   "execution_count": 4,
   "id": "9cdfeb04-a216-48bf-8f85-4458f81892f8",
   "metadata": {},
   "outputs": [
    {
     "name": "stdout",
     "output_type": "stream",
     "text": [
      "list of all files : \n",
      " ['only_sea_session_2.npy', 'only_sea_session_2_patches_5.npy', 'mixed_session_2.npy', 'only_ground_session_1_patches_5.npy', 'mixed_session_2_patches_5.npy', 'only_sea_session_3.npy', 'only_sea_session_1_patches_5.npy', 'mixed_session_3_patches_5.npy', 'mixed_session_1.npy', 'mixed_session_1_patches_5.npy', 'only_ground_session_1.npy', 'only_sea_session_3_patches_5.npy', 'only_sea_session_1.npy', 'mixed_session_3.npy'] \n",
      "\n",
      "only_sea_session_2.npy was already divided into patches\n",
      "only_sea_session_2_patches_5.npy was already divided into patches\n",
      "mixed_session_2.npy was already divided into patches\n",
      "only_ground_session_1_patches_5.npy was already divided into patches\n",
      "mixed_session_2_patches_5.npy was already divided into patches\n",
      "only_sea_session_3.npy was already divided into patches\n",
      "only_sea_session_1_patches_5.npy was already divided into patches\n",
      "mixed_session_3_patches_5.npy was already divided into patches\n",
      "mixed_session_1.npy was already divided into patches\n",
      "mixed_session_1_patches_5.npy was already divided into patches\n",
      "only_ground_session_1.npy was already divided into patches\n",
      "only_sea_session_3_patches_5.npy was already divided into patches\n",
      "only_sea_session_1.npy was already divided into patches\n",
      "mixed_session_3.npy was already divided into patches\n"
     ]
    }
   ],
   "source": [
    "patch_size = 5\n",
    "split2patches(path, patch_size)"
   ]
  },
  {
   "cell_type": "code",
   "execution_count": 5,
   "id": "ba2b8239-d646-4b96-b93d-a4c9ac541548",
   "metadata": {},
   "outputs": [
    {
     "name": "stdout",
     "output_type": "stream",
     "text": [
      "For SEA label: \n",
      " ['only_sea_session_2_patches_5.npy', 'only_sea_session_1_patches_5.npy', 'only_sea_session_3_patches_5.npy'] \n",
      "\n",
      "Mean ISI for ON events: 169.8 in ms \n",
      "\n",
      "Mean ISI for OFF events: 174.1 in ms \n",
      "\n"
     ]
    }
   ],
   "source": [
    "list_npy = glob.glob(f'*sea*_patches_{patch_size}.npy')\n",
    "print(f'For SEA label: \\n {list_npy} \\n')\n",
    "get_isi(path, list_npy);"
   ]
  },
  {
   "cell_type": "code",
   "execution_count": 7,
   "id": "fcc0974d-cc9e-40ff-bcc6-b849475f8d29",
   "metadata": {},
   "outputs": [
    {
     "name": "stdout",
     "output_type": "stream",
     "text": [
      "For GROUND label: \n",
      " ['only_ground_session_1_patches_5.npy'] \n",
      "\n",
      "Mean ISI for ON events: 56.9 in ms \n",
      "\n",
      "Mean ISI for OFF events: 39.3 in ms \n",
      "\n"
     ]
    }
   ],
   "source": [
    "list_npy = glob.glob(f'*ground*_patches_{patch_size}.npy')\n",
    "print(f'For GROUND label: \\n {list_npy} \\n')\n",
    "get_isi(path, list_npy);"
   ]
  },
  {
   "cell_type": "markdown",
   "id": "b74ad274-5412-45f2-a3aa-09048f989c00",
   "metadata": {},
   "source": [
    "## parameter for the HOTS network"
   ]
  },
  {
   "cell_type": "code",
   "execution_count": 11,
   "id": "937c1f09-5b96-4e3b-abb3-94e6e4ab34be",
   "metadata": {},
   "outputs": [
    {
     "name": "stdout",
     "output_type": "stream",
     "text": [
      "For all labels : \n",
      " ['only_sea_session_2_patches_5.npy', 'only_ground_session_1_patches_5.npy', 'mixed_session_2_patches_5.npy', 'only_sea_session_1_patches_5.npy', 'mixed_session_3_patches_5.npy', 'mixed_session_1_patches_5.npy', 'only_sea_session_3_patches_5.npy'] \n",
      "\n",
      "Mean ISI for ON events: 185.4 in ms \n",
      "\n",
      "Mean ISI for OFF events: 202.0 in ms \n",
      "\n"
     ]
    }
   ],
   "source": [
    "list_npy = glob.glob(f'*_patches_{patch_size}.npy')\n",
    "print(f'For all labels : \\n {list_npy} \\n')\n",
    "[isi_OFF, isi_ON] = get_isi(path, list_npy)"
   ]
  },
  {
   "cell_type": "markdown",
   "id": "7985d579-4fa9-430f-a990-2dfb31d48327",
   "metadata": {},
   "source": [
    "## parameter for the LR model\n",
    "\n",
    "the mean duration is around 600 s (approx) minimum 16 s (but very low file)\n",
    "\n",
    "let's choose arbitrarily a tau large enough to gather a enough events on a 5x5 patch -> mean_isi x 25 (if tau is too big, events will overlap)"
   ]
  },
  {
   "cell_type": "code",
   "execution_count": 6,
   "id": "59a3bf05-2cfa-4a08-9a60-ff49b53f6002",
   "metadata": {},
   "outputs": [],
   "source": [
    "from aprovhots import get_labels_indices, fit_MLR\n",
    "path = '/home/INT/grimaldi.a/Documents/projets/WP3/2021-12-06_simulator_data/'\n",
    "#mean_isi = (isi_OFF+isi_ON)/2\n",
    "patch_size = 5\n",
    "mean_isi = 190*1e3\n",
    "tau_cla = mean_isi*patch_size**2*1e-3 # tau has to be given in ms "
   ]
  },
  {
   "cell_type": "code",
   "execution_count": 7,
   "id": "6478a470-69da-4454-9ccf-ab9a91e596fa",
   "metadata": {},
   "outputs": [
    {
     "name": "stdout",
     "output_type": "stream",
     "text": [
      "using these files: \n",
      " ['only_sea_session_2_patches_5.npy', 'only_sea_session_1_patches_5.npy', 'only_sea_session_3_patches_5.npy']\n",
      "using these files: \n",
      " ['only_ground_session_1_patches_5.npy']\n"
     ]
    }
   ],
   "source": [
    "labelz = ['sea', 'ground']\n",
    "events_train, indices_train, label_train = get_labels_indices(path, labelz, patch_size)"
   ]
  },
  {
   "cell_type": "code",
   "execution_count": 4,
   "id": "db5cd846-d0bd-4207-b84d-0da68e4d9cc8",
   "metadata": {},
   "outputs": [
    {
     "name": "stdout",
     "output_type": "stream",
     "text": [
      "device -> cuda - num workers -> 0\n"
     ]
    },
    {
     "name": "stderr",
     "output_type": "stream",
     "text": [
      "  3%|█▏                                       | 1/33 [06:07<3:15:58, 367.46s/it]"
     ]
    },
    {
     "name": "stdout",
     "output_type": "stream",
     "text": [
      "loss for epoch number 0: 0.22338055685400865\n"
     ]
    },
    {
     "name": "stderr",
     "output_type": "stream",
     "text": [
      "  6%|██▍                                      | 2/33 [12:21<3:11:50, 371.31s/it]"
     ]
    },
    {
     "name": "stdout",
     "output_type": "stream",
     "text": [
      "loss for epoch number 1: 0.2583545652957423\n"
     ]
    },
    {
     "name": "stderr",
     "output_type": "stream",
     "text": [
      "  9%|███▋                                     | 3/33 [18:27<3:04:21, 368.73s/it]"
     ]
    },
    {
     "name": "stdout",
     "output_type": "stream",
     "text": [
      "loss for epoch number 2: 0.3021401287108589\n"
     ]
    },
    {
     "name": "stderr",
     "output_type": "stream",
     "text": [
      " 12%|████▉                                    | 4/33 [24:40<2:59:02, 370.44s/it]"
     ]
    },
    {
     "name": "stdout",
     "output_type": "stream",
     "text": [
      "loss for epoch number 3: 0.19777066017030467\n"
     ]
    },
    {
     "name": "stderr",
     "output_type": "stream",
     "text": [
      " 15%|██████▏                                  | 5/33 [30:52<2:53:06, 370.96s/it]"
     ]
    },
    {
     "name": "stdout",
     "output_type": "stream",
     "text": [
      "loss for epoch number 4: 0.835127426366456\n"
     ]
    },
    {
     "name": "stderr",
     "output_type": "stream",
     "text": [
      " 18%|███████▍                                 | 6/33 [37:03<2:46:58, 371.05s/it]"
     ]
    },
    {
     "name": "stdout",
     "output_type": "stream",
     "text": [
      "loss for epoch number 5: 0.25404194296003874\n"
     ]
    },
    {
     "name": "stderr",
     "output_type": "stream",
     "text": [
      " 21%|████████▋                                | 7/33 [43:23<2:42:07, 374.14s/it]"
     ]
    },
    {
     "name": "stdout",
     "output_type": "stream",
     "text": [
      "loss for epoch number 6: 0.2641465599610447\n"
     ]
    },
    {
     "name": "stderr",
     "output_type": "stream",
     "text": [
      " 24%|█████████▉                               | 8/33 [49:28<2:34:41, 371.28s/it]"
     ]
    },
    {
     "name": "stdout",
     "output_type": "stream",
     "text": [
      "loss for epoch number 7: 1.0126827161950358\n"
     ]
    },
    {
     "name": "stderr",
     "output_type": "stream",
     "text": [
      " 27%|███████████▏                             | 9/33 [55:35<2:27:58, 369.92s/it]"
     ]
    },
    {
     "name": "stdout",
     "output_type": "stream",
     "text": [
      "loss for epoch number 8: 0.29787769367893857\n"
     ]
    },
    {
     "name": "stderr",
     "output_type": "stream",
     "text": [
      " 30%|███████████▌                          | 10/33 [1:01:41<2:21:19, 368.67s/it]"
     ]
    },
    {
     "name": "stdout",
     "output_type": "stream",
     "text": [
      "loss for epoch number 9: 0.26487859421189147\n"
     ]
    },
    {
     "name": "stderr",
     "output_type": "stream",
     "text": [
      " 33%|████████████▋                         | 11/33 [1:07:52<2:15:26, 369.40s/it]"
     ]
    },
    {
     "name": "stdout",
     "output_type": "stream",
     "text": [
      "loss for epoch number 10: 0.2650147910173209\n"
     ]
    },
    {
     "name": "stderr",
     "output_type": "stream",
     "text": [
      " 36%|█████████████▊                        | 12/33 [1:14:09<2:10:05, 371.68s/it]"
     ]
    },
    {
     "name": "stdout",
     "output_type": "stream",
     "text": [
      "loss for epoch number 11: 0.2607493613717448\n"
     ]
    },
    {
     "name": "stderr",
     "output_type": "stream",
     "text": [
      " 39%|██████████████▉                       | 13/33 [1:20:24<2:04:11, 372.60s/it]"
     ]
    },
    {
     "name": "stdout",
     "output_type": "stream",
     "text": [
      "loss for epoch number 12: 0.19716981143821702\n"
     ]
    },
    {
     "name": "stderr",
     "output_type": "stream",
     "text": [
      " 42%|████████████████                      | 14/33 [1:26:34<1:57:43, 371.75s/it]"
     ]
    },
    {
     "name": "stdout",
     "output_type": "stream",
     "text": [
      "loss for epoch number 13: 0.24491542776377\n"
     ]
    },
    {
     "name": "stderr",
     "output_type": "stream",
     "text": [
      " 45%|█████████████████▎                    | 15/33 [1:32:46<1:51:35, 371.96s/it]"
     ]
    },
    {
     "name": "stdout",
     "output_type": "stream",
     "text": [
      "loss for epoch number 14: 0.2584203579556225\n"
     ]
    },
    {
     "name": "stderr",
     "output_type": "stream",
     "text": [
      " 48%|██████████████████▍                   | 16/33 [1:38:54<1:45:01, 370.67s/it]"
     ]
    },
    {
     "name": "stdout",
     "output_type": "stream",
     "text": [
      "loss for epoch number 15: 0.2121030213799661\n"
     ]
    },
    {
     "name": "stderr",
     "output_type": "stream",
     "text": [
      " 52%|███████████████████▌                  | 17/33 [1:45:04<1:38:50, 370.65s/it]"
     ]
    },
    {
     "name": "stdout",
     "output_type": "stream",
     "text": [
      "loss for epoch number 16: 0.20183950172270623\n"
     ]
    },
    {
     "name": "stderr",
     "output_type": "stream",
     "text": [
      " 55%|████████████████████▋                 | 18/33 [1:51:08<1:32:09, 368.65s/it]"
     ]
    },
    {
     "name": "stdout",
     "output_type": "stream",
     "text": [
      "loss for epoch number 17: 0.9883637726281231\n"
     ]
    },
    {
     "name": "stderr",
     "output_type": "stream",
     "text": [
      " 58%|█████████████████████▉                | 19/33 [1:57:30<1:26:56, 372.63s/it]"
     ]
    },
    {
     "name": "stdout",
     "output_type": "stream",
     "text": [
      "loss for epoch number 18: 0.1960319638055369\n"
     ]
    },
    {
     "name": "stderr",
     "output_type": "stream",
     "text": [
      " 61%|███████████████████████               | 20/33 [2:03:43<1:20:42, 372.50s/it]"
     ]
    },
    {
     "name": "stdout",
     "output_type": "stream",
     "text": [
      "loss for epoch number 19: 0.2413592008772412\n"
     ]
    },
    {
     "name": "stderr",
     "output_type": "stream",
     "text": [
      " 64%|████████████████████████▏             | 21/33 [2:09:51<1:14:16, 371.38s/it]"
     ]
    },
    {
     "name": "stdout",
     "output_type": "stream",
     "text": [
      "loss for epoch number 20: 0.9753486751238633\n"
     ]
    },
    {
     "name": "stderr",
     "output_type": "stream",
     "text": [
      " 67%|█████████████████████████▎            | 22/33 [2:16:00<1:07:56, 370.60s/it]"
     ]
    },
    {
     "name": "stdout",
     "output_type": "stream",
     "text": [
      "loss for epoch number 21: 0.16877581300390293\n"
     ]
    },
    {
     "name": "stderr",
     "output_type": "stream",
     "text": [
      " 70%|██████████████████████████▍           | 23/33 [2:22:09<1:01:40, 370.02s/it]"
     ]
    },
    {
     "name": "stdout",
     "output_type": "stream",
     "text": [
      "loss for epoch number 22: 0.9808061367831536\n"
     ]
    },
    {
     "name": "stderr",
     "output_type": "stream",
     "text": [
      " 73%|█████████████████████████████           | 24/33 [2:28:29<55:56, 373.00s/it]"
     ]
    },
    {
     "name": "stdout",
     "output_type": "stream",
     "text": [
      "loss for epoch number 23: 0.21223963002479426\n"
     ]
    },
    {
     "name": "stderr",
     "output_type": "stream",
     "text": [
      " 76%|██████████████████████████████▎         | 25/33 [2:34:34<49:24, 370.57s/it]"
     ]
    },
    {
     "name": "stdout",
     "output_type": "stream",
     "text": [
      "loss for epoch number 24: 0.3224975942202568\n"
     ]
    },
    {
     "name": "stderr",
     "output_type": "stream",
     "text": [
      " 79%|███████████████████████████████▌        | 26/33 [2:40:38<43:00, 368.64s/it]"
     ]
    },
    {
     "name": "stdout",
     "output_type": "stream",
     "text": [
      "loss for epoch number 25: 0.20195700896326368\n"
     ]
    },
    {
     "name": "stderr",
     "output_type": "stream",
     "text": [
      " 82%|████████████████████████████████▋       | 27/33 [2:46:44<36:47, 367.85s/it]"
     ]
    },
    {
     "name": "stdout",
     "output_type": "stream",
     "text": [
      "loss for epoch number 26: 0.28483642118681074\n"
     ]
    },
    {
     "name": "stderr",
     "output_type": "stream",
     "text": [
      " 85%|█████████████████████████████████▉      | 28/33 [2:52:50<30:36, 367.25s/it]"
     ]
    },
    {
     "name": "stdout",
     "output_type": "stream",
     "text": [
      "loss for epoch number 27: 0.9495753619969702\n"
     ]
    },
    {
     "name": "stderr",
     "output_type": "stream",
     "text": [
      " 88%|███████████████████████████████████▏    | 29/33 [2:59:00<24:33, 368.26s/it]"
     ]
    },
    {
     "name": "stdout",
     "output_type": "stream",
     "text": [
      "loss for epoch number 28: 0.22155703469575702\n"
     ]
    },
    {
     "name": "stderr",
     "output_type": "stream",
     "text": [
      " 91%|████████████████████████████████████▎   | 30/33 [3:05:07<18:23, 367.82s/it]"
     ]
    },
    {
     "name": "stdout",
     "output_type": "stream",
     "text": [
      "loss for epoch number 29: 0.9757119903485071\n"
     ]
    },
    {
     "name": "stderr",
     "output_type": "stream",
     "text": [
      " 94%|█████████████████████████████████████▌  | 31/33 [3:11:15<12:15, 367.83s/it]"
     ]
    },
    {
     "name": "stdout",
     "output_type": "stream",
     "text": [
      "loss for epoch number 30: 0.20392427541437014\n"
     ]
    },
    {
     "name": "stderr",
     "output_type": "stream",
     "text": [
      " 97%|██████████████████████████████████████▊ | 32/33 [3:17:25<06:08, 368.68s/it]"
     ]
    },
    {
     "name": "stdout",
     "output_type": "stream",
     "text": [
      "loss for epoch number 31: 0.22885378849059687\n"
     ]
    },
    {
     "name": "stderr",
     "output_type": "stream",
     "text": [
      "100%|████████████████████████████████████████| 33/33 [3:27:49<00:00, 377.88s/it]"
     ]
    },
    {
     "name": "stdout",
     "output_type": "stream",
     "text": [
      "loss for epoch number 32: 1.149643847331263\n"
     ]
    },
    {
     "name": "stderr",
     "output_type": "stream",
     "text": [
      "\n"
     ]
    },
    {
     "ename": "FileNotFoundError",
     "evalue": "[Errno 2] No such file or directory: '../Records/model/torch_model_4750.0_5.pkl'",
     "output_type": "error",
     "traceback": [
      "\u001b[0;31m---------------------------------------------------------------------------\u001b[0m",
      "\u001b[0;31mFileNotFoundError\u001b[0m                         Traceback (most recent call last)",
      "\u001b[0;32m/tmp/ipykernel_1076617/1679225701.py\u001b[0m in \u001b[0;36m<module>\u001b[0;34m\u001b[0m\n\u001b[0;32m----> 1\u001b[0;31m \u001b[0mmodel\u001b[0m\u001b[0;34m,\u001b[0m \u001b[0mloss\u001b[0m \u001b[0;34m=\u001b[0m \u001b[0mfit_MLR\u001b[0m\u001b[0;34m(\u001b[0m\u001b[0mevents_train\u001b[0m\u001b[0;34m,\u001b[0m \u001b[0mlabel_train\u001b[0m\u001b[0;34m,\u001b[0m \u001b[0mindices_train\u001b[0m\u001b[0;34m,\u001b[0m \u001b[0mtau_cla\u001b[0m\u001b[0;34m,\u001b[0m \u001b[0mpatch_size\u001b[0m\u001b[0;34m)\u001b[0m\u001b[0;34m\u001b[0m\u001b[0;34m\u001b[0m\u001b[0m\n\u001b[0m",
      "\u001b[0;32m~/Documents/projets/HOTS/aprovhots/notebook/aprovhots.py\u001b[0m in \u001b[0;36mfit_MLR\u001b[0;34m(events_train, label_train, indices_train, tau_cla, patch_R)\u001b[0m\n\u001b[1;32m    177\u001b[0m \u001b[0;34m\u001b[0m\u001b[0m\n\u001b[1;32m    178\u001b[0m     \u001b[0mpbar\u001b[0m\u001b[0;34m.\u001b[0m\u001b[0mclose\u001b[0m\u001b[0;34m(\u001b[0m\u001b[0;34m)\u001b[0m\u001b[0;34m\u001b[0m\u001b[0;34m\u001b[0m\u001b[0m\n\u001b[0;32m--> 179\u001b[0;31m     \u001b[0;32mwith\u001b[0m \u001b[0mopen\u001b[0m\u001b[0;34m(\u001b[0m\u001b[0;34mf'../Records/model/torch_model_{tau_cla}_{patch_R}.pkl'\u001b[0m\u001b[0;34m,\u001b[0m \u001b[0;34m'wb'\u001b[0m\u001b[0;34m)\u001b[0m \u001b[0;32mas\u001b[0m \u001b[0mfile\u001b[0m\u001b[0;34m:\u001b[0m\u001b[0;34m\u001b[0m\u001b[0;34m\u001b[0m\u001b[0m\n\u001b[0m\u001b[1;32m    180\u001b[0m         \u001b[0mpickle\u001b[0m\u001b[0;34m.\u001b[0m\u001b[0mdump\u001b[0m\u001b[0;34m(\u001b[0m\u001b[0;34m[\u001b[0m\u001b[0mlogistic_model\u001b[0m\u001b[0;34m,\u001b[0m \u001b[0mlosses\u001b[0m\u001b[0;34m]\u001b[0m\u001b[0;34m,\u001b[0m \u001b[0mfile\u001b[0m\u001b[0;34m,\u001b[0m \u001b[0mpickle\u001b[0m\u001b[0;34m.\u001b[0m\u001b[0mHIGHEST_PROTOCOL\u001b[0m\u001b[0;34m)\u001b[0m\u001b[0;34m\u001b[0m\u001b[0;34m\u001b[0m\u001b[0m\n\u001b[1;32m    181\u001b[0m     \u001b[0;32mreturn\u001b[0m \u001b[0mlogistic_model\u001b[0m\u001b[0;34m,\u001b[0m \u001b[0mlosses\u001b[0m\u001b[0;34m\u001b[0m\u001b[0;34m\u001b[0m\u001b[0m\n",
      "\u001b[0;31mFileNotFoundError\u001b[0m: [Errno 2] No such file or directory: '../Records/model/torch_model_4750.0_5.pkl'"
     ]
    }
   ],
   "source": [
    "model, loss = fit_MLR(events_train, label_train, indices_train, tau_cla, patch_size)"
   ]
  },
  {
   "cell_type": "code",
   "execution_count": 5,
   "id": "387d1ac1-0195-4f57-8fa0-12d87bc57392",
   "metadata": {},
   "outputs": [
    {
     "ename": "NameError",
     "evalue": "name 'loss' is not defined",
     "output_type": "error",
     "traceback": [
      "\u001b[0;31m---------------------------------------------------------------------------\u001b[0m",
      "\u001b[0;31mNameError\u001b[0m                                 Traceback (most recent call last)",
      "\u001b[0;32m/tmp/ipykernel_1076617/748678546.py\u001b[0m in \u001b[0;36m<module>\u001b[0;34m\u001b[0m\n\u001b[0;32m----> 1\u001b[0;31m \u001b[0mprint\u001b[0m\u001b[0;34m(\u001b[0m\u001b[0mloss\u001b[0m\u001b[0;34m)\u001b[0m\u001b[0;34m\u001b[0m\u001b[0;34m\u001b[0m\u001b[0m\n\u001b[0m",
      "\u001b[0;31mNameError\u001b[0m: name 'loss' is not defined"
     ]
    }
   ],
   "source": [
    "print(loss)"
   ]
  },
  {
   "cell_type": "code",
   "execution_count": 1,
   "id": "21c3f62e-55f4-4d65-9ad2-1a9c0b4abbf7",
   "metadata": {},
   "outputs": [
    {
     "name": "stdout",
     "output_type": "stream",
     "text": [
      "list of all files : \n",
      " ['only_sea_session_2.npy', 'only_sea_session_2_patches_5.npy', 'mixed_session_2.npy', 'only_ground_session_1_patches_5.npy', 'mixed_session_2_patches_5.npy', 'only_sea_session_3.npy', 'only_sea_session_1_patches_5.npy', 'mixed_session_3_patches_5.npy', 'mixed_session_1.npy', 'mixed_session_1_patches_5.npy', 'only_ground_session_1.npy', 'only_sea_session_3_patches_5.npy', 'only_sea_session_1.npy', 'mixed_session_3.npy'] \n",
      "\n",
      "only_sea_session_2.npy was already divided into patches\n",
      "only_sea_session_2_patches_5.npy was already divided into patches\n",
      "mixed_session_2.npy was already divided into patches\n",
      "only_ground_session_1_patches_5.npy was already divided into patches\n",
      "mixed_session_2_patches_5.npy was already divided into patches\n",
      "only_sea_session_3.npy was already divided into patches\n",
      "only_sea_session_1_patches_5.npy was already divided into patches\n",
      "mixed_session_3_patches_5.npy was already divided into patches\n",
      "mixed_session_1.npy was already divided into patches\n",
      "mixed_session_1_patches_5.npy was already divided into patches\n",
      "only_ground_session_1.npy was already divided into patches\n",
      "only_sea_session_3_patches_5.npy was already divided into patches\n",
      "only_sea_session_1.npy was already divided into patches\n",
      "mixed_session_3.npy was already divided into patches\n",
      "using these files: \n",
      " ['only_sea_session_2_patches_5.npy', 'only_sea_session_1_patches_5.npy', 'only_sea_session_3_patches_5.npy']\n",
      "using these files: \n",
      " ['only_ground_session_1_patches_5.npy']\n",
      "device -> cuda - num workers -> 0\n"
     ]
    },
    {
     "name": "stderr",
     "output_type": "stream",
     "text": [
      "100%|██████████████████████████████████████████████████████████████████████████████████████████████████████████████████████████████████████████████████████████████████████████████████████████████████████████████████████████████████████████| 1/1 [06:00<00:00, 360.50s/it]"
     ]
    },
    {
     "name": "stdout",
     "output_type": "stream",
     "text": [
      "loss for epoch number 0: 0.2515556236670712\n"
     ]
    },
    {
     "name": "stderr",
     "output_type": "stream",
     "text": [
      "\n"
     ]
    },
    {
     "ename": "FileNotFoundError",
     "evalue": "[Errno 2] No such file or directory: '../Records/model/2021-12-15_torch_model_4750.0_5.pkl'",
     "output_type": "error",
     "traceback": [
      "\u001b[0;31m---------------------------------------------------------------------------\u001b[0m",
      "\u001b[0;31mFileNotFoundError\u001b[0m                         Traceback (most recent call last)",
      "\u001b[0;32m~/Documents/projets/HOTS/aprovhots/notebook/2021-12-15_run_MLR_raw.py\u001b[0m in \u001b[0;36m<module>\u001b[0;34m\u001b[0m\n\u001b[1;32m     11\u001b[0m \u001b[0mevents_train\u001b[0m\u001b[0;34m,\u001b[0m \u001b[0mindices_train\u001b[0m\u001b[0;34m,\u001b[0m \u001b[0mlabel_train\u001b[0m \u001b[0;34m=\u001b[0m \u001b[0mget_labels_indices\u001b[0m\u001b[0;34m(\u001b[0m\u001b[0mdata_path\u001b[0m\u001b[0;34m,\u001b[0m \u001b[0mlabelz\u001b[0m\u001b[0;34m,\u001b[0m \u001b[0mpatch_size\u001b[0m\u001b[0;34m)\u001b[0m\u001b[0;34m\u001b[0m\u001b[0;34m\u001b[0m\u001b[0m\n\u001b[1;32m     12\u001b[0m \u001b[0;34m\u001b[0m\u001b[0m\n\u001b[0;32m---> 13\u001b[0;31m \u001b[0mmodel\u001b[0m\u001b[0;34m,\u001b[0m \u001b[0mloss\u001b[0m \u001b[0;34m=\u001b[0m \u001b[0mfit_MLR\u001b[0m\u001b[0;34m(\u001b[0m\u001b[0mevents_train\u001b[0m\u001b[0;34m,\u001b[0m \u001b[0mlabel_train\u001b[0m\u001b[0;34m,\u001b[0m \u001b[0mindices_train\u001b[0m\u001b[0;34m,\u001b[0m \u001b[0mtau_cla\u001b[0m\u001b[0;34m,\u001b[0m \u001b[0mpatch_size\u001b[0m\u001b[0;34m,\u001b[0m \u001b[0mdate\u001b[0m\u001b[0;34m=\u001b[0m\u001b[0;34m'2021-12-15'\u001b[0m\u001b[0;34m)\u001b[0m\u001b[0;34m\u001b[0m\u001b[0;34m\u001b[0m\u001b[0m\n\u001b[0m",
      "\u001b[0;32m~/Documents/projets/HOTS/aprovhots/notebook/aprovhots.py\u001b[0m in \u001b[0;36mfit_MLR\u001b[0;34m(events_train, label_train, indices_train, tau_cla, patch_R, date)\u001b[0m\n\u001b[1;32m    178\u001b[0m \u001b[0;34m\u001b[0m\u001b[0m\n\u001b[1;32m    179\u001b[0m     \u001b[0mpbar\u001b[0m\u001b[0;34m.\u001b[0m\u001b[0mclose\u001b[0m\u001b[0;34m(\u001b[0m\u001b[0;34m)\u001b[0m\u001b[0;34m\u001b[0m\u001b[0;34m\u001b[0m\u001b[0m\n\u001b[0;32m--> 180\u001b[0;31m     \u001b[0;32mwith\u001b[0m \u001b[0mopen\u001b[0m\u001b[0;34m(\u001b[0m\u001b[0;34mf'../Records/model/{date}_torch_model_{tau_cla}_{patch_R}.pkl'\u001b[0m\u001b[0;34m,\u001b[0m \u001b[0;34m'wb'\u001b[0m\u001b[0;34m)\u001b[0m \u001b[0;32mas\u001b[0m \u001b[0mfile\u001b[0m\u001b[0;34m:\u001b[0m\u001b[0;34m\u001b[0m\u001b[0;34m\u001b[0m\u001b[0m\n\u001b[0m\u001b[1;32m    181\u001b[0m         \u001b[0mpickle\u001b[0m\u001b[0;34m.\u001b[0m\u001b[0mdump\u001b[0m\u001b[0;34m(\u001b[0m\u001b[0;34m[\u001b[0m\u001b[0mlogistic_model\u001b[0m\u001b[0;34m,\u001b[0m \u001b[0mlosses\u001b[0m\u001b[0;34m]\u001b[0m\u001b[0;34m,\u001b[0m \u001b[0mfile\u001b[0m\u001b[0;34m,\u001b[0m \u001b[0mpickle\u001b[0m\u001b[0;34m.\u001b[0m\u001b[0mHIGHEST_PROTOCOL\u001b[0m\u001b[0;34m)\u001b[0m\u001b[0;34m\u001b[0m\u001b[0;34m\u001b[0m\u001b[0m\n\u001b[1;32m    182\u001b[0m     \u001b[0;32mreturn\u001b[0m \u001b[0mlogistic_model\u001b[0m\u001b[0;34m,\u001b[0m \u001b[0mlosses\u001b[0m\u001b[0;34m\u001b[0m\u001b[0;34m\u001b[0m\u001b[0m\n",
      "\u001b[0;31mFileNotFoundError\u001b[0m: [Errno 2] No such file or directory: '../Records/model/2021-12-15_torch_model_4750.0_5.pkl'"
     ]
    }
   ],
   "source": [
    "%run -i 2021-12-15_run_MLR_raw.py"
   ]
  },
  {
   "cell_type": "code",
   "execution_count": 8,
   "id": "cee0ae80-8de2-4b3d-ad1e-81dec90a1ec6",
   "metadata": {},
   "outputs": [],
   "source": [
    "import os\n",
    "result = os.path.join(path,'only_sea_session_2_patches_5.npy')"
   ]
  },
  {
   "cell_type": "code",
   "execution_count": 9,
   "id": "e1cca2e0-b077-403a-bcc3-5ceb303b3115",
   "metadata": {},
   "outputs": [
    {
     "data": {
      "text/plain": [
       "'/home/INT/grimaldi.a/Documents/projets/WP3/2021-12-06_simulator_data/only_sea_session_2_patches_5.npy'"
      ]
     },
     "execution_count": 9,
     "metadata": {},
     "output_type": "execute_result"
    }
   ],
   "source": [
    "result"
   ]
  },
  {
   "cell_type": "code",
   "execution_count": null,
   "id": "32de1a50-2079-4ac2-9f7d-ca989f1efaf7",
   "metadata": {},
   "outputs": [],
   "source": []
  }
 ],
 "metadata": {
  "kernelspec": {
   "display_name": "Python 3 (ipykernel)",
   "language": "python",
   "name": "python3"
  },
  "language_info": {
   "codemirror_mode": {
    "name": "ipython",
    "version": 3
   },
   "file_extension": ".py",
   "mimetype": "text/x-python",
   "name": "python",
   "nbconvert_exporter": "python",
   "pygments_lexer": "ipython3",
   "version": "3.8.10"
  }
 },
 "nbformat": 4,
 "nbformat_minor": 5
}
